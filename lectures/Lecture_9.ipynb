{
 "cells": [
  {
   "cell_type": "code",
   "execution_count": null,
   "metadata": {
    "slideshow": {
     "slide_type": "skip"
    }
   },
   "outputs": [],
   "source": [
    "# from IPython.display import Image\n",
    "from IPython.display import clear_output\n",
    "from IPython.display import FileLink, FileLinks"
   ]
  },
  {
   "cell_type": "markdown",
   "metadata": {
    "slideshow": {
     "slide_type": "slide"
    }
   },
   "source": [
    "## Introduction to\n",
    "\n",
    "![title](img/python-logo-master-flat.png)\n",
    "\n",
    "### for scientific computing\n",
    "\n",
    "#### - Lecture 9"
   ]
  },
  {
   "cell_type": "markdown",
   "metadata": {
    "slideshow": {
     "slide_type": "slide"
    }
   },
   "source": [
    "## Review last lecture\n",
    "\n",
    "- More control!\n",
    "\n",
    "  - variables scope\n",
    "  - `None`\n",
    "  - keyword arguments\n",
    "  - documentation, comments...\n",
    "  \n",
    "- Pandas\n"
   ]
  },
  {
   "cell_type": "markdown",
   "metadata": {
    "slideshow": {
     "slide_type": "slide"
    }
   },
   "source": [
    "#### Control loops\n",
    "\n",
    "- `break` a loop => stop it\n",
    "\n",
    "<center>\n",
    "<img src=\"img/break.png\" alt=\"break\" width=\"30%\"/>\n",
    "</center>\n"
   ]
  },
  {
   "cell_type": "markdown",
   "metadata": {
    "slideshow": {
     "slide_type": "slide"
    }
   },
   "source": [
    "#### Control loops\n",
    "\n",
    "- `continue` => go on to the next iteration\n",
    "\n",
    "<center>\n",
    "<img src=\"img/continue.png\" alt=\"break\" width=\"30%\"/>\n",
    "</center>"
   ]
  },
  {
   "cell_type": "markdown",
   "metadata": {
    "slideshow": {
     "slide_type": "slide"
    }
   },
   "source": [
    "#### Control statements\n",
    "\n",
    "- `pass`  => do nothing\n",
    "\n",
    "```py\n",
    "for line in file:\n",
    "    if len(line) > 40:\n",
    "        # TODO find out what to do here\n",
    "        pass\n",
    "    do_something(line)\n",
    "```"
   ]
  },
  {
   "cell_type": "code",
   "execution_count": 51,
   "metadata": {
    "slideshow": {
     "slide_type": "slide"
    }
   },
   "outputs": [
    {
     "name": "stdout",
     "output_type": "stream",
     "text": [
      "['Function element 1', 'Function element 2']\n"
     ]
    }
   ],
   "source": [
    "my_list = ['Initial element 1', 'Initial element 2']\n",
    "\n",
    "def function_returning_values():\n",
    "    return ['Function element 1', 'Function element 2']\n",
    "\n",
    "my_list = function_returning_values()\n",
    "print(my_list)"
   ]
  },
  {
   "cell_type": "code",
   "execution_count": 52,
   "metadata": {
    "slideshow": {
     "slide_type": "fragment"
    }
   },
   "outputs": [
    {
     "name": "stdout",
     "output_type": "stream",
     "text": [
      "['Initial element 1', 'Initial element 2']\n"
     ]
    }
   ],
   "source": [
    "my_list = ['Initial element 1', 'Initial element 2']\n",
    "\n",
    "def function_returning_values():\n",
    "    my_list = ['Function element 1', 'Function element 2']\n",
    "\n",
    "function_returning_values()\n",
    "print(my_list)"
   ]
  },
  {
   "cell_type": "code",
   "execution_count": 54,
   "metadata": {
    "slideshow": {
     "slide_type": "fragment"
    }
   },
   "outputs": [
    {
     "name": "stdout",
     "output_type": "stream",
     "text": [
      "None\n"
     ]
    }
   ],
   "source": [
    "my_list = ['Initial element 1', 'Initial element 2']\n",
    "\n",
    "def function_returning_values(li):\n",
    "    li = ['Function element 1', 'Function element 2']\n",
    "\n",
    "my_list = function_returning_values(my_list)\n",
    "print(my_list)"
   ]
  },
  {
   "cell_type": "code",
   "execution_count": 56,
   "metadata": {
    "slideshow": {
     "slide_type": "slide"
    }
   },
   "outputs": [
    {
     "name": "stdout",
     "output_type": "stream",
     "text": [
      "if not variable\n",
      "if variable is not None\n"
     ]
    }
   ],
   "source": [
    "# `None` means \"nothing\". Use it to check your variables\n",
    "\n",
    "variable = 0\n",
    "if variable:\n",
    "    print('if variable')\n",
    "if not variable:\n",
    "    print('if not variable')\n",
    "if variable is not None:\n",
    "    print('if variable is not None')\n",
    "if variable is None:\n",
    "    print('if variable is None')"
   ]
  },
  {
   "cell_type": "markdown",
   "metadata": {
    "slideshow": {
     "slide_type": "skip"
    }
   },
   "source": [
    "#### None\n",
    "\n",
    "`None` means \"nothing\". Is neither true nor false.\n",
    "\n",
    "```py\n",
    "if value:\n",
    "   print('value is not None')\n",
    "```"
   ]
  },
  {
   "cell_type": "markdown",
   "metadata": {
    "slideshow": {
     "slide_type": "slide"
    }
   },
   "source": [
    "#### Keyword arguments\n",
    "\n",
    "```py\n",
    "open(filename, encoding=\"utf-8\")\n",
    "```"
   ]
  },
  {
   "cell_type": "markdown",
   "metadata": {},
   "source": [
    "```py\n",
    "open(file, mode='r', buffering=-1, encoding=None, errors=None, newline=None, closefd=True, opener=None)\n",
    "```\n"
   ]
  },
  {
   "cell_type": "markdown",
   "metadata": {
    "slideshow": {
     "slide_type": "skip"
    }
   },
   "source": [
    "#### Keyword arguments\n",
    "\n",
    "- programmer: set default values\n",
    "- user: ignore parameters\n",
    "- better overview"
   ]
  },
  {
   "cell_type": "markdown",
   "metadata": {
    "slideshow": {
     "slide_type": "skip"
    }
   },
   "source": [
    "#### Using code\n",
    "\n",
    "- Python standard modules\n",
    "- Your colleague's code\n"
   ]
  },
  {
   "cell_type": "markdown",
   "metadata": {
    "slideshow": {
     "slide_type": "skip"
    }
   },
   "source": [
    "- `import pandas`\n",
    "- `import matplotlib.pyplot as plt`\n",
    "- `from matplotlib.pyplot import show`\n"
   ]
  },
  {
   "cell_type": "markdown",
   "metadata": {
    "slideshow": {
     "slide_type": "slide"
    }
   },
   "source": [
    "#### Documentation and getting help\n",
    "\n",
    "- `help(sys)`"
   ]
  },
  {
   "cell_type": "markdown",
   "metadata": {
    "slideshow": {
     "slide_type": "fragment"
    }
   },
   "source": [
    "- write comments       `# why do I do this?`\n",
    "- write documentation  `\"\"\"what is this? how do you use it?\"\"\"`"
   ]
  },
  {
   "cell_type": "markdown",
   "metadata": {
    "slideshow": {
     "slide_type": "slide"
    }
   },
   "source": [
    "#### Writing readable code"
   ]
  },
  {
   "cell_type": "markdown",
   "metadata": {
    "slideshow": {
     "slide_type": "fragment"
    }
   },
   "source": [
    "```py\n",
    "def f(a, b):\n",
    "    for c in open(a):\n",
    "        if c.startswith(b):\n",
    "            print(c)\n",
    "```"
   ]
  },
  {
   "cell_type": "markdown",
   "metadata": {
    "slideshow": {
     "slide_type": "fragment"
    }
   },
   "source": [
    "==>"
   ]
  },
  {
   "cell_type": "markdown",
   "metadata": {
    "slideshow": {
     "slide_type": "-"
    }
   },
   "source": [
    "```py\n",
    "def print_lines(filename, start):\n",
    "    \"\"\"Print all lines in the file that starts with the given string.\"\"\"\n",
    "    for line in open(filename):\n",
    "        if line.startswith(start):\n",
    "            print(line)\n",
    "```"
   ]
  },
  {
   "cell_type": "markdown",
   "metadata": {
    "slideshow": {
     "slide_type": "fragment"
    }
   },
   "source": [
    "**<center>Care about the names of your variables and functions</center>**"
   ]
  },
  {
   "cell_type": "markdown",
   "metadata": {
    "slideshow": {
     "slide_type": "slide"
    }
   },
   "source": [
    "### Pandas\n",
    "\n",
    "- Read tables\n",
    "```py\n",
    "dataframe = pandas.read_table('mydata.txt', sep='|', index_col=0)\n",
    "dataframe = pandas.read_csv('mydata.csv')\n",
    "```\n",
    "\n",
    "- Select rows and colums\n",
    "```py\n",
    "dataframe.columname\n",
    "dataframe.loc[rowname]\n",
    "dataframe.loc[dataframe.age == 20 ]\n",
    "```\n",
    "\n",
    "- Plot it\n",
    "```py\n",
    "dataframe.plot(kind='line', x='column1', y='column2')\n",
    "```"
   ]
  },
  {
   "cell_type": "markdown",
   "metadata": {
    "slideshow": {
     "slide_type": "slide"
    }
   },
   "source": [
    "## TODAY\n",
    "\n",
    "- Plotting (and a bit of numerical computation)\n",
    "- Regular expressions"
   ]
  },
  {
   "cell_type": "markdown",
   "metadata": {
    "slideshow": {
     "slide_type": "slide"
    }
   },
   "source": [
    "## Plotting with python\n",
    "\n",
    "* Hundreds of different ways of plotting the same thing\n",
    "    - Scatter plots, line plots, bar plots, box plots...\n",
    "* Different libraries too!\n",
    "    - pandas, matplotlib, seaborn...\n",
    "    \n",
    "<img src=\"img/many_plots.png\"/>"
   ]
  },
  {
   "cell_type": "markdown",
   "metadata": {
    "slideshow": {
     "slide_type": "-"
    }
   },
   "source": [
    "* Let's look at the basics with matplotlib, then you can adapt to your own problem"
   ]
  },
  {
   "cell_type": "markdown",
   "metadata": {
    "slideshow": {
     "slide_type": "slide"
    }
   },
   "source": [
    "## Basic plot\n",
    "\n",
    "* Take a list of numbers, plot them on the `y` axis\n",
    "* matplotlib will automatically use the index of each number as `x`"
   ]
  },
  {
   "cell_type": "code",
   "execution_count": 58,
   "metadata": {
    "slideshow": {
     "slide_type": "-"
    }
   },
   "outputs": [
    {
     "data": {
      "image/png": "[encoded data removed]",
      "text/plain": [
       "<Figure size 432x288 with 1 Axes>"
      ]
     },
     "metadata": {
      "needs_background": "light"
     },
     "output_type": "display_data"
    }
   ],
   "source": [
    "import matplotlib.pyplot as plt\n",
    "plt.plot([1, 2, 3, 4])\n",
    "plt.ylabel('some numbers')\n",
    "plt.show()"
   ]
  },
  {
   "cell_type": "markdown",
   "metadata": {
    "slideshow": {
     "slide_type": "slide"
    }
   },
   "source": [
    "## Basic plot\n",
    "\n",
    "* You might want to specify both `x` and `y`, then you pass two lists:"
   ]
  },
  {
   "cell_type": "code",
   "execution_count": 59,
   "metadata": {
    "slideshow": {
     "slide_type": "-"
    }
   },
   "outputs": [
    {
     "data": {
      "text/plain": [
       "Text(0, 0.5, 'numbers from second list')"
      ]
     },
     "execution_count": 59,
     "metadata": {},
     "output_type": "execute_result"
    },
    {
     "data": {
      "image/png": "[encoded data removed]",
      "text/plain": [
       "<Figure size 432x288 with 1 Axes>"
      ]
     },
     "metadata": {
      "needs_background": "light"
     },
     "output_type": "display_data"
    }
   ],
   "source": [
    "plt.plot([1, 2, 3, 4], [1, 4, 9, 16])\n",
    "plt.xlabel('numbers from first list')\n",
    "plt.ylabel('numbers from second list')"
   ]
  },
  {
   "cell_type": "markdown",
   "metadata": {
    "slideshow": {
     "slide_type": "slide"
    }
   },
   "source": [
    "## Line style\n",
    "\n",
    "* Follows matlab notation in a third optional variable\n",
    "    - [List of markers and colors](https://matplotlib.org/stable/api/_as_gen/matplotlib.pyplot.plot.html#matplotlib.pyplot.plot)\n",
    "* Limit axes start/end wit `.axis(xstart, xend, ystart, yend)`"
   ]
  },
  {
   "cell_type": "code",
   "execution_count": 61,
   "metadata": {},
   "outputs": [
    {
     "data": {
      "image/png": "[encoded data removed]",
      "text/plain": [
       "<Figure size 432x288 with 1 Axes>"
      ]
     },
     "metadata": {
      "needs_background": "light"
     },
     "output_type": "display_data"
    }
   ],
   "source": [
    "plt.plot([1, 2, 3, 4], [1, 4, 9, 16], 'ro') # r -> red o -> circular marker\n",
    "plt.axis([0, 6, 0, 20])\n",
    "plt.show()"
   ]
  },
  {
   "cell_type": "markdown",
   "metadata": {
    "slideshow": {
     "slide_type": "slide"
    }
   },
   "source": [
    "## Scientific plotting\n",
    "\n",
    "* Need to generate finer numeric intervals (not just lists of integers)\n",
    "    - Uses a new library: [numpy](https://numpy.org/doc/stable/user/absolute_beginners.html)\n",
    "* Let's say I want to plot a measurement taken every 0.2 seconds\n",
    "    - x axis: time (0s, 0.2s, 0.4s...)\n",
    "    - y axis: measurement at that time"
   ]
  },
  {
   "cell_type": "code",
   "execution_count": 106,
   "metadata": {
    "slideshow": {
     "slide_type": "-"
    }
   },
   "outputs": [
    {
     "data": {
      "image/png": "[encoded data removed]",
      "text/plain": [
       "<Figure size 432x288 with 1 Axes>"
      ]
     },
     "metadata": {
      "needs_background": "light"
     },
     "output_type": "display_data"
    }
   ],
   "source": [
    "import numpy as np\n",
    "\n",
    "# evenly sampled time at 200ms intervals\n",
    "timesteps = np.arange(0., 5., 0.2)\n",
    "\n",
    "# red dashes, blue squares and green triangles\n",
    "plt.plot(timesteps, timesteps, 'r--')\n",
    "plt.plot(timesteps, timesteps**2, 'bs')\n",
    "plt.plot(timesteps, timesteps**3, 'g^')\n",
    "plt.legend([\"linear\", \"square\", \"cubic\"])\n",
    "plt.xlabel(\"seconds\")\n",
    "plt.ylabel(\"mesurement\")\n",
    "plt.show()\n"
   ]
  },
  {
   "cell_type": "markdown",
   "metadata": {
    "slideshow": {
     "slide_type": "slide"
    }
   },
   "source": [
    "## Plotting from dictionaries or dataframes"
   ]
  },
  {
   "cell_type": "code",
   "execution_count": 105,
   "metadata": {
    "slideshow": {
     "slide_type": "-"
    }
   },
   "outputs": [
    {
     "data": {
      "text/plain": [
       "<matplotlib.collections.PathCollection at 0x7f38f96085b0>"
      ]
     },
     "execution_count": 105,
     "metadata": {},
     "output_type": "execute_result"
    },
    {
     "data": {
      "image/png": "[encoded data removed]",
      "text/plain": [
       "<Figure size 432x288 with 1 Axes>"
      ]
     },
     "metadata": {
      "needs_background": "light"
     },
     "output_type": "display_data"
    }
   ],
   "source": [
    "import pandas as pd\n",
    "import math\n",
    "\n",
    "# trees could also be a dictionary! trees = {\"age\": [...], \"Tree\": [...], \"circumference\": [...]}\n",
    "trees = pd.read_table('../downloads/Orange.tsv')\n",
    "trees[\"radius\"] = trees[\"circumference\"] / 2.0 / math.pi\n",
    "\n",
    "plt.scatter(\"age\", \"circumference\", c=\"Tree\", s=\"radius\", data=trees)\n"
   ]
  },
  {
   "cell_type": "markdown",
   "metadata": {
    "slideshow": {
     "slide_type": "slide"
    }
   },
   "source": [
    "## Plotting with categorical variables\n",
    "\n",
    "* You can plot strings (categories) and numbers together"
   ]
  },
  {
   "cell_type": "code",
   "execution_count": 108,
   "metadata": {
    "slideshow": {
     "slide_type": "-"
    }
   },
   "outputs": [
    {
     "data": {
      "image/png": "[encoded data removed]",
      "text/plain": [
       "<Figure size 432x288 with 1 Axes>"
      ]
     },
     "metadata": {
      "needs_background": "light"
     },
     "output_type": "display_data"
    }
   ],
   "source": [
    "names = ['group_a', 'group_b', 'group_c']\n",
    "values = [1, 10, 100]\n",
    "\n",
    "plt.bar(names, values)\n",
    "#plt.scatter(names, values)\n",
    "#plt.plot(names, values)\n",
    "plt.title('Categorical Plotting')\n",
    "plt.show()"
   ]
  },
  {
   "cell_type": "markdown",
   "metadata": {
    "slideshow": {
     "slide_type": "slide"
    }
   },
   "source": [
    "## Multiple plots in one (subplots)\n",
    "\n",
    "* Create a figure\n",
    "* Create subplots by using a jkl numeric code:\n",
    "    * j: number of rows\n",
    "    * k: number of columns\n",
    "    * l: number of current plot"
   ]
  },
  {
   "cell_type": "code",
   "execution_count": 113,
   "metadata": {
    "scrolled": false,
    "slideshow": {
     "slide_type": "slide"
    }
   },
   "outputs": [
    {
     "data": {
      "image/png": "[encoded data removed]",
      "text/plain": [
       "<Figure size 648x432 with 6 Axes>"
      ]
     },
     "metadata": {
      "needs_background": "light"
     },
     "output_type": "display_data"
    }
   ],
   "source": [
    "names = ['group_a', 'group_b', 'group_c']\n",
    "values = [1, 10, 100]\n",
    "values2 = [100, 10, 1]\n",
    "\n",
    "plt.figure(figsize=(9, 6))\n",
    "# 2 rows, 3 columns\n",
    "plt.subplot(231)\n",
    "plt.bar(names, values)\n",
    "plt.subplot(232)\n",
    "plt.scatter(names, values)\n",
    "plt.subplot(233)\n",
    "plt.plot(names, values)\n",
    "plt.subplot(234)\n",
    "plt.bar(names, values2)\n",
    "plt.subplot(235)\n",
    "plt.plot(names, values2)\n",
    "plt.subplot(236)\n",
    "plt.scatter(names, values2)\n",
    "plt.suptitle('Subplotting')\n",
    "plt.show()"
   ]
  },
  {
   "cell_type": "markdown",
   "metadata": {
    "slideshow": {
     "slide_type": "slide"
    }
   },
   "source": [
    "## Adding text to plots\n",
    "\n",
    "* Use .text() and specify `x, y` position for bottom-left corner of text\n",
    "* Can also add a title to the plot!"
   ]
  },
  {
   "cell_type": "code",
   "execution_count": 114,
   "metadata": {
    "slideshow": {
     "slide_type": "-"
    }
   },
   "outputs": [
    {
     "data": {
      "image/png": "[encoded data removed]",
      "text/plain": [
       "<Figure size 432x288 with 1 Axes>"
      ]
     },
     "metadata": {
      "needs_background": "light"
     },
     "output_type": "display_data"
    }
   ],
   "source": [
    "mu, sigma = 100, 15\n",
    "# make a gaussian distribution with mean mu, std sigma\n",
    "samples = mu + sigma * np.random.randn(10000)\n",
    "\n",
    "# the histogram of the data\n",
    "n, bins, patches = plt.hist(samples, bins=50, density=True, facecolor='g', alpha=0.75)\n",
    "\n",
    "plt.xlabel('Smarts')\n",
    "plt.ylabel('Probability')\n",
    "plt.title('Histogram of IQ')\n",
    "plt.text(60, .025, 'mu=100, sigma=15')\n",
    "plt.axis([40, 160, 0, 0.03])\n",
    "plt.grid(True)\n",
    "plt.show()"
   ]
  },
  {
   "cell_type": "markdown",
   "metadata": {
    "slideshow": {
     "slide_type": "slide"
    }
   },
   "source": [
    "## Logarithmic axes"
   ]
  },
  {
   "cell_type": "code",
   "execution_count": 50,
   "metadata": {
    "slideshow": {
     "slide_type": "-"
    }
   },
   "outputs": [
    {
     "data": {
      "image/png": "[encoded data removed]",
      "text/plain": [
       "<Figure size 432x288 with 2 Axes>"
      ]
     },
     "metadata": {
      "needs_background": "light"
     },
     "output_type": "display_data"
    }
   ],
   "source": [
    "# make up some exponential data\n",
    "x = np.arange(10)\n",
    "y = np.exp(x)\n",
    "\n",
    "# plot with various axes scales\n",
    "plt.figure()\n",
    "\n",
    "# linear\n",
    "plt.subplot(221)\n",
    "plt.plot(x, y)\n",
    "plt.yscale('linear')\n",
    "plt.title('linear')\n",
    "plt.grid(True)\n",
    "\n",
    "# log\n",
    "plt.subplot(222)\n",
    "plt.plot(x, y)\n",
    "plt.yscale('log')\n",
    "plt.title('log')\n",
    "plt.grid(True)\n"
   ]
  }
 ],
 "metadata": {
  "celltoolbar": "Slideshow",
  "kernelspec": {
   "display_name": "Python 3 (ipykernel)",
   "language": "python",
   "name": "python3"
  },
  "language_info": {
   "codemirror_mode": {
    "name": "ipython",
    "version": 3
   },
   "file_extension": ".py",
   "mimetype": "text/x-python",
   "name": "python",
   "nbconvert_exporter": "python",
   "pygments_lexer": "ipython3",
   "version": "3.9.4"
  },
  "rise": {
   "height": 900,
   "width": "90%"
  }
 },
 "nbformat": 4,
 "nbformat_minor": 2
}
