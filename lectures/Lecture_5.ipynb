{
 "cells": [
  {
   "cell_type": "markdown",
   "metadata": {
    "slideshow": {
     "slide_type": "slide"
    }
   },
   "source": [
    "## Introduction to\n",
    "\n",
    "![title](img/python-logo-master-flat.png)\n",
    "\n",
    "### for scientific computing\n",
    "\n",
    "#### - Lecture 5"
   ]
  },
  {
   "cell_type": "code",
   "execution_count": null,
   "metadata": {},
   "outputs": [],
   "source": []
  },
  {
   "cell_type": "markdown",
   "metadata": {
    "slideshow": {
     "slide_type": "slide"
    }
   },
   "source": [
    "## Exercise recap!\n",
    "\n",
    "### Find the movie with the highest rating\n",
    "\n",
    "<img src=\"img/header_imdb.png\" alt=\"Drawing\" style=\"width: 1000px;\"/> "
   ]
  },
  {
   "cell_type": "code",
   "execution_count": 51,
   "metadata": {
    "slideshow": {
     "slide_type": "-"
    }
   },
   "outputs": [
    {
     "name": "stdout",
     "output_type": "stream",
     "text": [
      "9.3 The Shawshank Redemption\n"
     ]
    }
   ],
   "source": [
    "movies_file = open(\"../downloads/250.imdb\", \"r\", encoding = \"utf-8\")\n",
    "\n",
    "max_rating = 0\n",
    "max_rating_title = \"\"\n",
    "\n",
    "for line in movies_file:\n",
    "    if not line[0] == \"#\":\n",
    "        line_strip = line.strip()\n",
    "        line_split = line_strip.split(\"|\")\n",
    "        rating = float(line_split[1])\n",
    "        title = line_split[-1]\n",
    "        if rating > max_rating:\n",
    "            max_rating = rating\n",
    "            max_rating_title = title\n",
    "            \n",
    "fh.close()\n",
    "print(max_rating, max_rating_title)"
   ]
  },
  {
   "cell_type": "markdown",
   "metadata": {
    "slideshow": {
     "slide_type": "slide"
    }
   },
   "source": [
    "## IMDb\n",
    "### Find the number of unique genres\n",
    "\n",
    "Watch out for the upper/lower cases!\n",
    "\n",
    "<img src=\"img/header_imdb.png\" alt=\"Drawing\" style=\"width: 1000px;\"/> "
   ]
  },
  {
   "cell_type": "code",
   "execution_count": 59,
   "metadata": {
    "slideshow": {
     "slide_type": "-"
    }
   },
   "outputs": [
    {
     "name": "stdout",
     "output_type": "stream",
     "text": [
      "The number of unique genres is: 22 from 250 movies\n"
     ]
    }
   ],
   "source": [
    "movies_file = open(\"../downloads/250.imdb\", \"r\", encoding = \"utf-8\")\n",
    "\n",
    "genres_list = []\n",
    "\n",
    "for line in movies_file:\n",
    "    if not line[0] == \"#\":\n",
    "        line_strip = line.strip()\n",
    "        line_split = line_strip.split(\"|\")\n",
    "        genres = line_split[5]\n",
    "        genres_split = genres.split(\",\")\n",
    "        for genre in genres_split:\n",
    "            if genre.lower() not in genres_list: # Drama != drama != DRAMA -> drama == drama == drama\n",
    "                genres_list.append(genre.lower())\n",
    "\n",
    "n_movies = 250\n",
    "print(\"The number of unique genres is: \" + str(len(genres_list)) + \" from \" + str(n_movies) + \" movies\")\n",
    "fh.close()"
   ]
  },
  {
   "cell_type": "markdown",
   "metadata": {
    "slideshow": {
     "slide_type": "slide"
    }
   },
   "source": [
    "## New type of string: f-strings\n",
    "\n",
    "### f-strings are awesome, use it all the time\n",
    "\n",
    "`print(\"There are \" + str(len(genres_list)) + \" unique genres\")`\n",
    "\n",
    "can be written as:\n",
    "\n",
    "`print(f\"There are {len(genres_list)} unique genres\")`\n",
    "\n",
    "* Remember to put the `f` before the first `\"` sign\n",
    "* Anything in the brackets will be automatically replaced inside the string"
   ]
  },
  {
   "cell_type": "code",
   "execution_count": 66,
   "metadata": {
    "slideshow": {
     "slide_type": "-"
    }
   },
   "outputs": [
    {
     "name": "stdout",
     "output_type": "stream",
     "text": [
      "There are 22 genres from 250.0 movies\n"
     ]
    }
   ],
   "source": [
    "# no need for concatenating!\n",
    "#n_genres = len(genres_list)\n",
    "#print(f\"There are {n_genres} unique genres\")\n",
    "\n",
    "# can put a variable, but also a function call (if the function returns something)\n",
    "#print(f\"There are {len(genres_list)} unique genres\")\n",
    "\n",
    "# can have multiple variables of different types\n",
    "#n_movies = \"250\"\n",
    "#n_movies = 250\n",
    "n_movies = 250.0\n",
    "print(f\"There are {len(genres_list)} genres from {n_movies} movies\")"
   ]
  },
  {
   "cell_type": "markdown",
   "metadata": {
    "slideshow": {
     "slide_type": "slide"
    }
   },
   "source": [
    "## New data type: `set`\n",
    "\n",
    "- A set contains an unordered collection of unique and immutable objects\n",
    "\n",
    "Syntax:  \n",
    "_For empty set:_  \n",
    "`setName = set()`  \n",
    "\n",
    "_For populated sets:_  \n",
    "`setName = {1,2,3,4,5}`"
   ]
  },
  {
   "cell_type": "markdown",
   "metadata": {
    "slideshow": {
     "slide_type": "slide"
    }
   },
   "source": [
    "### Common operations on `sets`\n",
    "\n",
    "`set.add(a)`  \n",
    "`len(set)`  \n",
    "`a in set` "
   ]
  },
  {
   "cell_type": "code",
   "execution_count": 74,
   "metadata": {
    "slideshow": {
     "slide_type": "-"
    }
   },
   "outputs": [
    {
     "data": {
      "text/plain": [
       "{100, 25, 3, '3.0'}"
      ]
     },
     "execution_count": 74,
     "metadata": {},
     "output_type": "execute_result"
    }
   ],
   "source": [
    "x = set()\n",
    "x.add(100)\n",
    "x.add(25)\n",
    "x.add(3)\n",
    "x.add('3.0')\n",
    "x.add(3)\n",
    "x\n",
    "#for i in x:\n",
    "#    print(type(i))\n",
    "#print(x)\n",
    "#x.append(4)\n",
    "##mySet = {2,5,1,3}\n",
    "#mySet.add(5)\n",
    "#mySet.add(4)\n",
    "#print(mySet)\n"
   ]
  },
  {
   "cell_type": "markdown",
   "metadata": {
    "slideshow": {
     "slide_type": "slide"
    }
   },
   "source": [
    "### Find the number of unique genres\n",
    "\n",
    "<img src=\"img/header_imdb.png\" alt=\"Drawing\" style=\"width: 1000px;\"/>  \n",
    "\n",
    "Modify your code to use sets"
   ]
  },
  {
   "cell_type": "code",
   "execution_count": 71,
   "metadata": {
    "slideshow": {
     "slide_type": "-"
    }
   },
   "outputs": [
    {
     "name": "stdout",
     "output_type": "stream",
     "text": [
      "There are 22 unique genres\n"
     ]
    }
   ],
   "source": [
    "fh   = open(\"../downloads/250.imdb\", \"r\", encoding = \"utf-8\")\n",
    "\n",
    "genres_list = set()\n",
    "\n",
    "for line in fh:\n",
    "    if not line[0] == \"#\":\n",
    "        line_strip = line.strip()\n",
    "        line_split = line_strip.split(\"|\")\n",
    "        genres = line_split[5]\n",
    "        genres_split = genres.split(\",\")\n",
    "        for genre in genres_split:\n",
    "            genres_list.add(genre.lower())\n",
    "\n",
    "print(\"There are \" + str(len(genres_list)) + \" unique genres\")\n",
    "fh.close()"
   ]
  },
  {
   "cell_type": "markdown",
   "metadata": {
    "slideshow": {
     "slide_type": "slide"
    }
   },
   "source": [
    "## IMDb\n",
    "\n",
    "### Find the number of movies per genre\n",
    "\n",
    "<img src=\"img/header_imdb.png\" alt=\"Drawing\" style=\"width: 1000px;\"/>  \n",
    "\n",
    "Hm, starting to be difficult now...\n",
    "\n",
    "Some solutions:\n",
    "   * Find the genres first, put them in a list, then for each genre count how many times it appears in the file\n",
    "   * Mantain two lists, one containing the genres, one where at the same position a counter is increased\n",
    "   * Two lists, one with unique genres, one with genres repeated, the count elements of first list in second list\n",
    "   * A list of tuples?"
   ]
  },
  {
   "cell_type": "code",
   "execution_count": 81,
   "metadata": {
    "slideshow": {
     "slide_type": "slide"
    }
   },
   "outputs": [
    {
     "name": "stdout",
     "output_type": "stream",
     "text": [
      "drama 182\n",
      "war 30\n",
      "adventure 55\n",
      "comedy 46\n",
      "family 24\n",
      "animation 17\n",
      "biography 25\n",
      "history 18\n",
      "action 31\n",
      "crime 62\n",
      "mystery 41\n",
      "thriller 65\n",
      "fantasy 29\n",
      "romance 24\n",
      "sci-fi 28\n",
      "western 8\n",
      "musical 5\n",
      "music 3\n",
      "historical 1\n",
      "sport 7\n",
      "film-noir 7\n",
      "horror 5\n"
     ]
    }
   ],
   "source": [
    "fh   = open(\"../downloads/250.imdb\", \"r\", encoding = \"utf-8\")\n",
    "\n",
    "genres_list = []\n",
    "\n",
    "for line in fh:\n",
    "    if not line[0] == \"#\":\n",
    "        line_strip = line.strip()\n",
    "        line_split = line_strip.split(\"|\")\n",
    "        genres = line_split[5]\n",
    "        genres_split = genres.split(\",\")\n",
    "        for genre in genres_split:\n",
    "            this_genres_index = 0\n",
    "            genre_found = False\n",
    "            for (stored_genre, genre_count) in genres_list:\n",
    "                print(genre, stored_genre, genre_count)\n",
    "                if genre.lower() == stored_genre:\n",
    "                    genre_found = True\n",
    "                    genres_list[this_genres_index] = (stored_genre, genre_count + 1)\n",
    "                    print(genres_list[this_genres_index])\n",
    "                else:\n",
    "                    this_genres_index += 1\n",
    "            if not genre_found:\n",
    "                genres_list.append((genre.lower(), 1)) # first movie for that genre!\n",
    "                                   \n",
    "\n",
    "print(genres_list)\n",
    "fh.close()"
   ]
  },
  {
   "cell_type": "markdown",
   "metadata": {
    "slideshow": {
     "slide_type": "slide"
    }
   },
   "source": [
    "## New data type: `dictionary`\n",
    "\n",
    "- A dictionary is a mapping of unique keys to values\n",
    "- Dictionaries are mutable\n",
    "\n",
    "Syntax:  \n",
    "`a = {}` (create empty dictionary)  \n",
    "`d = {'key1':1, 'key2':2, 'key3':3}`"
   ]
  },
  {
   "cell_type": "code",
   "execution_count": 82,
   "metadata": {
    "slideshow": {
     "slide_type": "-"
    }
   },
   "outputs": [
    {
     "data": {
      "text/plain": [
       "{'drama': 4, 'thriller': 2, 'romance': 5}"
      ]
     },
     "execution_count": 82,
     "metadata": {},
     "output_type": "execute_result"
    }
   ],
   "source": [
    "myDict = {'drama': 4, 'thriller': 2, 'romance': 5}\n",
    "myDict"
   ]
  },
  {
   "cell_type": "markdown",
   "metadata": {
    "slideshow": {
     "slide_type": "slide"
    }
   },
   "source": [
    "### Operations on Dictionaries"
   ]
  },
  {
   "cell_type": "markdown",
   "metadata": {
    "slideshow": {
     "slide_type": "-"
    }
   },
   "source": [
    "<img src=\"img/dictionary.png\" alt=\"Drawing\" style=\"width: 600px;\"/>  "
   ]
  },
  {
   "cell_type": "code",
   "execution_count": 98,
   "metadata": {
    "slideshow": {
     "slide_type": "-"
    }
   },
   "outputs": [
    {
     "name": "stdout",
     "output_type": "stream",
     "text": [
      "{'drama': 5, 'thriller': 2, 'romance': 5}\n"
     ]
    }
   ],
   "source": [
    "myDict = {'drama': 4,\n",
    "          'thriller': 2,\n",
    "          'romance': 5}\n",
    "myDict[\"drama\"] += 1\n",
    "print(myDict)\n",
    "#len(myDict)\n",
    "#myDict['drama']\n",
    "#myDict['horror'] = 2\n",
    "#del myDict['horror']\n",
    "#if \"adventure\" in myDict:\n",
    "#    print(myDict[\"adventure\"])\n",
    "#else:\n",
    "#    print(\"Couldn't find adventure movies\")\n",
    "#'drama' in myDict\n",
    "#myDict.keys()\n",
    "#myDict.items()\n",
    "#myDict.values()"
   ]
  },
  {
   "cell_type": "markdown",
   "metadata": {
    "slideshow": {
     "slide_type": "slide"
    }
   },
   "source": [
    "### Exercise"
   ]
  },
  {
   "cell_type": "code",
   "execution_count": null,
   "metadata": {
    "slideshow": {
     "slide_type": "-"
    }
   },
   "outputs": [],
   "source": [
    "myDict = {'drama': 182, \n",
    "          'war': 30, \n",
    "          'adventure': 55, \n",
    "          'comedy': 46, \n",
    "          'family': 24, \n",
    "          'animation': 17, \n",
    "          'biography': 25}"
   ]
  },
  {
   "cell_type": "markdown",
   "metadata": {
    "slideshow": {
     "slide_type": "-"
    }
   },
   "source": [
    "- How many entries are there in this dictionary?\n",
    "- How do you find out how many movies are in the genre 'comedy'?\n",
    "- You're not interested in biographies, delete this entry\n",
    "- You are however interested in fantasy, add that we have 29 movies of the genre fantasy to the list\n",
    "- What genres are listed in this dictionary?\n",
    "- You remembered another comedy movie, increase the number of comedies by one"
   ]
  },
  {
   "cell_type": "markdown",
   "metadata": {
    "slideshow": {
     "slide_type": "slide"
    }
   },
   "source": [
    "### Back to finding the number of movies per genre\n",
    "\n",
    "<img src=\"img/header_imdb.png\" alt=\"Drawing\" style=\"width: 1000px;\"/>  \n",
    "\n",
    "\n",
    "Hint! If the genre is not already in the dictionary, you have to add it first"
   ]
  },
  {
   "cell_type": "code",
   "execution_count": 100,
   "metadata": {
    "slideshow": {
     "slide_type": "-"
    }
   },
   "outputs": [
    {
     "name": "stdout",
     "output_type": "stream",
     "text": [
      "{'drama': 182, 'war': 30, 'adventure': 55, 'comedy': 46, 'family': 24, 'animation': 17, 'biography': 25, 'history': 18, 'action': 31, 'crime': 62, 'mystery': 41, 'thriller': 65, 'fantasy': 29, 'romance': 24, 'sci-fi': 28, 'western': 8, 'musical': 5, 'music': 3, 'historical': 1, 'sport': 7, 'film-noir': 7, 'horror': 5}\n"
     ]
    }
   ],
   "source": [
    "fh        = open('../downloads/250.imdb', 'r', encoding = 'utf-8')\n",
    "genreDict = {}     # create empty dictionary\n",
    "\n",
    "for line in fh:\n",
    "    if not line.startswith('#'):\n",
    "        cols  = line.strip().split('|')\n",
    "        genres = cols[5].strip()\n",
    "        genre_split = genres.split(',')\n",
    "        for genre in genre_split:\n",
    "            if genre.lower() not in genreDict:\n",
    "                genreDict[genre.lower()] = 1\n",
    "            else:\n",
    "                genreDict[genre.lower()] += 1\n",
    "\n",
    "fh.close()\n",
    "print(genreDict)"
   ]
  },
  {
   "cell_type": "markdown",
   "metadata": {
    "slideshow": {
     "slide_type": "slide"
    }
   },
   "source": [
    "### What is the average length of the movies (hours and minutes) in each genre?\n",
    "\n",
    "<img src=\"img/header_imdb.png\" alt=\"Drawing\" style=\"width: 1000px;\"/>  "
   ]
  },
  {
   "cell_type": "markdown",
   "metadata": {
    "slideshow": {
     "slide_type": "slide"
    }
   },
   "source": [
    "### Answer\n",
    "### What is the average length of the movies (hours and minutes) in each genre?\n",
    "<img src=\"img/average_length.png\" alt=\"Drawing\" style=\"width: 500px;\"/>  \n",
    "\n",
    "\n",
    "__Tip!__  \n",
    "Here you have to loop twice"
   ]
  },
  {
   "cell_type": "code",
   "execution_count": 117,
   "metadata": {
    "slideshow": {
     "slide_type": "-"
    }
   },
   "outputs": [
    {
     "name": "stdout",
     "output_type": "stream",
     "text": [
      "Average runtime for genre drama is: 2h13m\n",
      "Average runtime for genre war is: 2h30m\n",
      "Average runtime for genre adventure is: 2h12m\n",
      "Average runtime for genre comedy is: 1h52m\n",
      "Average runtime for genre family is: 1h44m\n",
      "Average runtime for genre animation is: 1h39m\n",
      "Average runtime for genre biography is: 2h29m\n",
      "Average runtime for genre history is: 2h47m\n",
      "Average runtime for genre action is: 2h18m\n",
      "Average runtime for genre crime is: 2h10m\n",
      "Average runtime for genre mystery is: 2h2m\n",
      "Average runtime for genre thriller is: 2h10m\n",
      "Average runtime for genre fantasy is: 2h1m\n",
      "Average runtime for genre romance is: 2h2m\n",
      "Average runtime for genre sci-fi is: 2h6m\n",
      "Average runtime for genre western is: 2h10m\n",
      "Average runtime for genre musical is: 1h56m\n",
      "Average runtime for genre music is: 2h24m\n",
      "Average runtime for genre historical is: 2h38m\n",
      "Average runtime for genre sport is: 2h16m\n",
      "Average runtime for genre film-noir is: 1h43m\n",
      "Average runtime for genre horror is: 1h58m\n"
     ]
    }
   ],
   "source": [
    "fh        = open('../downloads/250.imdb', 'r', encoding = 'utf-8')\n",
    "movie_runtime = {}\n",
    "movies_per_genre = {}\n",
    "\n",
    "for line in fh:\n",
    "    if not line.startswith('#'):\n",
    "        cols    = line.strip().split('|')\n",
    "        genres   = cols[5].strip()\n",
    "        genres_split   = genres.split(',')\n",
    "        runtime = int(cols[3])\n",
    "        for entry in genres_split:\n",
    "            if not entry.lower() in movie_runtime:\n",
    "                movie_runtime[entry.lower()] = runtime\n",
    "                movies_per_genre[entry.lower()] = 1\n",
    "            else:\n",
    "                movie_runtime[entry.lower()] += runtime\n",
    "                movies_per_genre[entry.lower()] += 1\n",
    "\n",
    "for genre in movie_runtime:\n",
    "    total_genre_runtime = movie_runtime[genre]\n",
    "    n_movies = movies_per_genre[genre]\n",
    "    \n",
    "    average_runtime_seconds = round(total_genre_runtime / n_movies)\n",
    "    #print(f\"Average runtime for genre {genre} is: {average_runtime_seconds} seconds\")\n",
    "    average_runtime_hours = average_runtime_seconds // 3600\n",
    "    #leftover_minutes = (average_runtime_seconds - average_runtime_hours * 3600) // 60\n",
    "    leftover_minutes = (average_runtime_seconds % 3600) // 60\n",
    "    print(f\"Average runtime for genre {genre} is: {average_runtime_hours}h{leftover_minutes}m\")"
   ]
  },
  {
   "cell_type": "code",
   "execution_count": 119,
   "metadata": {
    "slideshow": {
     "slide_type": "slide"
    }
   },
   "outputs": [
    {
     "name": "stdout",
     "output_type": "stream",
     "text": [
      "The average length for movies in genre drama is 2h14min\n",
      "The average length for movies in genre war is 2h30min\n",
      "The average length for movies in genre adventure is 2h13min\n",
      "The average length for movies in genre comedy is 1h53min\n",
      "The average length for movies in genre family is 1h44min\n",
      "The average length for movies in genre animation is 1h40min\n",
      "The average length for movies in genre biography is 2h30min\n",
      "The average length for movies in genre history is 2h47min\n",
      "The average length for movies in genre action is 2h18min\n",
      "The average length for movies in genre crime is 2h11min\n",
      "The average length for movies in genre mystery is 2h3min\n",
      "The average length for movies in genre thriller is 2h11min\n",
      "The average length for movies in genre fantasy is 2h2min\n",
      "The average length for movies in genre romance is 2h2min\n",
      "The average length for movies in genre sci-fi is 2h6min\n",
      "The average length for movies in genre western is 2h11min\n",
      "The average length for movies in genre musical is 1h57min\n",
      "The average length for movies in genre music is 2h24min\n",
      "The average length for movies in genre historical is 2h38min\n",
      "The average length for movies in genre sport is 2h17min\n",
      "The average length for movies in genre film-noir is 1h43min\n",
      "The average length for movies in genre horror is 1h59min\n"
     ]
    }
   ],
   "source": [
    "fh        = open('../downloads/250.imdb', 'r', encoding = 'utf-8')\n",
    "genreDict = {}\n",
    "\n",
    "for line in fh:\n",
    "    if not line.startswith('#'):\n",
    "        cols    = line.strip().split('|')\n",
    "        genre   = cols[5].strip()\n",
    "        glist   = genre.split(',')\n",
    "        runtime = cols[3]      # length of movie in seconds\n",
    "        for entry in glist:\n",
    "            if not entry.lower() in genreDict:\n",
    "                genreDict[entry.lower()] = [int(runtime)]   # add a list with the runtime\n",
    "            else:\n",
    "                genreDict[entry.lower()].append(int(runtime))   # append runtime to existing list\n",
    "fh.close()\n",
    "for genre in genreDict:      # loop over the genres in the dictionaries\n",
    "    average = sum(genreDict[genre])/len(genreDict[genre])  # calculate average length per genre\n",
    "    hours   = int(average/3600)                                 # format seconds to hours\n",
    "    minutes = (average - (3600*hours))/60             # format seconds to minutes\n",
    "    print('The average length for movies in genre '+genre\\\n",
    "          +' is '+str(hours)+'h'+str(round(minutes))+'min')"
   ]
  }
 ],
 "metadata": {
  "celltoolbar": "Slideshow",
  "kernelspec": {
   "display_name": "Python 3 (ipykernel)",
   "language": "python",
   "name": "python3"
  },
  "language_info": {
   "codemirror_mode": {
    "name": "ipython",
    "version": 3
   },
   "file_extension": ".py",
   "mimetype": "text/x-python",
   "name": "python",
   "nbconvert_exporter": "python",
   "pygments_lexer": "ipython3",
   "version": "3.9.4"
  }
 },
 "nbformat": 4,
 "nbformat_minor": 4
}
