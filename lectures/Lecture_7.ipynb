{
 "cells": [
  {
   "cell_type": "code",
   "execution_count": null,
   "metadata": {
    "slideshow": {
     "slide_type": "skip"
    }
   },
   "outputs": [],
   "source": [
    "from IPython.display import Image\n",
    "from IPython.display import clear_output\n",
    "from IPython.display import FileLink, FileLinks"
   ]
  },
  {
   "cell_type": "markdown",
   "metadata": {
    "cell_marker": "'''",
    "slideshow": {
     "slide_type": "slide"
    }
   },
   "source": [
    "## Introduction to\n",
    "\n",
    "![title](img/python-logo-master-flat.png)\n",
    "\n",
    "### for scientific computing\n",
    "\n",
    "#### - Lecture 7"
   ]
  },
  {
   "cell_type": "markdown",
   "metadata": {
    "slideshow": {
     "slide_type": "slide"
    }
   },
   "source": [
    "## No lecture on Wednesday, May 4th\n",
    "\n",
    "* Postpone to Friday, 13th\n",
    "* Same place, same time"
   ]
  },
  {
   "cell_type": "markdown",
   "metadata": {
    "slideshow": {
     "slide_type": "slide"
    }
   },
   "source": [
    "Start by doing today's quiz (Review Day 3)"
   ]
  },
  {
   "cell_type": "markdown",
   "metadata": {
    "cell_marker": "'''",
    "slideshow": {
     "slide_type": "slide"
    }
   },
   "source": [
    "#### Review: In what ways does the type of an object matter?"
   ]
  },
  {
   "cell_type": "code",
   "execution_count": 10,
   "metadata": {},
   "outputs": [
    {
     "name": "stdout",
     "output_type": "stream",
     "text": [
      "The price is a number!\n"
     ]
    }
   ],
   "source": [
    "row = 'sofa|2000|buy|Uppsala'\n",
    "fields = row.split('|')\n",
    "price = int(fields[1])\n",
    "if price == 2000:\n",
    "    print('The price is a number!')\n",
    "if price == '2000':\n",
    "    print('The price is a string!')"
   ]
  },
  {
   "cell_type": "code",
   "execution_count": 11,
   "metadata": {},
   "outputs": [
    {
     "name": "stdout",
     "output_type": "stream",
     "text": [
      "[30, 100, 2000]\n",
      "['100', '2000', '30']\n"
     ]
    }
   ],
   "source": [
    "print(sorted([ 2000,   30,   100 ]))\n",
    "print(sorted(['2000', '30', '100']))\n",
    "# Hint: is `'30' > '2000'`?"
   ]
  },
  {
   "cell_type": "markdown",
   "metadata": {
    "cell_marker": "'''",
    "slideshow": {
     "slide_type": "slide"
    }
   },
   "source": [
    "#### In what ways does the type of an object matter?\n",
    "\n",
    "- Each type store a specific type of information\n",
    "    - `int` for integers,\n",
    "    - `float` for floating point values (decimals),\n",
    "    - `str` for strings,\n",
    "    - `list` for lists,\n",
    "    - `dict` for dictionaries.\n",
    "\n",
    "- Each type supports different operations, functions and methods."
   ]
  },
  {
   "cell_type": "markdown",
   "metadata": {
    "cell_marker": "'''",
    "lines_to_next_cell": 0,
    "slideshow": {
     "slide_type": "slide"
    }
   },
   "source": [
    "- Each type supports different **operations**, functions and methods"
   ]
  },
  {
   "cell_type": "code",
   "execution_count": 12,
   "metadata": {
    "lines_to_next_cell": 0
   },
   "outputs": [
    {
     "data": {
      "text/plain": [
       "False"
      ]
     },
     "execution_count": 12,
     "metadata": {},
     "output_type": "execute_result"
    }
   ],
   "source": [
    "30 > 2000"
   ]
  },
  {
   "cell_type": "code",
   "execution_count": 13,
   "metadata": {
    "lines_to_next_cell": 0
   },
   "outputs": [
    {
     "data": {
      "text/plain": [
       "True"
      ]
     },
     "execution_count": 13,
     "metadata": {},
     "output_type": "execute_result"
    }
   ],
   "source": [
    "'30' > '2000'"
   ]
  },
  {
   "cell_type": "code",
   "execution_count": 14,
   "metadata": {},
   "outputs": [
    {
     "data": {
      "text/plain": [
       "False"
      ]
     },
     "execution_count": 14,
     "metadata": {},
     "output_type": "execute_result"
    }
   ],
   "source": [
    "30 > int('2000')"
   ]
  },
  {
   "cell_type": "markdown",
   "metadata": {
    "cell_marker": "'''",
    "lines_to_next_cell": 0,
    "slideshow": {
     "slide_type": "slide"
    }
   },
   "source": [
    "- Each type supports different operations, functions and **methods**"
   ]
  },
  {
   "cell_type": "code",
   "execution_count": 15,
   "metadata": {
    "lines_to_next_cell": 0
   },
   "outputs": [
    {
     "data": {
      "text/plain": [
       "'actg'"
      ]
     },
     "execution_count": 15,
     "metadata": {},
     "output_type": "execute_result"
    }
   ],
   "source": [
    "'ACTG'.lower()"
   ]
  },
  {
   "cell_type": "code",
   "execution_count": 17,
   "metadata": {},
   "outputs": [
    {
     "data": {
      "text/plain": [
       "3"
      ]
     },
     "execution_count": 17,
     "metadata": {},
     "output_type": "execute_result"
    }
   ],
   "source": [
    "int(\"3\")"
   ]
  },
  {
   "cell_type": "markdown",
   "metadata": {
    "cell_marker": "'''",
    "slideshow": {
     "slide_type": "slide"
    }
   },
   "source": [
    "- Convert to number: `'2000'` and `'0.5'` and `'1e9'`"
   ]
  },
  {
   "cell_type": "code",
   "execution_count": 18,
   "metadata": {},
   "outputs": [
    {
     "data": {
      "text/plain": [
       "2000.0"
      ]
     },
     "execution_count": 18,
     "metadata": {},
     "output_type": "execute_result"
    }
   ],
   "source": [
    "float('2000')"
   ]
  },
  {
   "cell_type": "code",
   "execution_count": 19,
   "metadata": {},
   "outputs": [
    {
     "data": {
      "text/plain": [
       "0.9"
      ]
     },
     "execution_count": 19,
     "metadata": {},
     "output_type": "execute_result"
    }
   ],
   "source": [
    "float('0.9')"
   ]
  },
  {
   "cell_type": "code",
   "execution_count": 20,
   "metadata": {},
   "outputs": [
    {
     "data": {
      "text/plain": [
       "1000000000.0"
      ]
     },
     "execution_count": 20,
     "metadata": {},
     "output_type": "execute_result"
    }
   ],
   "source": [
    "float('1e9')"
   ]
  },
  {
   "cell_type": "code",
   "execution_count": 21,
   "metadata": {
    "lines_to_next_cell": 2
   },
   "outputs": [
    {
     "data": {
      "text/plain": [
       "0.01"
      ]
     },
     "execution_count": 21,
     "metadata": {},
     "output_type": "execute_result"
    }
   ],
   "source": [
    "float('1e-2')"
   ]
  },
  {
   "cell_type": "code",
   "execution_count": null,
   "metadata": {},
   "outputs": [],
   "source": [
    "int('2000')"
   ]
  },
  {
   "cell_type": "code",
   "execution_count": null,
   "metadata": {},
   "outputs": [],
   "source": [
    "int('1.5')"
   ]
  },
  {
   "cell_type": "code",
   "execution_count": null,
   "metadata": {
    "lines_to_next_cell": 2
   },
   "outputs": [],
   "source": [
    "int('1e9')"
   ]
  },
  {
   "cell_type": "markdown",
   "metadata": {
    "cell_marker": "'''",
    "slideshow": {
     "slide_type": "slide"
    }
   },
   "source": [
    "- Convert to boolean: `1`, `0`, `'1'`, `'0'`, `''`, `{}`"
   ]
  },
  {
   "cell_type": "code",
   "execution_count": 22,
   "metadata": {
    "lines_to_next_cell": 0
   },
   "outputs": [
    {
     "data": {
      "text/plain": [
       "True"
      ]
     },
     "execution_count": 22,
     "metadata": {},
     "output_type": "execute_result"
    }
   ],
   "source": [
    "bool(1)"
   ]
  },
  {
   "cell_type": "code",
   "execution_count": 23,
   "metadata": {
    "lines_to_next_cell": 0
   },
   "outputs": [
    {
     "data": {
      "text/plain": [
       "False"
      ]
     },
     "execution_count": 23,
     "metadata": {},
     "output_type": "execute_result"
    }
   ],
   "source": [
    "bool(0)"
   ]
  },
  {
   "cell_type": "code",
   "execution_count": null,
   "metadata": {
    "lines_to_next_cell": 0
   },
   "outputs": [],
   "source": [
    "bool('1')"
   ]
  },
  {
   "cell_type": "code",
   "execution_count": 24,
   "metadata": {
    "lines_to_next_cell": 0
   },
   "outputs": [
    {
     "data": {
      "text/plain": [
       "True"
      ]
     },
     "execution_count": 24,
     "metadata": {},
     "output_type": "execute_result"
    }
   ],
   "source": [
    "bool('0')"
   ]
  },
  {
   "cell_type": "code",
   "execution_count": 25,
   "metadata": {
    "lines_to_next_cell": 0
   },
   "outputs": [
    {
     "data": {
      "text/plain": [
       "False"
      ]
     },
     "execution_count": 25,
     "metadata": {},
     "output_type": "execute_result"
    }
   ],
   "source": [
    "bool('')"
   ]
  },
  {
   "cell_type": "code",
   "execution_count": 26,
   "metadata": {},
   "outputs": [
    {
     "data": {
      "text/plain": [
       "False"
      ]
     },
     "execution_count": 26,
     "metadata": {},
     "output_type": "execute_result"
    }
   ],
   "source": [
    "bool({})"
   ]
  },
  {
   "cell_type": "markdown",
   "metadata": {
    "cell_marker": "'''",
    "slideshow": {
     "slide_type": "slide"
    }
   },
   "source": [
    "- Python and the truth: true and false values"
   ]
  },
  {
   "cell_type": "code",
   "execution_count": 27,
   "metadata": {
    "lines_to_next_cell": 2
   },
   "outputs": [
    {
     "name": "stdout",
     "output_type": "stream",
     "text": [
      "1 is true!\n",
      "0 is false!\n",
      "'' is false!\n",
      "'0' is true!\n",
      "'1' is true!\n",
      "[] is false!\n",
      "[0] is true!\n"
     ]
    }
   ],
   "source": [
    "values = [1, 0, '', '0', '1', [], [0]]\n",
    "for x in values:\n",
    "    if x:\n",
    "        print(repr(x), 'is true!')\n",
    "    else:\n",
    "        print(repr(x), 'is false!')"
   ]
  },
  {
   "cell_type": "markdown",
   "metadata": {
    "cell_marker": "'''",
    "slideshow": {
     "slide_type": "slide"
    }
   },
   "source": [
    "- Converting between strings and lists"
   ]
  },
  {
   "cell_type": "code",
   "execution_count": 28,
   "metadata": {},
   "outputs": [
    {
     "data": {
      "text/plain": [
       "['h', 'e', 'l', 'l', 'o']"
      ]
     },
     "execution_count": 28,
     "metadata": {},
     "output_type": "execute_result"
    }
   ],
   "source": [
    "list(\"hello\")"
   ]
  },
  {
   "cell_type": "code",
   "execution_count": 29,
   "metadata": {},
   "outputs": [
    {
     "data": {
      "text/plain": [
       "\"['h', 'e', 'l', 'l', 'o']\""
      ]
     },
     "execution_count": 29,
     "metadata": {},
     "output_type": "execute_result"
    }
   ],
   "source": [
    "str(['h', 'e', 'l', 'l', 'o'])"
   ]
  },
  {
   "cell_type": "code",
   "execution_count": 31,
   "metadata": {},
   "outputs": [
    {
     "data": {
      "text/plain": [
       "'h_e_l_l_o'"
      ]
     },
     "execution_count": 31,
     "metadata": {},
     "output_type": "execute_result"
    }
   ],
   "source": [
    "'_'.join(['h', 'e', 'l', 'l', 'o'])"
   ]
  },
  {
   "cell_type": "markdown",
   "metadata": {
    "cell_marker": "'''",
    "slideshow": {
     "slide_type": "slide"
    }
   },
   "source": [
    "#### Container types, when should you use which?\n",
    "\n",
    "- **lists**: when order is important\n",
    "- **dictionaries**: to keep track of the relation between keys and values\n",
    "- **sets**: to check for membership. No order, no duplicates."
   ]
  },
  {
   "cell_type": "code",
   "execution_count": 32,
   "metadata": {
    "lines_to_next_cell": 0
   },
   "outputs": [
    {
     "data": {
      "text/plain": [
       "['comedy', 'drama', 'drama', 'sci-fi']"
      ]
     },
     "execution_count": 32,
     "metadata": {},
     "output_type": "execute_result"
    }
   ],
   "source": [
    "genre_list = [\"comedy\", \"drama\", \"drama\", \"sci-fi\"]\n",
    "genre_list"
   ]
  },
  {
   "cell_type": "code",
   "execution_count": 33,
   "metadata": {
    "lines_to_next_cell": 0
   },
   "outputs": [
    {
     "data": {
      "text/plain": [
       "{'comedy', 'drama', 'sci-fi'}"
      ]
     },
     "execution_count": 33,
     "metadata": {},
     "output_type": "execute_result"
    }
   ],
   "source": [
    "genres = set(genre_list)\n",
    "genres"
   ]
  },
  {
   "cell_type": "code",
   "execution_count": 34,
   "metadata": {},
   "outputs": [
    {
     "data": {
      "text/plain": [
       "True"
      ]
     },
     "execution_count": 34,
     "metadata": {},
     "output_type": "execute_result"
    }
   ],
   "source": [
    "'drama' in genres"
   ]
  },
  {
   "cell_type": "code",
   "execution_count": null,
   "metadata": {
    "lines_to_next_cell": 0
   },
   "outputs": [],
   "source": [
    "genre_counts = {\"comedy\": 1, \"drama\": 2, \"sci-fi\": 1}\n",
    "genre_counts"
   ]
  },
  {
   "cell_type": "code",
   "execution_count": null,
   "metadata": {},
   "outputs": [],
   "source": [
    "movie = {\"rating\": 10.0, \"title\": \"Toy Story\"}\n",
    "movie \n"
   ]
  },
  {
   "cell_type": "markdown",
   "metadata": {
    "cell_marker": "'''",
    "slideshow": {
     "slide_type": "slide"
    }
   },
   "source": [
    "#### What is a function?\n",
    "\n",
    "- A named piece of code that performs a specific task\n",
    "- A relation (mapping) between inputs (arguments) and output (return value)\n",
    "\n",
    "```py\n",
    "def hello_function(number):\n",
    "    # print the user input\n",
    "    print(number)\n",
    "    number += 2\n",
    "    return 2\n",
    "    ```"
   ]
  },
  {
   "cell_type": "markdown",
   "metadata": {
    "cell_marker": "'''",
    "slideshow": {
     "slide_type": "slide"
    }
   },
   "source": [
    "### TODAY\n",
    "\n",
    "- More on functions: keyword arguments, return statement...\n",
    "- Reusing code:\n",
    "    - comments and documentation\n",
    "    - importing modules: using libraries\n",
    "- Pandas - explore your data!\n"
   ]
  },
  {
   "cell_type": "markdown",
   "metadata": {
    "slideshow": {
     "slide_type": "slide"
    }
   },
   "source": [
    "### More on functions: scope - global variables and local function variables"
   ]
  },
  {
   "cell_type": "code",
   "execution_count": 1,
   "metadata": {},
   "outputs": [
    {
     "name": "stdout",
     "output_type": "stream",
     "text": [
      "['Fargo', 'The Usual Suspects']\n"
     ]
    }
   ],
   "source": [
    "movies = ['Toy story', 'Home alone']\n",
    "\n",
    "def some_thriller_movies():\n",
    "    return ['Fargo', 'The Usual Suspects']\n",
    "\n",
    "movies = some_thriller_movies()\n",
    "print(movies)"
   ]
  },
  {
   "cell_type": "code",
   "execution_count": 40,
   "metadata": {
    "slideshow": {
     "slide_type": "fragment"
    }
   },
   "outputs": [
    {
     "name": "stdout",
     "output_type": "stream",
     "text": [
      "['Toy story', 'Home alone', 'Thor']\n"
     ]
    }
   ],
   "source": [
    "movies = ['Toy story', 'Home alone']\n",
    "\n",
    "def add_a_movie(list_of_movies):\n",
    "    list_of_movies.append(\"Thor\")\n",
    "    return list_of_movies\n",
    "\n",
    "add_a_movie(movies)\n",
    "print(movies)"
   ]
  },
  {
   "cell_type": "markdown",
   "metadata": {
    "slideshow": {
     "slide_type": "fragment"
    }
   },
   "source": [
    "Takeaway message: be careful with your variable names!"
   ]
  },
  {
   "cell_type": "markdown",
   "metadata": {
    "slideshow": {
     "slide_type": "fragment"
    }
   },
   "source": [
    "Also, global variables are usually not a good idea"
   ]
  },
  {
   "cell_type": "markdown",
   "metadata": {
    "cell_marker": "'''",
    "lines_to_next_cell": 1,
    "slideshow": {
     "slide_type": "slide"
    }
   },
   "source": [
    "### More on functions\n",
    "A function that counts the number of occurences of `'C'` in the argument string."
   ]
  },
  {
   "cell_type": "code",
   "execution_count": 41,
   "metadata": {
    "lines_to_next_cell": 1
   },
   "outputs": [
    {
     "name": "stdout",
     "output_type": "stream",
     "text": [
      "2 0\n"
     ]
    }
   ],
   "source": [
    "def cytosine_count(nucleotides):\n",
    "    count = 0\n",
    "    for x in nucleotides:\n",
    "        if x == 'c' or x == 'C':\n",
    "            count += 1\n",
    "    return count\n",
    "\n",
    "count1 = cytosine_count('CATATTAC')\n",
    "count2 = cytosine_count('tagtag')\n",
    "print(count1, count2)"
   ]
  },
  {
   "cell_type": "markdown",
   "metadata": {
    "cell_marker": "'''",
    "slideshow": {
     "slide_type": "slide"
    }
   },
   "source": [
    "- Functions that `return` are easier to repurpose than those that `print` their result"
   ]
  },
  {
   "cell_type": "code",
   "execution_count": 43,
   "metadata": {
    "lines_to_next_cell": 1
   },
   "outputs": [
    {
     "name": "stdout",
     "output_type": "stream",
     "text": [
      "5\n"
     ]
    }
   ],
   "source": [
    "total_count = cytosine_count('catattac') + cytosine_count('tactactac')\n",
    "print(total_count)"
   ]
  },
  {
   "cell_type": "code",
   "execution_count": 44,
   "metadata": {
    "scrolled": true
   },
   "outputs": [
    {
     "name": "stdout",
     "output_type": "stream",
     "text": [
      "2\n",
      "0\n"
     ]
    }
   ],
   "source": [
    "def print_cytosine_count(nucleotides):\n",
    "    count = 0\n",
    "    for x in nucleotides:\n",
    "        if x == 'c' or x == 'C':\n",
    "            count += 1\n",
    "    print(count)\n",
    "\n",
    "print_cytosine_count('CATATTAC')\n",
    "print_cytosine_count('tagtag')"
   ]
  },
  {
   "cell_type": "code",
   "execution_count": 45,
   "metadata": {},
   "outputs": [
    {
     "name": "stdout",
     "output_type": "stream",
     "text": [
      "2\n",
      "3\n"
     ]
    },
    {
     "ename": "TypeError",
     "evalue": "unsupported operand type(s) for +: 'NoneType' and 'NoneType'",
     "output_type": "error",
     "traceback": [
      "\u001b[0;31m---------------------------------------------------------------------------\u001b[0m",
      "\u001b[0;31mTypeError\u001b[0m                                 Traceback (most recent call last)",
      "Input \u001b[0;32mIn [45]\u001b[0m, in \u001b[0;36m<cell line: 1>\u001b[0;34m()\u001b[0m\n\u001b[0;32m----> 1\u001b[0m \u001b[43mprint_cytosine_count\u001b[49m\u001b[43m(\u001b[49m\u001b[38;5;124;43m'\u001b[39;49m\u001b[38;5;124;43mcatattac\u001b[39;49m\u001b[38;5;124;43m'\u001b[39;49m\u001b[43m)\u001b[49m\u001b[43m \u001b[49m\u001b[38;5;241;43m+\u001b[39;49m\u001b[43m \u001b[49m\u001b[43mprint_cytosine_count\u001b[49m\u001b[43m(\u001b[49m\u001b[38;5;124;43m'\u001b[39;49m\u001b[38;5;124;43mtactactac\u001b[39;49m\u001b[38;5;124;43m'\u001b[39;49m\u001b[43m)\u001b[49m\n",
      "\u001b[0;31mTypeError\u001b[0m: unsupported operand type(s) for +: 'NoneType' and 'NoneType'"
     ]
    }
   ],
   "source": [
    "print_cytosine_count('catattac') + print_cytosine_count('tactactac')"
   ]
  },
  {
   "cell_type": "markdown",
   "metadata": {
    "slideshow": {
     "slide_type": "slide"
    }
   },
   "source": [
    "- Functions without any `return` statement returns `None`\n",
    "- Example: list.append() returns `None`\n",
    "- Use `return` for all values you might want to use later in your program\n"
   ]
  },
  {
   "cell_type": "code",
   "execution_count": 76,
   "metadata": {
    "slideshow": {
     "slide_type": "-"
    }
   },
   "outputs": [
    {
     "name": "stdout",
     "output_type": "stream",
     "text": [
      "[1, 2, 3, 4]\n"
     ]
    }
   ],
   "source": [
    "l = [1, 2, 3]\n",
    "l.append(4)\n",
    "print(l)"
   ]
  },
  {
   "cell_type": "markdown",
   "metadata": {
    "cell_marker": "'''",
    "slideshow": {
     "slide_type": "slide"
    }
   },
   "source": [
    "#### Keyword arguments\n",
    "- A way to give a name explicitly to a function for clarity"
   ]
  },
  {
   "cell_type": "code",
   "execution_count": 55,
   "metadata": {},
   "outputs": [
    {
     "data": {
      "text/plain": [
       "['l', 'i', 'f', 'e']"
      ]
     },
     "execution_count": 55,
     "metadata": {},
     "output_type": "execute_result"
    }
   ],
   "source": [
    "\n",
    "sorted('file', reverse=True)"
   ]
  },
  {
   "cell_type": "code",
   "execution_count": 61,
   "metadata": {},
   "outputs": [
    {
     "data": {
      "text/plain": [
       "['gene_id', '\"unknown gene\"']"
      ]
     },
     "execution_count": 61,
     "metadata": {},
     "output_type": "execute_result"
    }
   ],
   "source": [
    "def split(sep, maxsplit, ...)\n",
    "\n",
    "attribute = 'gene_id \"unknown gene\"'\n",
    "attribute.split(sep=' ', maxsplit=1)"
   ]
  },
  {
   "cell_type": "code",
   "execution_count": 60,
   "metadata": {},
   "outputs": [
    {
     "name": "stdout",
     "output_type": "stream",
     "text": [
      "x= 1_"
     ]
    }
   ],
   "source": [
    "# print(value, ..., sep=' ', end='\\n', file=sys.stdout, flush=False)\n",
    "print('x=', end=' ')\n",
    "print('1', end=\"_\")"
   ]
  },
  {
   "cell_type": "markdown",
   "metadata": {
    "cell_marker": "'''",
    "slideshow": {
     "slide_type": "slide"
    }
   },
   "source": [
    "#### Keyword arguments\n",
    "- Order of keyword arguments do not matter\n",
    "\n",
    "```python\n",
    "open(file, mode='r', encoding=None) # some arguments omitted\n",
    "```\n",
    "\n",
    "- These mean the same:\n",
    "\n",
    "```python\n",
    "open('files/recipes.txt', 'w', encoding='utf-8')\n",
    "\n",
    "open('files/recipes.txt', mode='w', encoding='utf-8')\n",
    "\n",
    "open('files/recipes.txt', encoding='utf-8', mode='w')\n",
    "```"
   ]
  },
  {
   "cell_type": "markdown",
   "metadata": {
    "cell_marker": "'''",
    "lines_to_next_cell": 1,
    "slideshow": {
     "slide_type": "slide"
    }
   },
   "source": [
    "#### Defining functions taking keyword arguments\n",
    "\n",
    "- Just define them as usual:"
   ]
  },
  {
   "cell_type": "code",
   "execution_count": 64,
   "metadata": {},
   "outputs": [
    {
     "name": "stdout",
     "output_type": "stream",
     "text": [
      "The lecture is ongoing.\n",
      "The lecture is ongoing!\n",
      "The lecture is ongoing...\n"
     ]
    }
   ],
   "source": [
    "def format_sentence(subject, value, end):\n",
    "    return 'The ' + subject + ' is ' + value + end\n",
    "\n",
    "print(format_sentence('lecture', 'ongoing', '.'))\n",
    "\n",
    "print(format_sentence('lecture', 'ongoing', end='!'))\n",
    "\n",
    "print(format_sentence(subject='lecture', end='...', value='ongoing'))"
   ]
  },
  {
   "cell_type": "code",
   "execution_count": 65,
   "metadata": {},
   "outputs": [
    {
     "ename": "SyntaxError",
     "evalue": "positional argument follows keyword argument (620766180.py, line 1)",
     "output_type": "error",
     "traceback": [
      "\u001b[0;36m  Input \u001b[0;32mIn [65]\u001b[0;36m\u001b[0m\n\u001b[0;31m    print(format_sentence(subject='lecture', 'ongoing', '.'))\u001b[0m\n\u001b[0m                                                           ^\u001b[0m\n\u001b[0;31mSyntaxError\u001b[0m\u001b[0;31m:\u001b[0m positional argument follows keyword argument\n"
     ]
    }
   ],
   "source": [
    "print(format_sentence(subject='lecture', 'ongoing', '.'))"
   ]
  },
  {
   "cell_type": "markdown",
   "metadata": {
    "cell_marker": "'''"
   },
   "source": [
    "- Positional arguments comes first, keyword arguments after!"
   ]
  },
  {
   "cell_type": "markdown",
   "metadata": {
    "cell_marker": "'''",
    "lines_to_next_cell": 1,
    "slideshow": {
     "slide_type": "slide"
    }
   },
   "source": [
    "#### Defining functions with default arguments"
   ]
  },
  {
   "cell_type": "code",
   "execution_count": 68,
   "metadata": {},
   "outputs": [
    {
     "name": "stdout",
     "output_type": "stream",
     "text": [
      "The lecture is ongoing.\n"
     ]
    }
   ],
   "source": [
    "def format_sentence(subject, value, end='.'):\n",
    "    return 'The ' + subject + ' is ' + value + end\n",
    "\n",
    "print(format_sentence('lecture', 'ongoing'))\n",
    "\n",
    "#print(format_sentence('lecture', value='ongoing', end='...'))"
   ]
  },
  {
   "cell_type": "markdown",
   "metadata": {
    "cell_marker": "'''",
    "lines_to_next_cell": 1,
    "slideshow": {
     "slide_type": "slide"
    }
   },
   "source": [
    "#### Defining functions with optional arguments\n",
    "\n",
    "- Convention: use the object `None`"
   ]
  },
  {
   "cell_type": "code",
   "execution_count": 69,
   "metadata": {},
   "outputs": [
    {
     "name": "stdout",
     "output_type": "stream",
     "text": [
      "The lecture is ongoing.\n",
      "The lecture is ongoing and self-referential!\n"
     ]
    }
   ],
   "source": [
    "def format_sentence(subject, value, end='.', second_value=None):\n",
    "    if second_value is None:\n",
    "        return 'The ' + subject + ' is ' + value + end\n",
    "    else:\n",
    "        return 'The ' + subject + ' is ' + value + ' and ' + second_value + end\n",
    "\n",
    "print(format_sentence('lecture', 'ongoing'))\n",
    "\n",
    "print(format_sentence('lecture', 'ongoing',\n",
    "                      second_value='self-referential', end='!'))"
   ]
  },
  {
   "cell_type": "markdown",
   "metadata": {
    "cell_marker": "'''",
    "slideshow": {
     "slide_type": "slide"
    }
   },
   "source": [
    "#### Small detour: Python's value for missing values: `None`\n",
    "\n",
    "- Default value for optional arguments\n",
    "- Implicit return value of functions without a `return`"
   ]
  },
  {
   "cell_type": "code",
   "execution_count": 70,
   "metadata": {},
   "outputs": [
    {
     "data": {
      "text/plain": [
       "False"
      ]
     },
     "execution_count": 70,
     "metadata": {},
     "output_type": "execute_result"
    }
   ],
   "source": [
    "bool(None)"
   ]
  },
  {
   "cell_type": "code",
   "execution_count": 71,
   "metadata": {},
   "outputs": [
    {
     "data": {
      "text/plain": [
       "(False, False)"
      ]
     },
     "execution_count": 71,
     "metadata": {},
     "output_type": "execute_result"
    }
   ],
   "source": [
    "None == False, None == 0"
   ]
  },
  {
   "cell_type": "code",
   "execution_count": 74,
   "metadata": {},
   "outputs": [
    {
     "name": "stdout",
     "output_type": "stream",
     "text": [
      "a\n"
     ]
    }
   ],
   "source": [
    "def print_something(input1=None):\n",
    "    if input1 is None:\n",
    "        pass\n",
    "    else:\n",
    "        print(input1)\n",
    "        \n",
    "print_something(\"a\")"
   ]
  },
  {
   "cell_type": "code",
   "execution_count": 72,
   "metadata": {},
   "outputs": [
    {
     "name": "stdout",
     "output_type": "stream",
     "text": [
      "None is not true\n"
     ]
    }
   ],
   "source": [
    "if None:\n",
    "    print('None is true')\n",
    "else:\n",
    "    print('None is not true')"
   ]
  },
  {
   "cell_type": "markdown",
   "metadata": {
    "cell_marker": "'''",
    "slideshow": {
     "slide_type": "skip"
    }
   },
   "source": [
    "#### Comparing `None`\n",
    "\n",
    "- To differentiate `None` to the other false values such as `0`, `False` and `''` use `is None`:"
   ]
  },
  {
   "cell_type": "code",
   "execution_count": null,
   "metadata": {
    "slideshow": {
     "slide_type": "skip"
    }
   },
   "outputs": [],
   "source": [
    "counts = {'drama': 2, 'romance': 0}\n",
    "\n",
    "counts.get('romance'), counts.get('thriller')"
   ]
  },
  {
   "cell_type": "code",
   "execution_count": null,
   "metadata": {
    "slideshow": {
     "slide_type": "skip"
    }
   },
   "outputs": [],
   "source": [
    "counts.get('romance') is None"
   ]
  },
  {
   "cell_type": "code",
   "execution_count": null,
   "metadata": {
    "slideshow": {
     "slide_type": "skip"
    }
   },
   "outputs": [],
   "source": [
    "counts.get('thriller') is None"
   ]
  },
  {
   "cell_type": "markdown",
   "metadata": {
    "cell_marker": "'''",
    "slideshow": {
     "slide_type": "slide"
    }
   },
   "source": [
    "- Python and the truth, take two"
   ]
  },
  {
   "cell_type": "code",
   "execution_count": 75,
   "metadata": {
    "lines_to_next_cell": 2,
    "scrolled": true
   },
   "outputs": [
    {
     "name": "stdout",
     "output_type": "stream",
     "text": [
      "None is None\n",
      "None is false\n",
      "1 is true\n",
      "0 is false\n",
      "'' is false\n",
      "'0' is true\n",
      "'1' is true\n",
      "[] is false\n",
      "[0] is true\n"
     ]
    }
   ],
   "source": [
    "values = [None, 1, 0, '', '0', '1', [], [0]]\n",
    "for x in values:\n",
    "    if x is None:\n",
    "        print(repr(x), 'is None')\n",
    "    if not x:\n",
    "        print(repr(x), 'is false')\n",
    "    if x:\n",
    "        print(repr(x), 'is true')"
   ]
  },
  {
   "cell_type": "markdown",
   "metadata": {
    "cell_marker": "'''",
    "slideshow": {
     "slide_type": "slide"
    }
   },
   "source": [
    "#### Exercise\n",
    "\n",
    "Create a movie picker function. The function will pick the first movie that fits the user's requirements\n",
    "and print its title. The user can choose to pick a movie based on one or more of the four requirements `year`, `genre`, `minimal rating` or `maximal rating`.\n",
    "\n",
    "`>>> pick_movie(genre=\"Drama\")`\n",
    "\n",
    "`The Paths of Glory`\n",
    "\n",
    "`>>> pick_movie(year=2001)`\n",
    "\n",
    "`Donnie Darko`\n",
    "\n",
    "`>>> pick_movie(rating_min=8)`\n",
    "\n",
    "`Paths of Glory`\n",
    "\n",
    "`>>> pick_movie(year=2009, genre=\"Mystery\")`\n",
    "\n",
    "`The Secret in Their Eyes`"
   ]
  }
 ],
 "metadata": {
  "celltoolbar": "Slideshow",
  "jupytext": {
   "cell_markers": "'''"
  },
  "kernelspec": {
   "display_name": "Python 3 (ipykernel)",
   "language": "python",
   "name": "python3"
  },
  "language_info": {
   "codemirror_mode": {
    "name": "ipython",
    "version": 3
   },
   "file_extension": ".py",
   "mimetype": "text/x-python",
   "name": "python",
   "nbconvert_exporter": "python",
   "pygments_lexer": "ipython3",
   "version": "3.9.4"
  }
 },
 "nbformat": 4,
 "nbformat_minor": 4
}
