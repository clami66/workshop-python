{
 "cells": [
  {
   "cell_type": "code",
   "execution_count": null,
   "metadata": {
    "scrolled": false,
    "slideshow": {
     "slide_type": "skip"
    }
   },
   "outputs": [],
   "source": [
    "from IPython.display import Image\n",
    "from IPython.display import clear_output\n",
    "from IPython.display import FileLink, FileLinks\n",
    "import matplotlib.pylab as plt\n",
    "import pandas        as pd\n",
    "import os\n",
    "import time"
   ]
  },
  {
   "cell_type": "markdown",
   "metadata": {
    "slideshow": {
     "slide_type": "slide"
    }
   },
   "source": [
    "## Intro to Scientific Programming to:\n",
    "\n",
    "![title](img/python-logo-master-flat.png)\n",
    "\n",
    "#### - Day 1"
   ]
  },
  {
   "cell_type": "markdown",
   "metadata": {
    "slideshow": {
     "slide_type": "slide"
    }
   },
   "source": [
    "### About me\n",
    "\n",
    "\n",
    "<img src=\"img/claudio-mirabello.jpg\" alt=\"Drawing\" style=\"width: 220px;\"/>\n",
    "\n",
    "Claudio Mirabello, Ph.D.\n",
    "* Principal Research Engineer, bioinformatics division\n",
    "* Work at National Bioinformatics Infrastructure Sweden\n",
    "* Background as computer engineer\n",
    "* Expertise: machine learning, data science\n",
    "* Italian 🤌\n",
    "* Food motivated\n"
   ]
  },
  {
   "cell_type": "markdown",
   "metadata": {
    "slideshow": {
     "slide_type": "slide"
    }
   },
   "source": [
    "### About me\n",
    "\n",
    "\n",
    "<img src=\"img/claudio-mirabello.jpg\" alt=\"Drawing\" style=\"width: 220px;\"/>\n",
    "\n",
    "Claudio Mirabello, Ph.D.\n",
    "* Visiting address: B-huset 2B:586\n",
    "* E-mail: claudio.mirabello@liu.se\n",
    "* Fridays 10-11AM only\n"
   ]
  },
  {
   "cell_type": "markdown",
   "metadata": {
    "slideshow": {
     "slide_type": "slide"
    }
   },
   "source": [
    "### About the course\n",
    "\n",
    "* Course website:\n",
    "https://github.com/clami66/workshop-python/tree/0422/\n",
    "* Two lectures per week, for a total of 3 hours\n",
    "* Who knows how much we'll cover!\n",
    "* One final project applying what you have learned on your research\n",
    "* Please make sure you have installed conda and jupyter notebook\n",
    "* Based on [NBIS course for bioinformatics](https://github.com/NBISweden/workshop-python/)"
   ]
  },
  {
   "cell_type": "markdown",
   "metadata": {
    "slideshow": {
     "slide_type": "slide"
    }
   },
   "source": [
    "### About you\n",
    "\n",
    "- Short personal introduction:\n",
    "    - Name, department\n",
    "    - What do you work on?\n",
    "    - Why are you here?\n",
    "    - ..."
   ]
  },
  {
   "cell_type": "markdown",
   "metadata": {
    "slideshow": {
     "slide_type": "slide"
    }
   },
   "source": [
    "### What is programming?\n",
    "\n",
    "Wikipedia:  \n",
    "\n",
    "\"Computer programming is the process of building and designing an executable computer program for accomplishing a specific computing task\""
   ]
  },
  {
   "cell_type": "markdown",
   "metadata": {
    "slideshow": {
     "slide_type": "-"
    }
   },
   "source": [
    "### What can we use it for?\n",
    "\n",
    "Endless possibilities!  \n",
    "- compute complex equations from raw measurements\n",
    "- fit curves to your data\n",
    "- plotting of results\n",
    "- automatize your stuff -> no more manual mistakes!"
   ]
  },
  {
   "cell_type": "markdown",
   "metadata": {
    "slideshow": {
     "slide_type": "slide"
    }
   },
   "source": [
    "## Why Python?\n",
    "\n",
    "### Typical workflow\n",
    "\n",
    "1. Get data\n",
    "2. Clean, transform data in spreadsheet\n",
    "3. Copy-paste, copy-paste, copy-paste\n",
    "4. Run analysis & export results\n",
    "7. Realise the columns were not sorted correctly\n",
    "8. Go back to step 2, Repeat\n"
   ]
  },
  {
   "cell_type": "markdown",
   "metadata": {
    "slideshow": {
     "slide_type": "fragment"
    }
   },
   "source": [
    "<img src=\"img/picard.jpg\" alt=\"Drawing\" style=\"width: 400px;\"/>"
   ]
  },
  {
   "cell_type": "markdown",
   "metadata": {
    "slideshow": {
     "slide_type": "slide"
    }
   },
   "source": [
    "<h2>Course content</h2>\n",
    "\n",
    "- Core concepts about Python syntax: Data types, blocks and indentation, variable scoping, iteration, functions, methods and arguments  \n",
    "- Different ways to control program flow using loops and conditional tests  \n",
    "- (Regular expressions and pattern matching) \n",
    "- Writing functions and best-practice ways of making them usable  \n",
    "- Reading from and writing to files  \n",
    "- Using extra Python libraries:\n",
    "    - Numpy for scientific computing\n",
    "    - Matplotlib for plotting\n",
    "    - pandas for table handling"
   ]
  },
  {
   "cell_type": "markdown",
   "metadata": {
    "slideshow": {
     "slide_type": "slide"
    }
   },
   "source": [
    "<h2>Learning outcomes</h2>\n",
    "\n",
    "After this course you should be able to:\n",
    "\n",
    "- Describe and apply basic concepts in Python, such as:\n",
    "    - Loops\n",
    "    - If/else statements\n",
    "    - Functions\n",
    "    - Reading/writing to files\n",
    "- Being able to edit and run Python code\n",
    "- Write file-processing Python programs that produce output to the terminal and/or external files\n",
    "- Create stand-alone python programs to process your data\n",
    "- Know how to develop your skills in Python after the course (including debugging)"
   ]
  },
  {
   "cell_type": "markdown",
   "metadata": {
    "slideshow": {
     "slide_type": "slide"
    }
   },
   "source": [
    "## Some good advice\n",
    "\n",
    "- 5 weeks to learn Python is not much\n",
    "- Amount of information will decrease over days\n",
    "- Complexity of tasks will increase over days\n",
    "- Read the error messages!\n",
    "- Save all your code\n",
    "\n",
    "<u>How to seek help:</u>  \n",
    "- Google\n",
    "- Ask your neighbour\n",
    "- Ask me (slow response time)\n",
    "\n"
   ]
  },
  {
   "cell_type": "markdown",
   "metadata": {
    "slideshow": {
     "slide_type": "slide"
    }
   },
   "source": [
    "## Day 1\n",
    "\n",
    "- Computer architecture\n",
    "- Types and variables\n",
    "- Operations\n",
    "- Loops\n",
    "- if/else statements"
   ]
  },
  {
   "cell_type": "markdown",
   "metadata": {
    "slideshow": {
     "slide_type": "slide"
    }
   },
   "source": [
    "## Computer Architecture\n",
    "\n",
    "<img src=\"img/Von_Neumann_Architecture.png\"/>\n",
    "\n",
    "(src: [wikipedia](https://en.wikipedia.org/wiki/Von_Neumann_architecture))"
   ]
  },
  {
   "cell_type": "markdown",
   "metadata": {},
   "source": [
    "## Computer architecture\n",
    "\n",
    "* Very important to keep in mind how memory (RAM) works\n",
    "* (Will scribble a lot, good to take notes!)\n",
    "\n",
    "<img src=\"img/array.png\"/>\n",
    "\n",
    "(src: [Geeksforgeeks](https://www.geeksforgeeks.org/how-to-copy-elements-of-an-array-in-a-vector-in-c/))"
   ]
  },
  {
   "cell_type": "markdown",
   "metadata": {
    "slideshow": {
     "slide_type": "slide"
    }
   },
   "source": [
    "## Example of a simple Python script"
   ]
  },
  {
   "cell_type": "code",
   "execution_count": null,
   "metadata": {
    "scrolled": false,
    "slideshow": {
     "slide_type": "-"
    }
   },
   "outputs": [],
   "source": [
    "# A simple loop that adds 2 to a number\n",
    "i = 0\n",
    "while i < 10:\n",
    "    u = i + 2\n",
    "    print('u is' + str(u))\n",
    "    i += 1"
   ]
  },
  {
   "cell_type": "markdown",
   "metadata": {
    "slideshow": {
     "slide_type": "slide"
    }
   },
   "source": [
    "## Example of a simple Python script\n",
    "\n",
    "<img src=\"img/simple_while_loop_comment.png\" alt=\"Drawing\" style=\"width: 400px;\"/>\n",
    "\n",
    "### Comment\n",
    "\n",
    "All lines starting with # is interpreted by python as a comment and are not executed. Comments are important for documenting code and considered good practise when doing all types of programming"
   ]
  },
  {
   "cell_type": "markdown",
   "metadata": {
    "slideshow": {
     "slide_type": "slide"
    }
   },
   "source": [
    "## Example of a simple Python script\n",
    "\n",
    "<img src=\"img/simple_while_loop_literal.png\" alt=\"Drawing\" style=\"width: 400px;\"/>\n",
    "\n",
    "\n",
    "### Literals\n",
    "\n",
    "All literals have a type:\n",
    "\n",
    "- Strings (str) &emsp; &emsp; &nbsp;      ‘Hello’ “Hi”\n",
    "- Integers (int)\t&emsp; &emsp;             5\n",
    "- Floats (float)\t&emsp; &emsp;             3.14\n",
    "- Boolean (bool) &emsp; &nbsp;  True or False"
   ]
  },
  {
   "cell_type": "markdown",
   "metadata": {
    "slideshow": {
     "slide_type": "slide"
    }
   },
   "source": [
    "### Literals define values"
   ]
  },
  {
   "cell_type": "code",
   "execution_count": null,
   "metadata": {
    "scrolled": false,
    "slideshow": {
     "slide_type": "-"
    }
   },
   "outputs": [],
   "source": [
    "'this is a string'\n",
    "\"this is also a string\"\n",
    "3       # here we can put a comment so we know that this is an integer\n",
    "3.14    # this is a float\n",
    "True    # this is a boolean\n",
    "\n",
    "type('this is a string')"
   ]
  },
  {
   "cell_type": "markdown",
   "metadata": {
    "slideshow": {
     "slide_type": "fragment"
    }
   },
   "source": [
    "### Collections"
   ]
  },
  {
   "cell_type": "code",
   "execution_count": null,
   "metadata": {
    "scrolled": false,
    "slideshow": {
     "slide_type": "-"
    }
   },
   "outputs": [],
   "source": [
    "[3, 5, 7, 4, 99]       # this is a list of integers\n",
    "\n",
    "('a', 'b', 'c', 'd')   # this is a tuple of strings\n",
    "{'a', 'b', 'c'}        # this is a set of strings\n",
    "{'a':3, 'b':5, 'c':7}  # this is a dictionary with strings as keys and integers as values\n",
    "\n",
    "type([3, 5, 7, 4, 99])"
   ]
  },
  {
   "cell_type": "markdown",
   "metadata": {
    "slideshow": {
     "slide_type": "slide"
    }
   },
   "source": [
    "### What operations can we do with different values?\n",
    "\n",
    "That depends on their type:"
   ]
  },
  {
   "cell_type": "code",
   "execution_count": null,
   "metadata": {
    "scrolled": false,
    "slideshow": {
     "slide_type": "-"
    }
   },
   "outputs": [],
   "source": [
    "'a string'+' another string'\n",
    "#2 + 3.4\n",
    "#'a string ' * 3\n",
    "#'a string ' *3.4"
   ]
  },
  {
   "cell_type": "markdown",
   "metadata": {
    "slideshow": {
     "slide_type": "fragment"
    }
   },
   "source": [
    "<b>Type &emsp; &emsp; &emsp; &emsp;  Operations </b>\n",
    "\n",
    "int &emsp; &emsp; &emsp; &emsp; &emsp;        +  -  *  /  **  %  // ...  \n",
    "float &emsp; &emsp; &emsp; &emsp; &nbsp;      +  -  *  /  **  %  // ...  \n",
    "string &emsp; &emsp; &emsp; &ensp; &nbsp;           + *"
   ]
  },
  {
   "cell_type": "markdown",
   "metadata": {
    "slideshow": {
     "slide_type": "slide"
    }
   },
   "source": [
    "### Example of a simple Python script\n",
    "\n",
    "\n",
    "<img src=\"img/simple_while_loop_identifier.png\" alt=\"Drawing\" style=\"width: 300px;\"/> \n",
    "### Identifiers\n",
    "\n",
    "Identifiers are used to identify a program element in the code. \n",
    "\n",
    "For example:  \n",
    "- Variables\n",
    "- Functions\n",
    "- Modules\n",
    "- Classes "
   ]
  },
  {
   "cell_type": "markdown",
   "metadata": {
    "slideshow": {
     "slide_type": "slide"
    }
   },
   "source": [
    "### Variables\n",
    "\n",
    "Used to store values and to assign them a name.\n",
    "\n",
    "Examples:  \n",
    "- `i       = 0`\n",
    "- `counter = 5`\n",
    "- `snpname = 'rs2315487'`\n",
    "- `snplist = ['rs21354', 'rs214569']`    "
   ]
  },
  {
   "cell_type": "code",
   "execution_count": null,
   "metadata": {
    "scrolled": false,
    "slideshow": {
     "slide_type": "fragment"
    }
   },
   "outputs": [],
   "source": [
    "width  = 23564\n",
    "height = 10\n",
    "\n",
    "snpname = 'rs56483 '\n",
    "snplist = ['rs12345','rs458782']\n",
    "\n",
    "width * height"
   ]
  },
  {
   "cell_type": "markdown",
   "metadata": {
    "slideshow": {
     "slide_type": "slide"
    }
   },
   "source": [
    "#### How to correctly name a variable\n",
    "\n",
    "\n",
    "\n",
    "<img src=\"img/variable_name.png\" alt=\"Drawing\" style=\"width: 600px;\"/> \n",
    "\n",
    "__Allowed: &emsp; &emsp; &emsp; &emsp; &emsp; &emsp; &emsp; &emsp; &emsp; &emsp; &emsp;           Not allowed:__  \n",
    "Var\\_name  &emsp; &emsp; &emsp; &emsp; &emsp; &emsp; &emsp; &emsp; &emsp; &emsp; &emsp;                  2save  \n",
    "\\_total &emsp; &emsp; &emsp; &emsp; &emsp; &emsp; &emsp; &emsp; &emsp; &emsp; &emsp; &emsp; &ensp;  \\*important  \n",
    "aReallyLongName  &emsp; &emsp; &emsp; &emsp; &emsp; &emsp; &emsp; &emsp;                           Special%  \n",
    "with\\_digit\\_2 &emsp; &emsp; &emsp; &emsp; &emsp; &emsp; &emsp; &emsp; &emsp; &emsp; &nbsp;          With  &nbsp; spaces  \n",
    "dkfsjdsklut &emsp; _(well, allowed, but NOT recommended)_\n",
    "\n",
    "__NO special characters:__  \n",
    "\\+ - * $ % ; : , ? ! { } ( ) < > “ ‘ | \\ / @"
   ]
  },
  {
   "cell_type": "markdown",
   "metadata": {
    "slideshow": {
     "slide_type": "slide"
    }
   },
   "source": [
    "## Reserved keywords\n",
    "\n",
    "<img src=\"img/python_keywords.png\" alt=\"Drawing\" style=\"width: 600px;\"/> \n",
    "\n",
    "\n",
    "<b>These words can not be used as variable names</b>"
   ]
  },
  {
   "cell_type": "markdown",
   "metadata": {
    "slideshow": {
     "slide_type": "slide"
    }
   },
   "source": [
    "## Summary\n",
    "\n",
    "- Comment your code!\n",
    "- Literals define values and can have different types (strings, integers, floats, boolean)\n",
    "- Values can be collected in lists, tuples, sets, and dictionaries\n",
    "- The operation that can be performed on a certain value depends on the type\n",
    "- Variables are identified by a name and are used to store a value or collections of values\n",
    "- Name your variables using descriptive words without special characters and reserved keywords\n"
   ]
  },
  {
   "cell_type": "markdown",
   "metadata": {
    "slideshow": {
     "slide_type": "slide"
    }
   },
   "source": [
    "## NOTE!\n",
    "\n",
    "### How to get help?\n",
    "\n",
    "- [Google](https://www.google.com/) and [Stack overflow](https://stackoverflow.com/) are your best friends!\n",
    "- Official [python documentation](https://docs.python.org/3/)\n",
    "- Ask your neighbour\n",
    "- Ask me"
   ]
  },
  {
   "cell_type": "markdown",
   "metadata": {
    "slideshow": {
     "slide_type": "slide"
    }
   },
   "source": [
    "## Python standard library\n",
    "\n",
    "<img src=\"img/built-in_functions.png\" alt=\"Drawing\" style=\"width: 800px;\"/> \n",
    "\n"
   ]
  },
  {
   "cell_type": "markdown",
   "metadata": {
    "slideshow": {
     "slide_type": "slide"
    }
   },
   "source": [
    "### Example `print()` and `str()`\n",
    "\n",
    "<img src=\"img/simple_while_loop_functions.png\" alt=\"Drawing\" style=\"width: 400px;\"/> \n",
    "\n",
    "__Note!__  \n",
    "Here we format everything to a string before printing it"
   ]
  },
  {
   "cell_type": "markdown",
   "metadata": {
    "slideshow": {
     "slide_type": "slide"
    }
   },
   "source": [
    "## Python standard library\n",
    "\n",
    "<img src=\"img/built-in_functions.png\" alt=\"Drawing\" style=\"width: 700px;\"/> \n",
    "\n"
   ]
  },
  {
   "cell_type": "code",
   "execution_count": null,
   "metadata": {
    "scrolled": false,
    "slideshow": {
     "slide_type": "-"
    }
   },
   "outputs": [],
   "source": [
    "width  = 5\n",
    "height = 3.6\n",
    "snps   = ['rs123', 'rs5487']\n",
    "snp    = 'rs2546'\n",
    "active = True\n",
    "nums   = [2,4,6,8,4,5,2]\n",
    "\n",
    "float(width)"
   ]
  },
  {
   "cell_type": "markdown",
   "metadata": {
    "slideshow": {
     "slide_type": "slide"
    }
   },
   "source": [
    "## More on operations\n",
    "\n",
    "<img src=\"img/operations.png\" alt=\"Drawing\" style=\"width: 600px;\"/> \n"
   ]
  },
  {
   "cell_type": "code",
   "execution_count": null,
   "metadata": {
    "scrolled": false,
    "slideshow": {
     "slide_type": "-"
    }
   },
   "outputs": [],
   "source": [
    "x = 4\n",
    "y = 3\n",
    "z = [2, 3, 6, 3, 9, 23]\n",
    "pow(x, y)"
   ]
  },
  {
   "cell_type": "markdown",
   "metadata": {
    "slideshow": {
     "slide_type": "slide"
    }
   },
   "source": [
    "## Comparison operators\n",
    "\n",
    "<img src=\"img/comparison_operator.png\" alt=\"Drawing\" style=\"width: 600px;\"/> \n",
    "\n",
    "Can be used on int, float, str, and bool. Outputs a boolean."
   ]
  },
  {
   "cell_type": "code",
   "execution_count": null,
   "metadata": {
    "scrolled": false,
    "slideshow": {
     "slide_type": "-"
    }
   },
   "outputs": [],
   "source": [
    "x = 5\n",
    "y = 3\n",
    "\n",
    "y > x"
   ]
  },
  {
   "cell_type": "markdown",
   "metadata": {
    "slideshow": {
     "slide_type": "slide"
    }
   },
   "source": [
    "## Logical operators\n",
    "\n",
    "<img src=\"img/logical_operator.png\" alt=\"Drawing\" style=\"width: 600px;\"/> \n",
    "\n",
    "\n",
    "\n",
    "## Membership operators\n",
    "\n",
    "<img src=\"img/membership_operator.png\" alt=\"Drawing\" style=\"width: 600px;\"/> \n"
   ]
  },
  {
   "cell_type": "code",
   "execution_count": null,
   "metadata": {
    "scrolled": false,
    "slideshow": {
     "slide_type": "-"
    }
   },
   "outputs": [],
   "source": [
    "x = 2\n",
    "y = 3\n",
    "\n",
    "x == 2 and y == 5\n",
    "\n",
    "#x = [2,4,7,3,5,9]\n",
    "#y = ['a','b','c']\n",
    "\n",
    "#2 in x\n",
    "#4 in x and 'd' in y"
   ]
  },
  {
   "cell_type": "code",
   "execution_count": null,
   "metadata": {
    "scrolled": false,
    "slideshow": {
     "slide_type": "slide"
    }
   },
   "outputs": [],
   "source": [
    "# A simple loop that adds 2 to a number and checks if the number is even\n",
    "i    = 0\n",
    "even = [2,4,6,8,10]\n",
    "while i < 10:\n",
    "    u = i + 2\n",
    "    print('u is '+str(u)+'. Is this number even? '+str(u in even))\n",
    "    i += 1"
   ]
  },
  {
   "cell_type": "code",
   "execution_count": null,
   "metadata": {
    "scrolled": false,
    "slideshow": {
     "slide_type": "slide"
    }
   },
   "outputs": [],
   "source": [
    "# A simple loop that adds 2 to a number, check if number is even and below 5\n",
    "i    = 0\n",
    "even = [2,4,6,8,10]\n",
    "while i < 10:\n",
    "    u = i + 2\n",
    "    print('u is '+str(u)+'. Is this number even and below 5? '+\\\n",
    "          str(u in even and u < 5))\n",
    "    i += 1"
   ]
  },
  {
   "cell_type": "markdown",
   "metadata": {
    "slideshow": {
     "slide_type": "slide"
    }
   },
   "source": [
    "### Order of precedence\n",
    "\n",
    "There is an order of precedence for all operators:\n",
    "\n",
    "<img src=\"img/order_of_precedence.png\" alt=\"Drawing\" style=\"width: 600px;\"/> \n"
   ]
  },
  {
   "cell_type": "markdown",
   "metadata": {
    "slideshow": {
     "slide_type": "slide"
    }
   },
   "source": [
    "### Word of caution when using operators"
   ]
  },
  {
   "cell_type": "code",
   "execution_count": 8,
   "metadata": {
    "scrolled": false,
    "slideshow": {
     "slide_type": "fragment"
    }
   },
   "outputs": [
    {
     "data": {
      "text/plain": [
       "True"
      ]
     },
     "execution_count": 8,
     "metadata": {},
     "output_type": "execute_result"
    }
   ],
   "source": [
    "x = 5\n",
    "y = 7\n",
    "z = 2\n",
    "x == 5 and y < 7 or z > 1\n",
    "\n",
    "#x > 6 and (y == 7 or z > 1)\n",
    "\n",
    "# and binds stronger than or\n",
    "#x > 4 or y == 6 and z > 3\n",
    "#x > 4 or (y == 6 and z > 3)\n",
    "#(x > 4 or y == 6) and z > 3"
   ]
  },
  {
   "cell_type": "code",
   "execution_count": 11,
   "metadata": {
    "scrolled": false,
    "slideshow": {
     "slide_type": "fragment"
    }
   },
   "outputs": [
    {
     "data": {
      "text/plain": [
       "False"
      ]
     },
     "execution_count": 11,
     "metadata": {},
     "output_type": "execute_result"
    }
   ],
   "source": [
    "# BEWARE!\n",
    "x = 5\n",
    "y = 8\n",
    "\n",
    "#xx == 6 or xxx == 6 or x > 2\n",
    "x > 42 or (y < 7 and xx > 1000)"
   ]
  },
  {
   "cell_type": "markdown",
   "metadata": {
    "slideshow": {
     "slide_type": "fragment"
    }
   },
   "source": [
    "__Python does short-circuit evaluation of operators__"
   ]
  },
  {
   "cell_type": "markdown",
   "metadata": {
    "slideshow": {
     "slide_type": "slide"
    }
   },
   "source": [
    "## More on sequences <small><b>(For example strings and lists)</b></small>\n",
    "\n",
    "Lists (and strings) are an ORDERED collection of elements where every element can be accessed through an index.\n",
    "\n",
    "<img src=\"img/operations_on_sequences.png\" alt=\"Drawing\" style=\"width: 600px;\"/> \n"
   ]
  },
  {
   "cell_type": "code",
   "execution_count": 17,
   "metadata": {
    "scrolled": false,
    "slideshow": {
     "slide_type": "-"
    }
   },
   "outputs": [
    {
     "data": {
      "text/plain": [
       "True"
      ]
     },
     "execution_count": 17,
     "metadata": {},
     "output_type": "execute_result"
    }
   ],
   "source": [
    "l = [2,3,4,5,3,7,5,9]\n",
    "s = 'some longrandomstring'\n",
    "\n",
    "'o' in s\n",
    "\n",
    "#l[2]\n",
    "#s[0:7]\n",
    "#s[0:8:2]\n",
    "#s[-2]\n",
    "#l[0] = 42\n",
    "#l\n",
    "#s[0] = 'S'"
   ]
  },
  {
   "cell_type": "markdown",
   "metadata": {
    "slideshow": {
     "slide_type": "slide"
    }
   },
   "source": [
    "## Mutable vs Immutable objects\n",
    "\n",
    "<br></br>\n",
    "\n",
    "Mutable objects can be altered after creation, while immutable objects can't.\n",
    "\n",
    "\n",
    "__Immutable objects:&emsp;&emsp;&emsp;&emsp;&emsp;&emsp;&emsp;Mutable objects:__  \n",
    "- `int`    &emsp;&emsp;&emsp;&emsp;&emsp;&emsp;&emsp;&emsp;&emsp;&emsp;&emsp;&emsp;&emsp;  &bull;  `list`\n",
    "- `float` &emsp;&emsp;&emsp;&emsp;&emsp;&emsp;&emsp;&emsp;&emsp;&emsp;&ensp;&ensp;&ensp;&ensp;  &bull;  `set`\n",
    "- `bool` &emsp;&emsp;&emsp;&emsp;&emsp;&emsp;&emsp;&emsp;&emsp;&emsp;&emsp;&ensp;&ensp;&ensp; &bull;  `dict`\n",
    "- `str`\n",
    "- `tuple`\n"
   ]
  },
  {
   "cell_type": "markdown",
   "metadata": {
    "slideshow": {
     "slide_type": "slide"
    }
   },
   "source": [
    "## Operations on mutable sequences\n",
    "\n",
    "\n",
    "\n",
    "<img src=\"img/operations_on_mutable_sequences.png\" alt=\"Drawing\" style=\"width: 600px;\"/> "
   ]
  },
  {
   "cell_type": "code",
   "execution_count": null,
   "metadata": {
    "scrolled": false,
    "slideshow": {
     "slide_type": "-"
    }
   },
   "outputs": [],
   "source": [
    "s = [0,1,2,3,4,5,6,7,8,9]\n",
    "s.insert(5,10)\n",
    "#s.reverse()\n",
    "#s"
   ]
  },
  {
   "cell_type": "markdown",
   "metadata": {
    "slideshow": {
     "slide_type": "slide"
    }
   },
   "source": [
    "## Summary\n",
    "\n",
    "- The python standard library has many built-in functions regularly used\n",
    "- Operators are used to carry out computations on different values\n",
    "- Three types of operators; comparison, logical, and membership\n",
    "- Order of precedence crucial!\n",
    "- Mutable object can be changed after creation while immutable objects cannot be changed\n",
    "\n",
    "<br></br>\n",
    "<br></br>\n"
   ]
  },
  {
   "cell_type": "markdown",
   "metadata": {
    "slideshow": {
     "slide_type": "slide"
    }
   },
   "source": [
    "## Loops in Python"
   ]
  },
  {
   "cell_type": "code",
   "execution_count": null,
   "metadata": {
    "scrolled": true,
    "slideshow": {
     "slide_type": "-"
    }
   },
   "outputs": [],
   "source": [
    "fruits = ['apple','pear','banana','orange']\n",
    "\n",
    "print(fruits[0])\n",
    "print(fruits[1])\n",
    "print(fruits[2])\n",
    "print(fruits[3])"
   ]
  },
  {
   "cell_type": "code",
   "execution_count": null,
   "metadata": {
    "scrolled": false,
    "slideshow": {
     "slide_type": "-"
    }
   },
   "outputs": [],
   "source": [
    "fruits = ['apple','pear','banana','orange']\n",
    "\n",
    "for fruit in fruits:\n",
    "    print(fruit)\n",
    "\n",
    "#    print('end')\n",
    "#print('done')"
   ]
  },
  {
   "cell_type": "markdown",
   "metadata": {
    "slideshow": {
     "slide_type": "-"
    }
   },
   "source": [
    "__Always remember to INDENT your loops!__"
   ]
  },
  {
   "cell_type": "markdown",
   "metadata": {
    "slideshow": {
     "slide_type": "slide"
    }
   },
   "source": [
    "### Different types of loops"
   ]
  },
  {
   "cell_type": "markdown",
   "metadata": {
    "slideshow": {
     "slide_type": "fragment"
    }
   },
   "source": [
    "### `For` loop"
   ]
  },
  {
   "cell_type": "code",
   "execution_count": null,
   "metadata": {
    "scrolled": false,
    "slideshow": {
     "slide_type": "-"
    }
   },
   "outputs": [],
   "source": [
    "fruits = ['apple','pear','banana','orange']\n",
    "\n",
    "for fruit in fruits:\n",
    "    print(fruit)"
   ]
  },
  {
   "cell_type": "markdown",
   "metadata": {
    "slideshow": {
     "slide_type": "fragment"
    }
   },
   "source": [
    "### `While` loop"
   ]
  },
  {
   "cell_type": "code",
   "execution_count": null,
   "metadata": {
    "scrolled": false,
    "slideshow": {
     "slide_type": "-"
    }
   },
   "outputs": [],
   "source": [
    "fruits = ['apple','pear','banana','orange']\n",
    "\n",
    "i = 0\n",
    "while i < len(fruits):\n",
    "    print(fruits[i])\n",
    "    i = i + 1"
   ]
  },
  {
   "cell_type": "markdown",
   "metadata": {
    "slideshow": {
     "slide_type": "slide"
    }
   },
   "source": [
    "### Different types of loops\n",
    "\n",
    "__`For` loop__\n",
    "\n",
    "Is a control flow statement that performs a fixed operation over a known amount of steps.\n",
    "\n",
    "__`While` loop__\n",
    "\n",
    "Is a control flow statement that allows code to be executed repeatedly based on a given Boolean condition.\n",
    "\n",
    "<br></br>\n",
    "\n",
    "__Which one to use?__\n",
    "\n",
    "`For` loops better for simple iterations over lists and other iterable objects\n",
    "\n",
    "`While` loops are more flexible and can iterate an unspecified number of times\n",
    "\n",
    "\n"
   ]
  },
  {
   "cell_type": "markdown",
   "metadata": {
    "slideshow": {
     "slide_type": "slide"
    }
   },
   "source": [
    "## Example of a simple Python script\n",
    "\n",
    "<br></br>\n",
    "\n",
    "<img src=\"img/simple_while_loop.png\" alt=\"Drawing\" style=\"width: 600px;\"/> "
   ]
  },
  {
   "cell_type": "markdown",
   "metadata": {
    "slideshow": {
     "slide_type": "slide"
    }
   },
   "source": [
    "__&rarr; Notebook Day_1_Exercise_3  (~20 minutes)__"
   ]
  },
  {
   "cell_type": "markdown",
   "metadata": {
    "slideshow": {
     "slide_type": "slide"
    }
   },
   "source": [
    "## Conditional `if/else` &nbsp;statements\n",
    "\n",
    "\n",
    "<img src=\"img/if_else_statement.png\" alt=\"Drawing\" style=\"width: 600px;\"/> "
   ]
  },
  {
   "cell_type": "code",
   "execution_count": null,
   "metadata": {
    "scrolled": false,
    "slideshow": {
     "slide_type": "slide"
    }
   },
   "outputs": [],
   "source": [
    "shopping_list = ['bread', 'egg', 'butter', 'milk']\n",
    "\n",
    "if len(shopping_list) > 5:\n",
    "    print('Go shopping!')\n",
    "else:\n",
    "    print('Nah! I\\'ll do it tomorrow!')"
   ]
  },
  {
   "cell_type": "code",
   "execution_count": null,
   "metadata": {
    "scrolled": false,
    "slideshow": {
     "slide_type": "fragment"
    }
   },
   "outputs": [],
   "source": [
    "shopping_list = ['bread', 'egg', 'butter', 'milk']\n",
    "tired         = False\n",
    "\n",
    "if len(shopping_list) > 5:\n",
    "    if not tired:\n",
    "        print('Go shopping!')\n",
    "    else:\n",
    "        print('Too tired, I\\'ll do it later')\n",
    "else:\n",
    "    if not tired:\n",
    "        print('Better get it over with today anyway')\n",
    "    else:\n",
    "        print('Nah! I\\'ll do it tomorrow!')"
   ]
  },
  {
   "cell_type": "markdown",
   "metadata": {
    "slideshow": {
     "slide_type": "fragment"
    }
   },
   "source": [
    "### This is an example of a nested conditional"
   ]
  },
  {
   "cell_type": "markdown",
   "metadata": {
    "slideshow": {
     "slide_type": "slide"
    }
   },
   "source": [
    "## Putting everything into a Python script\n",
    "\n",
    "Any longer pieces of code that have been used and will be re-used SHOULD be saved\n",
    "\n",
    "Two options:\n",
    "- Save it as a text file and make it executable\n",
    "- Save it as a notebook file"
   ]
  },
  {
   "cell_type": "markdown",
   "metadata": {
    "slideshow": {
     "slide_type": "slide"
    }
   },
   "source": [
    "### Things to remember when working with scripts\n",
    "\n",
    "- Put _#!/usr/bin/env python_ in the beginning of the file\n",
    "- Make the file executable to run with `./script.py`\n",
    "- Otherwise run script with `python script.py`"
   ]
  },
  {
   "cell_type": "markdown",
   "metadata": {
    "slideshow": {
     "slide_type": "slide"
    }
   },
   "source": [
    "## Working on files"
   ]
  },
  {
   "cell_type": "code",
   "execution_count": null,
   "metadata": {
    "scrolled": false,
    "slideshow": {
     "slide_type": "-"
    }
   },
   "outputs": [],
   "source": [
    "fruits = ['apple','pear','banana','orange']\n",
    "\n",
    "for fruit in fruits:\n",
    "    print(fruit)"
   ]
  },
  {
   "cell_type": "markdown",
   "metadata": {
    "slideshow": {
     "slide_type": "slide"
    }
   },
   "source": [
    "<img src=\"img/fruits.png\" alt=\"Drawing\" style=\"width: 300px;\"/> "
   ]
  },
  {
   "cell_type": "code",
   "execution_count": null,
   "metadata": {
    "scrolled": false,
    "slideshow": {
     "slide_type": "fragment"
    }
   },
   "outputs": [],
   "source": [
    "fh = open('../files/fruits.txt', 'r', encoding = 'utf-8')\n",
    "\n",
    "for line in fh:\n",
    "    print(line)\n",
    "\n",
    "fh.close()"
   ]
  },
  {
   "cell_type": "markdown",
   "metadata": {
    "slideshow": {
     "slide_type": "slide"
    }
   },
   "source": [
    "### Aditional useful methods:\n",
    "<br></br>\n",
    "\n",
    "`'string'.strip()` &emsp; &emsp; &emsp; Removes whitespace  \n",
    "`'string'.split()` &emsp; &emsp; &emsp; Splits on whitespace into list  "
   ]
  },
  {
   "cell_type": "code",
   "execution_count": null,
   "metadata": {
    "scrolled": false,
    "slideshow": {
     "slide_type": "-"
    }
   },
   "outputs": [],
   "source": [
    "s  = '  an example string to split with whitespace in end   '\n",
    "sw = s.strip()\n",
    "sw\n",
    "#l  = sw.split()\n",
    "#l\n",
    "#l  = s.strip().split('\\t')\n",
    "#l"
   ]
  },
  {
   "cell_type": "markdown",
   "metadata": {
    "slideshow": {
     "slide_type": "slide"
    }
   },
   "source": [
    "<img src=\"img/fruits.png\" alt=\"Drawing\" style=\"width: 300px;\"/> "
   ]
  },
  {
   "cell_type": "code",
   "execution_count": null,
   "metadata": {
    "scrolled": false,
    "slideshow": {
     "slide_type": "-"
    }
   },
   "outputs": [],
   "source": [
    "fh = open('../files/fruits.txt', 'r', encoding = 'utf-8')\n",
    "\n",
    "for line in fh:\n",
    "    print(line.strip())\n",
    "\n",
    "fh.close()"
   ]
  },
  {
   "cell_type": "markdown",
   "metadata": {
    "slideshow": {
     "slide_type": "slide"
    }
   },
   "source": [
    "### Another example"
   ]
  },
  {
   "cell_type": "markdown",
   "metadata": {
    "slideshow": {
     "slide_type": "-"
    }
   },
   "source": [
    "<img src=\"img/bank_statement.png\" alt=\"Drawing\" style=\"width: 300px;\"/> \n",
    "How much money is spent on ICA?"
   ]
  },
  {
   "cell_type": "code",
   "execution_count": null,
   "metadata": {
    "scrolled": false,
    "slideshow": {
     "slide_type": "fragment"
    }
   },
   "outputs": [],
   "source": [
    "fh    = open(\"../files/bank_statement.txt\", \"r\", encoding = \"utf-8\")\n",
    "\n",
    "total = 0\n",
    "\n",
    "for line in fh:\n",
    "    expenses = line.strip().split()  # split line into list\n",
    "    store    = expenses[0]           # save what store\n",
    "    price    = float(expenses[1])    # save the price\n",
    "    if store == 'ICA':               # only count the price if store is ICA\n",
    "        total = total + price\n",
    "fh.close()\n",
    "\n",
    "print('Total amount spent on ICA is: '+str(total))  "
   ]
  },
  {
   "cell_type": "markdown",
   "metadata": {
    "slideshow": {
     "slide_type": "slide"
    }
   },
   "source": [
    "### Slightly more complex..."
   ]
  },
  {
   "cell_type": "markdown",
   "metadata": {
    "slideshow": {
     "slide_type": "-"
    }
   },
   "source": [
    "<img src=\"img/bank_statement_extended.png\" alt=\"Drawing\" style=\"width: 400px;\"/> \n",
    "\n",
    "How much money is spent on ICA in September?"
   ]
  },
  {
   "cell_type": "code",
   "execution_count": null,
   "metadata": {
    "scrolled": false,
    "slideshow": {
     "slide_type": "slide"
    }
   },
   "outputs": [],
   "source": [
    "fh    = open(\"../files/bank_statement_extended.txt\", \"r\", encoding = \"utf-8\")\n",
    "\n",
    "total = 0\n",
    "\n",
    "for line in fh:\n",
    "    if not line.startswith('store'):\n",
    "        expenses = line.strip().split()\n",
    "        store    = expenses[0]\n",
    "        year     = expenses[1]\n",
    "        month    = expenses[2]\n",
    "        day      = expenses[3]\n",
    "        price    = float(expenses[4])\n",
    "        if store == 'ICA' and month == '09':   # store has to be ICA and month september\n",
    "            total = total + price\n",
    "fh.close()\n",
    "\n",
    "out = open(\"../files/bank_statement_results.txt\", \"w\", encoding = \"utf-8\")   # open a file for writing the results to\n",
    "out.write('Total amount spent on ICA in september is: '+str(total))\n",
    "out.close()"
   ]
  },
  {
   "cell_type": "code",
   "execution_count": null,
   "metadata": {
    "slideshow": {
     "slide_type": "fragment"
    }
   },
   "outputs": [],
   "source": [
    "for file in os.scandir(\"../files/\"):\n",
    "    print(time.ctime(os.stat(file).st_mtime), '\\t', file.name)"
   ]
  },
  {
   "cell_type": "markdown",
   "metadata": {
    "slideshow": {
     "slide_type": "fragment"
    }
   },
   "source": [
    "<img src=\"img/bank_statement_results.png\" alt=\"Drawing\" style=\"width: 400px;\"/> "
   ]
  },
  {
   "cell_type": "markdown",
   "metadata": {
    "slideshow": {
     "slide_type": "slide"
    }
   },
   "source": [
    "## Summary\n",
    "\n",
    "- Python has two types of loops, `For` loops and `While` loops\n",
    "- Loops can be used on any iterable types and objects\n",
    "- `If/Else` statement are used when deciding actions depending on a condition that evaluates to a boolean\n",
    "- Several `If/Else` statements can be nested\n",
    "- Save code as notebook or text file to be run using python\n",
    "- The function `open()` can be used to read in text files\n",
    "- A text file is iterable, meaning it is possible to loop over the lines\n",
    "\n",
    "__&rarr; Notebook Day_1_Exercise_4__"
   ]
  }
 ],
 "metadata": {
  "celltoolbar": "Slideshow",
  "kernelspec": {
   "display_name": "Python 3",
   "language": "python",
   "name": "python3"
  },
  "language_info": {
   "codemirror_mode": {
    "name": "ipython",
    "version": 3
   },
   "file_extension": ".py",
   "mimetype": "text/x-python",
   "name": "python",
   "nbconvert_exporter": "python",
   "pygments_lexer": "ipython3",
   "version": "3.7.6"
  },
  "rise": {
   "height": 1024,
   "width": 1024
  }
 },
 "nbformat": 4,
 "nbformat_minor": 2
}
