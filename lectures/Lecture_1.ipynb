{
 "cells": [
  {
   "cell_type": "code",
   "execution_count": null,
   "metadata": {
    "scrolled": false,
    "slideshow": {
     "slide_type": "skip"
    }
   },
   "outputs": [],
   "source": [
    "from IPython.display import Image\n",
    "from IPython.display import clear_output\n",
    "from IPython.display import FileLink, FileLinks\n",
    "import matplotlib.pylab as plt\n",
    "import pandas        as pd\n",
    "import os\n",
    "import time"
   ]
  },
  {
   "cell_type": "markdown",
   "metadata": {
    "slideshow": {
     "slide_type": "slide"
    }
   },
   "source": [
    "## Intro to Scientific Programming to:\n",
    "\n",
    "![title](img/python-logo-master-flat.png)\n",
    "\n",
    "#### - Day 1"
   ]
  },
  {
   "cell_type": "markdown",
   "metadata": {
    "slideshow": {
     "slide_type": "slide"
    }
   },
   "source": [
    "### About me\n",
    "\n",
    "\n",
    "<img src=\"img/claudio-mirabello.jpg\" alt=\"Drawing\" style=\"width: 220px;\"/>\n",
    "\n",
    "Claudio Mirabello, Ph.D. (claudio.mirabello@liu.se)\n",
    "* Principal Research Engineer, bioinformatics division\n",
    "* Work at National Bioinformatics Infrastructure Sweden\n",
    "* Background as computer engineer\n",
    "* Expertise: machine learning, data science\n",
    "* Italian 🤌\n",
    "* Food motivated\n"
   ]
  },
  {
   "cell_type": "markdown",
   "metadata": {
    "slideshow": {
     "slide_type": "slide"
    }
   },
   "source": [
    "### About me\n",
    "\n",
    "\n",
    "<img src=\"img/claudio-mirabello.jpg\" alt=\"Drawing\" style=\"width: 220px;\"/>\n",
    "\n",
    "Claudio Mirabello, Ph.D.\n",
    "* Visiting address: B-huset 2B:586\n",
    "* E-mail: claudio.mirabello@liu.se\n",
    "* Fridays 10-11AM only\n"
   ]
  },
  {
   "cell_type": "markdown",
   "metadata": {
    "slideshow": {
     "slide_type": "slide"
    }
   },
   "source": [
    "### About the course\n",
    "\n",
    "* Course website:\n",
    "https://github.com/clami66/workshop-python/tree/0422/\n",
    "* Based on [NBIS course for bioinformatics](https://github.com/NBISweden/workshop-python/)\n",
    "* Two lectures per week, for a total of 3 hours\n",
    "* Who knows how much we'll cover!\n",
    "* One final project applying what you have learned on your research\n",
    "* Please make sure you have installed conda and jupyter notebook\n",
    "* You can initially use [google colab](https://colab.research.google.com/) if you have issues"
   ]
  },
  {
   "cell_type": "markdown",
   "metadata": {
    "slideshow": {
     "slide_type": "skip"
    }
   },
   "source": [
    "### About you\n",
    "\n",
    "- Short personal introduction:\n",
    "    - Name, department\n",
    "    - What do you work on?\n",
    "    - Why are you here?\n",
    "    - ..."
   ]
  },
  {
   "cell_type": "markdown",
   "metadata": {
    "slideshow": {
     "slide_type": "slide"
    }
   },
   "source": [
    "### What is programming?\n",
    "\n",
    "Wikipedia:  \n",
    "\n",
    "\"Computer programming is the process of building and designing an executable computer program for accomplishing a specific computing task\""
   ]
  },
  {
   "cell_type": "markdown",
   "metadata": {
    "slideshow": {
     "slide_type": "-"
    }
   },
   "source": [
    "### What can we use it for?\n",
    "\n",
    "Endless possibilities!  \n",
    "- convert/parse data files\n",
    "- compute complex equations from raw measurements\n",
    "- fit curves to your data\n",
    "- plotting of results\n",
    "- automatize your stuff -> no more manual mistakes!"
   ]
  },
  {
   "cell_type": "markdown",
   "metadata": {
    "slideshow": {
     "slide_type": "skip"
    }
   },
   "source": [
    "## Why Python?\n",
    "\n",
    "### Typical workflow\n",
    "\n",
    "1. Get data\n",
    "2. Clean, transform data in spreadsheet\n",
    "3. Copy-paste, copy-paste, copy-paste\n",
    "4. Run analysis & export results\n",
    "7. Realise the columns were not sorted correctly\n",
    "8. Go back to step 2, Repeat\n"
   ]
  },
  {
   "cell_type": "markdown",
   "metadata": {
    "slideshow": {
     "slide_type": "skip"
    }
   },
   "source": [
    "<img src=\"img/picard.jpg\" alt=\"Drawing\" style=\"width: 400px;\"/>"
   ]
  },
  {
   "cell_type": "markdown",
   "metadata": {
    "slideshow": {
     "slide_type": "slide"
    }
   },
   "source": [
    "<h2>Course content</h2>\n",
    "\n",
    "- Core concepts about Python syntax: Data types, blocks and indentation, variable scoping, iteration, functions, methods and arguments  \n",
    "- Different ways to control program flow using loops and conditional tests  \n",
    "- Writing functions and best-practice ways of making them usable  \n",
    "- Reading from and writing to files  \n",
    "- (Regular expressions and pattern matching) \n",
    "- Using extra Python libraries:\n",
    "    - Numpy for scientific computing\n",
    "    - Matplotlib for plotting\n",
    "    - pandas for table handling"
   ]
  },
  {
   "cell_type": "markdown",
   "metadata": {
    "slideshow": {
     "slide_type": "slide"
    }
   },
   "source": [
    "<h2>Learning outcomes</h2>\n",
    "\n",
    "After this course you should be able to:\n",
    "\n",
    "- Describe and apply basic concepts in Python, such as:\n",
    "    - Loops\n",
    "    - If/else statements\n",
    "    - Functions\n",
    "    - Reading/writing to files\n",
    "- Being able to edit and run Python code\n",
    "- Write file-processing Python programs that produce output to the terminal and/or external files\n",
    "- Create stand-alone python programs to process your data\n",
    "- Know how to develop your skills in Python after the course (including debugging)"
   ]
  },
  {
   "cell_type": "markdown",
   "metadata": {
    "slideshow": {
     "slide_type": "slide"
    }
   },
   "source": [
    "## Some good advice\n",
    "\n",
    "- 5 weeks to learn Python is not much\n",
    "- Amount of information will decrease over days\n",
    "- Complexity of tasks will increase over days\n",
    "- Read the error messages!\n",
    "- Save all your code\n",
    "\n",
    "<u>How to seek help:</u>  \n",
    "- Google\n",
    "- Ask your neighbour\n",
    "- Ask me (slow response time)\n",
    "\n"
   ]
  },
  {
   "cell_type": "markdown",
   "metadata": {
    "slideshow": {
     "slide_type": "slide"
    }
   },
   "source": [
    "## Day 1\n",
    "\n",
    "- Computer architecture\n",
    "- Types and variables\n",
    "- Operations\n",
    "- Loops\n",
    "- if/else statements\n",
    "- How to: jupyter notebooks"
   ]
  },
  {
   "cell_type": "markdown",
   "metadata": {
    "slideshow": {
     "slide_type": "slide"
    }
   },
   "source": [
    "## Computer Architecture\n",
    "\n",
    "<img src=\"img/Von_Neumann_Architecture.png\"/>\n",
    "\n",
    "(src: [wikipedia](https://en.wikipedia.org/wiki/Von_Neumann_architecture))"
   ]
  },
  {
   "cell_type": "markdown",
   "metadata": {
    "slideshow": {
     "slide_type": "slide"
    }
   },
   "source": [
    "## Computer architecture\n",
    "\n",
    "* Very important to keep in mind how memory (RAM) works\n",
    "\n",
    "<img src=\"img/array.png\"/>\n",
    "\n",
    "(src: [Geeksforgeeks](https://www.geeksforgeeks.org/how-to-copy-elements-of-an-array-in-a-vector-in-c/))"
   ]
  },
  {
   "cell_type": "markdown",
   "metadata": {
    "slideshow": {
     "slide_type": "slide"
    }
   },
   "source": [
    "## Example of a simple Python script"
   ]
  },
  {
   "cell_type": "code",
   "execution_count": null,
   "metadata": {
    "scrolled": false,
    "slideshow": {
     "slide_type": "-"
    }
   },
   "outputs": [],
   "source": [
    "# A simple loop that adds 2 to a number\n",
    "i = 0\n",
    "while i < 10:\n",
    "    u = i + 2\n",
    "    print('u is' + str(u))\n",
    "    i += 1"
   ]
  },
  {
   "cell_type": "markdown",
   "metadata": {
    "slideshow": {
     "slide_type": "slide"
    }
   },
   "source": [
    "## Example of a simple Python script\n",
    "\n",
    "<img src=\"img/simple_while_loop_comment.png\" alt=\"Drawing\" style=\"width: 400px;\"/>\n",
    "\n",
    "### Comment\n",
    "\n",
    "All lines starting with # is interpreted by python as a comment and are not executed. Comments are important for documenting code and considered good practise when doing all types of programming"
   ]
  },
  {
   "cell_type": "markdown",
   "metadata": {
    "slideshow": {
     "slide_type": "slide"
    }
   },
   "source": [
    "## Example of a simple Python script\n",
    "\n",
    "<img src=\"img/simple_while_loop_literal.png\" alt=\"Drawing\" style=\"width: 400px;\"/>\n",
    "\n",
    "\n",
    "### Literals\n",
    "\n",
    "All literals have a type:\n",
    "\n",
    "- Strings (str) &emsp; &emsp; &nbsp;      ‘Hello’ “Hi”\n",
    "- Integers (int)\t&emsp; &emsp;             5\n",
    "- Floats (float)\t&emsp; &emsp;             3.14\n",
    "- Boolean (bool) &emsp; &nbsp;  True or False"
   ]
  },
  {
   "cell_type": "markdown",
   "metadata": {
    "slideshow": {
     "slide_type": "slide"
    }
   },
   "source": [
    "### Literals define values"
   ]
  },
  {
   "cell_type": "code",
   "execution_count": 2,
   "metadata": {
    "scrolled": false,
    "slideshow": {
     "slide_type": "-"
    }
   },
   "outputs": [
    {
     "data": {
      "text/plain": [
       "int"
      ]
     },
     "execution_count": 2,
     "metadata": {},
     "output_type": "execute_result"
    }
   ],
   "source": [
    "'this is a string'\n",
    "\"this is also a string\"\n",
    "3       # here we can put a comment so we know that this is an integer\n",
    "3.14    # this is a float\n",
    "True    # this is a boolean\n",
    "\n",
    "type('this is a string')\n",
    "type(2)\n"
   ]
  },
  {
   "cell_type": "markdown",
   "metadata": {
    "slideshow": {
     "slide_type": "fragment"
    }
   },
   "source": [
    "### Collections"
   ]
  },
  {
   "cell_type": "code",
   "execution_count": 3,
   "metadata": {
    "scrolled": false,
    "slideshow": {
     "slide_type": "-"
    }
   },
   "outputs": [
    {
     "data": {
      "text/plain": [
       "list"
      ]
     },
     "execution_count": 3,
     "metadata": {},
     "output_type": "execute_result"
    }
   ],
   "source": [
    "[3, 5, 7, 4, 99]       # this is a list of integers\n",
    "\n",
    "('a', 'b', 'c', 'd')   # this is a tuple of strings\n",
    "{'a', 'b', 'c'}        # this is a set of strings\n",
    "{'a':3, 'b':5, 'c':7}  # this is a dictionary with strings as keys and integers as values\n",
    "\n",
    "type([3, 5, 7, 4, 99])"
   ]
  },
  {
   "cell_type": "markdown",
   "metadata": {
    "slideshow": {
     "slide_type": "slide"
    }
   },
   "source": [
    "### What operations can we do with different values?\n",
    "\n",
    "That depends on their type:"
   ]
  },
  {
   "cell_type": "code",
   "execution_count": 1,
   "metadata": {
    "scrolled": false,
    "slideshow": {
     "slide_type": "-"
    }
   },
   "outputs": [
    {
     "data": {
      "text/plain": [
       "'The result is: tokyo'"
      ]
     },
     "execution_count": 1,
     "metadata": {},
     "output_type": "execute_result"
    }
   ],
   "source": [
    "#'a string '+'           another string'\n",
    "#2 + 3.4\n",
    "'a string ' * 3\n",
    "#'a string ' * 3.4\n",
    "2**2\n",
    "res = \"tokyo\"\n",
    "\"The result is: \" + res"
   ]
  },
  {
   "cell_type": "markdown",
   "metadata": {
    "slideshow": {
     "slide_type": "fragment"
    }
   },
   "source": [
    "<b>Type &emsp; &emsp; &emsp; &emsp;  Operations </b>\n",
    "\n",
    "int &emsp; &emsp; &emsp; &emsp; &emsp;        +  -  *  /  **  %  // ...  \n",
    "float &emsp; &emsp; &emsp; &emsp; &nbsp;      +  -  *  /  **  %  // ...  \n",
    "string &emsp; &emsp; &emsp; &ensp; &nbsp;           + *"
   ]
  },
  {
   "cell_type": "markdown",
   "metadata": {
    "slideshow": {
     "slide_type": "slide"
    }
   },
   "source": [
    "### Example of a simple Python script\n",
    "\n",
    "\n",
    "<img src=\"img/simple_while_loop_identifier.png\" alt=\"Drawing\" style=\"width: 300px;\"/> \n",
    "### Identifiers\n",
    "\n",
    "Identifiers are used to identify a program element in the code. \n",
    "\n",
    "For example:  \n",
    "- Variables\n",
    "- Functions\n",
    "- Modules\n",
    "- Classes "
   ]
  },
  {
   "cell_type": "markdown",
   "metadata": {
    "slideshow": {
     "slide_type": "slide"
    }
   },
   "source": [
    "### Variables\n",
    "\n",
    "Used to store values and to assign them a name.\n",
    "\n",
    "Examples:  \n",
    "- `i       = 0`\n",
    "- `counter = 5`\n",
    "- `snpname = 'rs2315487'`\n",
    "- `snplist = ['rs21354', 'rs214569']`    "
   ]
  },
  {
   "cell_type": "code",
   "execution_count": 4,
   "metadata": {
    "scrolled": false,
    "slideshow": {
     "slide_type": "fragment"
    }
   },
   "outputs": [
    {
     "data": {
      "text/plain": [
       "235640"
      ]
     },
     "execution_count": 4,
     "metadata": {},
     "output_type": "execute_result"
    }
   ],
   "source": [
    "width  = 23564\n",
    "height = 10\n",
    "\n",
    "snpname = 'rs56483 '\n",
    "snplist = ['rs12345','rs458782']\n",
    "\n",
    "width * height"
   ]
  },
  {
   "cell_type": "markdown",
   "metadata": {
    "slideshow": {
     "slide_type": "slide"
    }
   },
   "source": [
    "#### How to correctly name a variable\n",
    "\n",
    "\n",
    "\n",
    "<img src=\"img/variable_name.png\" alt=\"Drawing\" style=\"width: 600px;\"/> \n",
    "\n",
    "__Allowed: &emsp; &emsp; &emsp; &emsp; &emsp; &emsp; &emsp; &emsp; &emsp; &emsp; &emsp;           Not allowed:__  \n",
    "Var\\_name  &emsp; &emsp; &emsp; &emsp; &emsp; &emsp; &emsp; &emsp; &emsp; &emsp; &emsp;                  2save  \n",
    "\\_total &emsp; &emsp; &emsp; &emsp; &emsp; &emsp; &emsp; &emsp; &emsp; &emsp; &emsp; &emsp; &ensp;  \\*important  \n",
    "aReallyLongName  &emsp; &emsp; &emsp; &emsp; &emsp; &emsp; &emsp; &emsp;                           Special%  \n",
    "with\\_digit\\_2 &emsp; &emsp; &emsp; &emsp; &emsp; &emsp; &emsp; &emsp; &emsp; &emsp; &nbsp;          With  &nbsp; spaces  \n",
    "dkfsjdsklut &emsp; _(well, allowed, but NOT recommended)_\n",
    "\n",
    "__NO special characters:__  \n",
    "\\+ - * $ % ; : , ? ! { } ( ) < > “ ‘ | \\ / @"
   ]
  },
  {
   "cell_type": "markdown",
   "metadata": {
    "slideshow": {
     "slide_type": "slide"
    }
   },
   "source": [
    "## Reserved keywords\n",
    "\n",
    "<img src=\"img/python_keywords.png\" alt=\"Drawing\" style=\"width: 600px;\"/> \n",
    "\n",
    "\n",
    "<b>These words can not be used as variable names</b>"
   ]
  },
  {
   "cell_type": "markdown",
   "metadata": {
    "slideshow": {
     "slide_type": "slide"
    }
   },
   "source": [
    "## Summary\n",
    "\n",
    "- Comment your code!\n",
    "- Literals define values and can have different types (strings, integers, floats, boolean)\n",
    "- Values can be collected in lists, tuples, sets, and dictionaries\n",
    "- The operation that can be performed on a certain value depends on the type\n",
    "- Variables are identified by a name and are used to store a value or collections of values\n",
    "- Name your variables using descriptive words without special characters and reserved keywords\n"
   ]
  },
  {
   "cell_type": "markdown",
   "metadata": {
    "slideshow": {
     "slide_type": "slide"
    }
   },
   "source": [
    "## NOTE!\n",
    "\n",
    "### How to get help?\n",
    "\n",
    "- [Google](https://www.google.com/) and [Stack overflow](https://stackoverflow.com/) are your best friends!\n",
    "- Official [python documentation](https://docs.python.org/3/)\n",
    "- Ask your neighbour\n",
    "- Ask me"
   ]
  }
 ],
 "metadata": {
  "celltoolbar": "Slideshow",
  "kernelspec": {
   "display_name": "Python 3",
   "language": "python",
   "name": "python3"
  },
  "language_info": {
   "codemirror_mode": {
    "name": "ipython",
    "version": 3
   },
   "file_extension": ".py",
   "mimetype": "text/x-python",
   "name": "python",
   "nbconvert_exporter": "python",
   "pygments_lexer": "ipython3",
   "version": "3.7.6"
  },
  "rise": {
   "height": 1024,
   "width": 1024
  }
 },
 "nbformat": 4,
 "nbformat_minor": 2
}
