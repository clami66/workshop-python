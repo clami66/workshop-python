{
 "cells": [
  {
   "cell_type": "markdown",
   "metadata": {
    "slideshow": {
     "slide_type": "slide"
    }
   },
   "source": [
    "## Introduction to\n",
    "\n",
    "![title](img/python-logo-master-flat.png)\n",
    "\n",
    "### for scientific computing\n",
    "\n",
    "#### - Lecture 3"
   ]
  },
  {
   "cell_type": "markdown",
   "metadata": {},
   "source": [
    "## Review of previous lectures"
   ]
  },
  {
   "cell_type": "markdown",
   "metadata": {
    "slideshow": {
     "slide_type": "slide"
    }
   },
   "source": [
    "## Variables and Types\n",
    "\n",
    "__1. Which of the following is of the type `float`?:__  \n",
    "`\"hello\"`       \n",
    "`7.4`            \n",
    "`3`             \n",
    "`-2`           \n",
    "`\"2.1\"`\n",
    "\n",
    "__2. Match the following variables with their type:__  \n",
    "\n",
    "`var1 = 54`          \n",
    "`var2 = [1,2,7,1,24]`         \n",
    "`var3 = 2.98`        \n",
    "`var4 = True`"
   ]
  },
  {
   "cell_type": "markdown",
   "metadata": {
    "slideshow": {
     "slide_type": "slide"
    }
   },
   "source": [
    "## Variables and Types\n",
    "\n",
    "__1. Which of the following is of the type `float`?:__  \n",
    "\n",
    "**7.4**\n",
    "\n",
    "__2. Match the following variables with their type:__  \n",
    "\n",
    "`var1 = 54`               &emsp; &emsp; &emsp; &emsp; &ensp;  &ensp;   __integer__  \n",
    "`var2 = [1,2,7,1,24]`     &nbsp;    &nbsp;                             __list__  \n",
    "`var3 = 2.98`             &emsp; &emsp; &emsp;  &nbsp;  &nbsp; &nbsp;  __float__  \n",
    "`var4 = True`             &emsp; &emsp; &emsp;  &nbsp;  &nbsp; &nbsp;  __boolean__  "
   ]
  },
  {
   "cell_type": "markdown",
   "metadata": {
    "slideshow": {
     "slide_type": "slide"
    }
   },
   "source": [
    "### Literals\n",
    "\n",
    "All literals have a type:\n",
    "\n",
    "- Strings (str) &emsp; &emsp; &nbsp;      ‘Hello’ “Hi”\n",
    "- Integers (int)\t&emsp; &emsp;             5\n",
    "- Floats (float)\t&emsp; &emsp;             3.14\n",
    "- Boolean (bool) &emsp; &nbsp;  True or False"
   ]
  },
  {
   "cell_type": "code",
   "execution_count": 11,
   "metadata": {
    "slideshow": {
     "slide_type": "-"
    }
   },
   "outputs": [
    {
     "data": {
      "text/plain": [
       "int"
      ]
     },
     "execution_count": 11,
     "metadata": {},
     "output_type": "execute_result"
    }
   ],
   "source": [
    "type(5)"
   ]
  },
  {
   "cell_type": "markdown",
   "metadata": {
    "slideshow": {
     "slide_type": "fragment"
    }
   },
   "source": [
    "### Variables\n",
    "\n",
    "Used to store values and to assign them a name."
   ]
  },
  {
   "cell_type": "code",
   "execution_count": 12,
   "metadata": {
    "slideshow": {
     "slide_type": "-"
    }
   },
   "outputs": [
    {
     "data": {
      "text/plain": [
       "3.14"
      ]
     },
     "execution_count": 12,
     "metadata": {},
     "output_type": "execute_result"
    }
   ],
   "source": [
    "a = 3.14\n",
    "a"
   ]
  },
  {
   "cell_type": "markdown",
   "metadata": {},
   "source": [
    "### Lists\n",
    "\n",
    "A collection of values."
   ]
  },
  {
   "cell_type": "code",
   "execution_count": 13,
   "metadata": {},
   "outputs": [
    {
     "data": {
      "text/plain": [
       "list"
      ]
     },
     "execution_count": 13,
     "metadata": {},
     "output_type": "execute_result"
    }
   ],
   "source": [
    "x = [1,5,3,7,8]\n",
    "y = ['a','b','c']\n",
    "type(x)"
   ]
  },
  {
   "cell_type": "markdown",
   "metadata": {
    "slideshow": {
     "slide_type": "slide"
    }
   },
   "source": [
    "## Operations\n",
    "\n",
    "\n",
    "__4. What happens if you do `[1,2,5,11] + [87,2,43,3]`?__  \n",
    "\n",
    "<br>\n",
    "\n",
    "__5. How do you find out if the variable `x` is present in a  the list `mylist`?__  \n",
    "\n",
    "<br>\n",
    "\n",
    "__6. How do you find out if 5 is larger than 3 and the integer 4 is the same as the float 4?__  "
   ]
  },
  {
   "cell_type": "markdown",
   "metadata": {
    "slideshow": {
     "slide_type": "slide"
    }
   },
   "source": [
    "## Operations\n",
    "\n",
    "\n",
    "__4. What happens if you do `[1,2,5,11] + [87,2,43,3]`?__  \n",
    "`[1,2,5,11,87,2,43,3]`  &emsp; &emsp; The lists will be concatenated\n",
    "\n",
    "<br>\n",
    "\n",
    "__5. How do you find out if the variable `x` is present in a  the list `mylist`?__  \n",
    "Two answers correct:  \n",
    "1. `x in mylist`\n",
    "2.   \n",
    "```\n",
    "for l in mylist:\n",
    "        if l == x:\n",
    "            print('Found a match')\n",
    "```  \n",
    "\n",
    "__6. How do you find out if 5 is larger than 3 and the integer 4 is the same as the float 4? __  \n",
    "`5 > 3 and 4 == 4.0`"
   ]
  },
  {
   "cell_type": "markdown",
   "metadata": {
    "slideshow": {
     "slide_type": "slide"
    }
   },
   "source": [
    "### Basic operations\n",
    "\n",
    "__Type &emsp; &emsp; &emsp; &emsp;  Operations__\n",
    "\n",
    "int &emsp; &emsp; &emsp; &emsp; &emsp;        +  -  *  /  **  %  // ...  \n",
    "float &emsp; &emsp; &emsp; &emsp; &nbsp;      +  -  *  /  **  %  // ...  \n",
    "string &emsp; &emsp; &emsp; &ensp; &nbsp;           + *"
   ]
  },
  {
   "cell_type": "markdown",
   "metadata": {},
   "source": [
    " ### Comparison/Logical/Membership operators\n",
    " \n",
    " <img src=\"img/operators_summary.png\" alt=\"Drawing\" style=\"width: 800px;\"/> "
   ]
  },
  {
   "cell_type": "markdown",
   "metadata": {
    "slideshow": {
     "slide_type": "slide"
    }
   },
   "source": [
    "## Sequences\n",
    "\n",
    "__7. How do you select the second element in the variable `mylist = [4,3,8,10]`?__  \n",
    "\n",
    "<br>\n",
    "__8. Pair the following variables with whether they are mutable or immutable__  \n",
    "\n",
    "`var1 = 'my pretty string'`    &emsp; &emsp; &emsp;                     \n",
    "`var2 = [1,2,3,4,5]`           &emsp; &emsp; &emsp; &emsp; &emsp; &emsp;\n",
    "`var3 = \"hello world\"`         &emsp; &emsp; &emsp; &emsp; &ensp; &nbsp;\n",
    "`var4 = ['a', 'b', 'c', 'd']`  &emsp; &emsp;       \n",
    "<br>\n",
    "__9. Which of the following types are iterable?__  \n",
    "* Lists\n",
    "* Tuples\n",
    "* Integers\n",
    "* Strings\n",
    "* Floats"
   ]
  },
  {
   "cell_type": "markdown",
   "metadata": {
    "slideshow": {
     "slide_type": "slide"
    }
   },
   "source": [
    "## Sequences\n",
    "\n",
    "__7. How do you select the second element in the variable `mylist = [4,3,8,10]`?__  \n",
    "`mylist[1]`  \n",
    "<br>\n",
    "__8. Pair the following variables with whether they are mutable or immutable__  \n",
    "\n",
    "`var1 = 'my pretty string'`    &emsp; &emsp; &emsp;                     __immutable__  \n",
    "`var2 = [1,2,3,4,5]`           &emsp; &emsp; &emsp; &emsp; &emsp; &emsp; __mutable__  \n",
    "`var3 = \"hello world\"`         &emsp; &emsp; &emsp; &emsp; &ensp; &nbsp;        __immutable__  \n",
    "`var4 = ['a', 'b', 'c', 'd']`  &emsp; &emsp;       __mutable__  \n",
    "<br>\n",
    "__9. Which of the following types are iterable?__  \n",
    "Lists, tuples, strings"
   ]
  },
  {
   "cell_type": "markdown",
   "metadata": {
    "slideshow": {
     "slide_type": "slide"
    }
   },
   "source": [
    "### Indexing\n",
    "\n",
    "Lists (and strings) are an ORDERED collection of elements where every element can be access through an index.\n",
    "\n",
    "`a[0]`  : first item in list a\n",
    "\n",
    "REMEMBER! Indexing starts at 0 in python"
   ]
  },
  {
   "cell_type": "code",
   "execution_count": 4,
   "metadata": {
    "slideshow": {
     "slide_type": "-"
    }
   },
   "outputs": [],
   "source": [
    "a = [1,2,3,4,5]\n",
    "b = ['a','b','c']\n",
    "c = 'a random string'"
   ]
  },
  {
   "cell_type": "markdown",
   "metadata": {
    "slideshow": {
     "slide_type": "slide"
    }
   },
   "source": [
    "### Mutable / Immutable sequences and iterables\n",
    "\n",
    "Lists are mutable object, meaning you can use an index to change the list, while strings are immutable and therefore not changeable.\n",
    "\n",
    "An iterable sequence is anything you can loop over, ie, lists and strings."
   ]
  },
  {
   "cell_type": "code",
   "execution_count": null,
   "metadata": {
    "slideshow": {
     "slide_type": "-"
    }
   },
   "outputs": [],
   "source": [
    "a = [1,2,3,4,5]         # mutable\n",
    "b = ['a','b','c']       # mutable\n",
    "c = 'a random string'   # immutable\n",
    "\n",
    "#c[0] = 'A'\n",
    "#a[0] = 42"
   ]
  },
  {
   "cell_type": "markdown",
   "metadata": {
    "slideshow": {
     "slide_type": "slide"
    }
   },
   "source": [
    "## Another data type: `tuples`\n",
    "\n",
    "- A tuple is an immutable sequence of objects\n",
    "- Unlike a list, nothing can be changed in a tuple\n",
    "- Still iterable"
   ]
  },
  {
   "cell_type": "code",
   "execution_count": null,
   "metadata": {
    "slideshow": {
     "slide_type": "-"
    }
   },
   "outputs": [],
   "source": [
    "myTuple = (1,2,3,4,'a','b','c',[42,43,44])\n",
    "#myTuple[0] = 42\n",
    "#print(myTuple)\n",
    "#print(len(myTuple))\n",
    "#for i in myTuple:\n",
    "#     print(i)"
   ]
  },
  {
   "cell_type": "markdown",
   "metadata": {
    "slideshow": {
     "slide_type": "slide"
    }
   },
   "source": [
    "## If/ Else statements\n",
    "\n",
    "__10. How do you do to print ‘Yes’ if x is bigger than y?__  "
   ]
  },
  {
   "cell_type": "code",
   "execution_count": null,
   "metadata": {
    "slideshow": {
     "slide_type": "-"
    }
   },
   "outputs": [],
   "source": [
    "x = 10\n",
    "y = 5"
   ]
  },
  {
   "cell_type": "markdown",
   "metadata": {
    "slideshow": {
     "slide_type": "slide"
    }
   },
   "source": [
    "### in/not in\n",
    "\n",
    "How do you tell if an element is in a list/string or not?"
   ]
  },
  {
   "cell_type": "code",
   "execution_count": null,
   "metadata": {
    "slideshow": {
     "slide_type": "-"
    }
   },
   "outputs": [],
   "source": [
    "a = 2\n",
    "b = [1,2,3,4]"
   ]
  },
  {
   "cell_type": "markdown",
   "metadata": {
    "slideshow": {
     "slide_type": "slide"
    }
   },
   "source": [
    "## Loops\n",
    "\n",
    "How do you print each element in a list:\n",
    "   * With a `for` loop\n",
    "   * With a `while` loop"
   ]
  },
  {
   "cell_type": "code",
   "execution_count": 82,
   "metadata": {
    "slideshow": {
     "slide_type": "-"
    }
   },
   "outputs": [
    {
     "name": "stdout",
     "output_type": "stream",
     "text": [
      "5\n",
      "6.1\n",
      "7\n",
      "hello\n",
      "(2, 3)\n",
      "False\n",
      "None\n",
      "5\n",
      "6.1\n",
      "7\n",
      "hello\n",
      "(2, 3)\n",
      "False\n",
      "None\n"
     ]
    }
   ],
   "source": [
    "list_of_things = [5, 6.1, 7, \"hello\", (2, 3), False, None]\n",
    "\n",
    "for thing in list_of_things:\n",
    "    print(thing)\n",
    "    \n",
    "i = 0\n",
    "while i < len(list_of_things):\n",
    "    print(list_of_things[i])\n",
    "    i += 1 # same as i = i + 1"
   ]
  },
  {
   "cell_type": "markdown",
   "metadata": {
    "slideshow": {
     "slide_type": "slide"
    }
   },
   "source": [
    "## A good Day\n",
    "\n",
    "1. Your task here is to decide if today is a good day. There are certain criteria that have to be fulfilled for a day to be classified as good:\n",
    "\n",
    "    - Days on a weekend are always good  \n",
    "    - Weekdays are good if it's no earlier than 10  \n",
    "    - If there's coffee in the kitchen, it makes a weekday good  \n",
    "\n",
    "&emsp;&emsp;Complete the below code using AND and OR statements to find out if today is a good day, and print the results\n",
    "\n",
    "2. Modify your code so coffee only makes a weekday good if there is no rain"
   ]
  },
  {
   "cell_type": "code",
   "execution_count": 84,
   "metadata": {},
   "outputs": [
    {
     "name": "stdout",
     "output_type": "stream",
     "text": [
      "Today is a bad day\n"
     ]
    }
   ],
   "source": [
    "day    = \"Monday\"\n",
    "time   = 7\n",
    "coffee = True\n",
    "rain = False\n",
    "\n",
    "todayIsAGoodDay = day in [\"Saturday\", \"Sunday\"] or (time > 10 and coffee and not rain)\n",
    "if todayIsAGoodDay:\n",
    "    print(\"Today is a good day!\")\n",
    "else:\n",
    "    print(\"Today is a bad day\")"
   ]
  },
  {
   "cell_type": "markdown",
   "metadata": {
    "slideshow": {
     "slide_type": "slide"
    }
   },
   "source": [
    "# Questions?"
   ]
  },
  {
   "cell_type": "markdown",
   "metadata": {
    "slideshow": {
     "slide_type": "slide"
    }
   },
   "source": [
    "## Working on files"
   ]
  },
  {
   "cell_type": "code",
   "execution_count": null,
   "metadata": {
    "slideshow": {
     "slide_type": "-"
    }
   },
   "outputs": [],
   "source": [
    "fruits = ['apple','pear','banana','orange']\n",
    "\n",
    "for fruit in fruits:\n",
    "    print(fruit)"
   ]
  },
  {
   "cell_type": "markdown",
   "metadata": {
    "slideshow": {
     "slide_type": "slide"
    }
   },
   "source": [
    "<img src=\"img/fruits.png\" alt=\"Drawing\" style=\"width: 300px;\"/> "
   ]
  },
  {
   "cell_type": "code",
   "execution_count": 1,
   "metadata": {
    "slideshow": {
     "slide_type": "-"
    }
   },
   "outputs": [
    {
     "name": "stdout",
     "output_type": "stream",
     "text": [
      "apple\n",
      "\n",
      "pear\n",
      "\n",
      "banana\n",
      "\n",
      "orange\n",
      "\n"
     ]
    }
   ],
   "source": [
    "fh = open('../files/fruits.txt', 'r', encoding = 'utf-8')\n",
    "\n",
    "for line in fh:\n",
    "    print(line)\n",
    "\n",
    "fh.close()"
   ]
  },
  {
   "cell_type": "markdown",
   "metadata": {
    "slideshow": {
     "slide_type": "slide"
    }
   },
   "source": [
    "### Aditional useful methods:\n",
    "<br></br>\n",
    "\n",
    "`'string'.strip()` &emsp; &emsp; &emsp; Removes whitespace  \n",
    "`'string'.split()` &emsp; &emsp; &emsp; Splits on whitespace into list  "
   ]
  },
  {
   "cell_type": "code",
   "execution_count": 3,
   "metadata": {
    "slideshow": {
     "slide_type": "-"
    }
   },
   "outputs": [
    {
     "data": {
      "text/plain": [
       "'an example string to split with whitespace in end'"
      ]
     },
     "execution_count": 3,
     "metadata": {},
     "output_type": "execute_result"
    }
   ],
   "source": [
    "s  = '  an example string to split with whitespace in end   '\n",
    "sw = s.strip()\n",
    "sw\n",
    "#l  = sw.split()\n",
    "#l\n",
    "#l  = s.strip().split('\\t')\n",
    "#l"
   ]
  },
  {
   "cell_type": "markdown",
   "metadata": {
    "slideshow": {
     "slide_type": "slide"
    }
   },
   "source": [
    "<img src=\"img/fruits.png\" alt=\"Drawing\" style=\"width: 300px;\"/> "
   ]
  },
  {
   "cell_type": "code",
   "execution_count": 5,
   "metadata": {
    "slideshow": {
     "slide_type": "-"
    }
   },
   "outputs": [
    {
     "name": "stdout",
     "output_type": "stream",
     "text": [
      "apple\n",
      "pear\n",
      "banana\n",
      "orange\n"
     ]
    }
   ],
   "source": [
    "fh = open('../files/fruits.txt', 'r', encoding = 'utf-8')\n",
    "\n",
    "for line in fh:\n",
    "    print(line.strip())\n",
    "\n",
    "fh.close()"
   ]
  },
  {
   "cell_type": "markdown",
   "metadata": {
    "slideshow": {
     "slide_type": "slide"
    }
   },
   "source": [
    "### Another example"
   ]
  },
  {
   "cell_type": "markdown",
   "metadata": {
    "slideshow": {
     "slide_type": "-"
    }
   },
   "source": [
    "<img src=\"img/bank_statement.png\" alt=\"Drawing\" style=\"width: 300px;\"/> \n",
    "How much money is spent on ICA?"
   ]
  },
  {
   "cell_type": "code",
   "execution_count": null,
   "metadata": {
    "slideshow": {
     "slide_type": "slide"
    }
   },
   "outputs": [],
   "source": [
    "fh    = open(\"../files/bank_statement.txt\", \"r\", encoding = \"utf-8\")\n",
    "\n",
    "total = 0\n",
    "\n",
    "for line in fh:\n",
    "    expenses = line.strip().split()  # split line into list\n",
    "    store    = expenses[0]           # save what store\n",
    "    price    = float(expenses[1])    # save the price\n",
    "    if store == 'ICA':               # only count the price if store is ICA\n",
    "        total = total + price\n",
    "fh.close()\n",
    "\n",
    "print('Total amount spent on ICA is: '+str(total))  "
   ]
  },
  {
   "cell_type": "markdown",
   "metadata": {
    "slideshow": {
     "slide_type": "slide"
    }
   },
   "source": [
    "### Slightly more complex..."
   ]
  },
  {
   "cell_type": "markdown",
   "metadata": {
    "slideshow": {
     "slide_type": "-"
    }
   },
   "source": [
    "<img src=\"img/bank_statement_extended.png\" alt=\"Drawing\" style=\"width: 400px;\"/> \n",
    "\n",
    "How much money is spent on ICA in September?"
   ]
  },
  {
   "cell_type": "code",
   "execution_count": null,
   "metadata": {
    "slideshow": {
     "slide_type": "slide"
    }
   },
   "outputs": [],
   "source": [
    "fh    = open(\"../files/bank_statement_extended.txt\", \"r\", encoding = \"utf-8\")\n",
    "\n",
    "total = 0\n",
    "\n",
    "for line in fh:\n",
    "    if not line.startswith('store'):\n",
    "        expenses = line.strip().split()\n",
    "        store    = expenses[0]\n",
    "        year     = expenses[1]\n",
    "        month    = expenses[2]\n",
    "        day      = expenses[3]\n",
    "        price    = float(expenses[4])\n",
    "        if store == 'ICA' and month == '09':   # store has to be ICA and month september\n",
    "            total = total + price\n",
    "fh.close()\n",
    "\n",
    "out = open(\"../files/bank_statement_results.txt\", \"w\", encoding = \"utf-8\")   # open a file for writing the results to\n",
    "out.write('Total amount spent on ICA in september is: '+str(total))\n",
    "out.close()"
   ]
  },
  {
   "cell_type": "markdown",
   "metadata": {
    "slideshow": {
     "slide_type": "fragment"
    }
   },
   "source": [
    "<img src=\"img/bank_statement_results.png\" alt=\"Drawing\" style=\"width: 400px;\"/> "
   ]
  },
  {
   "cell_type": "markdown",
   "metadata": {
    "slideshow": {
     "slide_type": "slide"
    }
   },
   "source": [
    "# Pseudocode"
   ]
  },
  {
   "cell_type": "markdown",
   "metadata": {
    "slideshow": {
     "slide_type": "slide"
    }
   },
   "source": [
    "## How to approach a coding task\n",
    "\n",
    "Problem:  \n",
    "You have a file with a large list of movies from IMDb. You are interested in only one of the movie genres (\"Adventure\") and the movie has to be very good (rating > 8.5). What you want to know is the title and length (in minutes) of the movie.\n"
   ]
  },
  {
   "cell_type": "markdown",
   "metadata": {
    "slideshow": {
     "slide_type": "-"
    }
   },
   "source": [
    "<img src=\"img/imdb.png\" alt=\"Drawing\" style=\"width: 2500px;\"/> \n"
   ]
  },
  {
   "cell_type": "markdown",
   "metadata": {
    "slideshow": {
     "slide_type": "slide"
    }
   },
   "source": [
    "## Always write pseudocode!\n",
    "\n",
    "<br></br>\n",
    "\n",
    "Pseudocode is a description of what you want to do without actually using proper syntax"
   ]
  },
  {
   "cell_type": "markdown",
   "metadata": {
    "slideshow": {
     "slide_type": "-"
    }
   },
   "source": [
    "<img src=\"img/imdb.png\" alt=\"Drawing\" style=\"width: 2500px;\"/> "
   ]
  },
  {
   "cell_type": "markdown",
   "metadata": {
    "slideshow": {
     "slide_type": "slide"
    }
   },
   "source": [
    "#### Basic Pseudocode:\n",
    "- Open file\n",
    "- For each line (movie):\n",
    "    - Does the line start with #? -> ignore it\n",
    "    - Otherwise: split the line in columns\n",
    "    - Isolate the column that contains the genre\n",
    "    - Is it the right genre?\n",
    "    - If so, isolate the column that contains the rating\n",
    "    - Is the rating good enough?\n",
    "    - If so, get title and timing\n",
    "    - Then convert timing to minutes\n",
    "    - Finally, print results\n",
    "- Close file"
   ]
  },
  {
   "cell_type": "markdown",
   "metadata": {
    "slideshow": {
     "slide_type": "-"
    }
   },
   "source": [
    "<img src=\"img/imdb.png\" alt=\"Drawing\" style=\"width: 2500px;\"/> "
   ]
  },
  {
   "cell_type": "markdown",
   "metadata": {
    "slideshow": {
     "slide_type": "slide"
    }
   },
   "source": [
    "## Now start building the program bit by bit\n"
   ]
  },
  {
   "cell_type": "markdown",
   "metadata": {
    "slideshow": {
     "slide_type": "-"
    }
   },
   "source": [
    "- Open file\n",
    "- For each line (movie):\n",
    "    - Does the line start with #? -> ignore it\n",
    "    \n",
    "<img src=\"img/imdb.png\" alt=\"Drawing\" style=\"width: 2500px;\"/> "
   ]
  },
  {
   "cell_type": "code",
   "execution_count": 10,
   "metadata": {
    "slideshow": {
     "slide_type": "-"
    }
   },
   "outputs": [],
   "source": [
    "movies_file = open(\"../downloads/250.imdb\")\n",
    "\n",
    "for ..."
   ]
  },
  {
   "cell_type": "markdown",
   "metadata": {
    "slideshow": {
     "slide_type": "slide"
    }
   },
   "source": [
    "- Otherwise: split the line in columns\n",
    "\n",
    "<img src=\"img/imdb.png\" alt=\"Drawing\" style=\"width: 2500px;\"/> "
   ]
  },
  {
   "cell_type": "code",
   "execution_count": null,
   "metadata": {
    "slideshow": {
     "slide_type": "-"
    }
   },
   "outputs": [],
   "source": [
    "movies_file = open(\"../downloads/250.imdb\")\n",
    "\n",
    "for line in movies_file:\n",
    "    if not line[0] == \"#\":\n",
    "        ..."
   ]
  },
  {
   "cell_type": "markdown",
   "metadata": {
    "slideshow": {
     "slide_type": "slide"
    }
   },
   "source": [
    "- Isolate the column that contains the genre\n",
    "- Is it the right genre?\n",
    "\n",
    "<img src=\"img/imdb.png\" alt=\"Drawing\" style=\"width: 2500px;\"/> "
   ]
  },
  {
   "cell_type": "code",
   "execution_count": null,
   "metadata": {
    "slideshow": {
     "slide_type": "-"
    }
   },
   "outputs": [],
   "source": [
    "movies_file = open(\"../downloads/250.imdb\")\n",
    "\n",
    "for line in movies_file:\n",
    "    if not line[0] == \"#\":\n",
    "        line_split = line.split(\"|\")\n",
    "        ..."
   ]
  },
  {
   "cell_type": "markdown",
   "metadata": {
    "slideshow": {
     "slide_type": "slide"
    }
   },
   "source": [
    "- If so, isolate the column that contains the rating\n",
    "- Is the rating good enough?\n",
    "\n",
    "<img src=\"img/imdb.png\" alt=\"Drawing\" style=\"width: 2500px;\"/> "
   ]
  },
  {
   "cell_type": "code",
   "execution_count": null,
   "metadata": {
    "slideshow": {
     "slide_type": "-"
    }
   },
   "outputs": [],
   "source": [
    "movies_file = open(\"../downloads/250.imdb\")\n",
    "\n",
    "for line in movies_file:\n",
    "    if not line[0] == \"#\":\n",
    "        line_split = line.split(\"|\")\n",
    "        genres = line_split[5]\n",
    "        if \"Adventure\" in genres:\n",
    "            ..."
   ]
  },
  {
   "cell_type": "markdown",
   "metadata": {
    "slideshow": {
     "slide_type": "slide"
    }
   },
   "source": [
    "- If so, get title and Get timing\n",
    "\n",
    "<img src=\"img/imdb.png\" alt=\"Drawing\" style=\"width: 2500px;\"/> "
   ]
  },
  {
   "cell_type": "code",
   "execution_count": null,
   "metadata": {
    "slideshow": {
     "slide_type": "-"
    }
   },
   "outputs": [],
   "source": [
    "movies_file = open(\"../downloads/250.imdb\")\n",
    "\n",
    "for line in movies_file:\n",
    "    if not line[0] == \"#\":\n",
    "        line_split = line.split(\"|\")\n",
    "        genres = line_split[5]\n",
    "        if \"Adventure\" in genres:\n",
    "            rating = float(line_split[1])\n",
    "            if rating > 8.5:\n",
    "                ..."
   ]
  },
  {
   "cell_type": "markdown",
   "metadata": {
    "slideshow": {
     "slide_type": "slide"
    }
   },
   "source": [
    "- Convert timing to minutes\n",
    "- Print results\n",
    "- Close file\n",
    "<img src=\"img/imdb.png\" alt=\"Drawing\" style=\"width: 2500px;\"/> "
   ]
  },
  {
   "cell_type": "code",
   "execution_count": null,
   "metadata": {
    "slideshow": {
     "slide_type": "-"
    }
   },
   "outputs": [],
   "source": [
    "movies_file = open(\"../downloads/250.imdb\")\n",
    "\n",
    "for line in movies_file:\n",
    "    if not line[0] == \"#\":\n",
    "        line_split = line.split(\"|\")\n",
    "        genres = line_split[5]\n",
    "        if \"Adventure\" in genres:\n",
    "            rating = float(line_split[1])\n",
    "            if rating > 8.5:\n",
    "                timing_seconds = int(line_split[3])\n",
    "                title = line_split[6]\n",
    "                ...\n",
    "                "
   ]
  }
 ],
 "metadata": {
  "celltoolbar": "Slideshow",
  "kernelspec": {
   "display_name": "Python 3 (ipykernel)",
   "language": "python",
   "name": "python3"
  },
  "language_info": {
   "codemirror_mode": {
    "name": "ipython",
    "version": 3
   },
   "file_extension": ".py",
   "mimetype": "text/x-python",
   "name": "python",
   "nbconvert_exporter": "python",
   "pygments_lexer": "ipython3",
   "version": "3.9.4"
  }
 },
 "nbformat": 4,
 "nbformat_minor": 4
}
