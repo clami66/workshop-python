{
 "cells": [
  {
   "cell_type": "code",
   "execution_count": null,
   "metadata": {
    "hideCode": true,
    "hidePrompt": true,
    "scrolled": false,
    "slideshow": {
     "slide_type": "skip"
    }
   },
   "outputs": [],
   "source": [
    "from IPython.display import Image\n",
    "from IPython.display import clear_output\n",
    "from IPython.display import FileLink, FileLinks\n",
    "import matplotlib.pylab as plt\n",
    "import pandas        as pd\n",
    "import os\n",
    "import time"
   ]
  },
  {
   "cell_type": "markdown",
   "metadata": {
    "hideCode": true,
    "hideOutput": true,
    "hidePrompt": true,
    "slideshow": {
     "slide_type": "slide"
    }
   },
   "source": [
    "## Intro to Scientific Programming to:\n",
    "\n",
    "![title](img/python-logo-master-flat.png)\n",
    "\n",
    "#### - Lecture 2"
   ]
  },
  {
   "cell_type": "markdown",
   "metadata": {
    "hideCode": true,
    "hidePrompt": true,
    "slideshow": {
     "slide_type": "slide"
    }
   },
   "source": [
    "## Python standard library\n",
    "\n",
    "<img src=\"img/built-in_functions.png\" alt=\"Drawing\" style=\"width: 800px;\"/> \n",
    "\n"
   ]
  },
  {
   "cell_type": "markdown",
   "metadata": {
    "hideCode": true,
    "hidePrompt": true,
    "slideshow": {
     "slide_type": "slide"
    }
   },
   "source": [
    "### Example `print()` and `str()`\n",
    "\n",
    "<img src=\"img/simple_while_loop_functions.png\" alt=\"Drawing\" style=\"width: 400px;\"/> \n",
    "\n",
    "__Note!__  \n",
    "Here we format everything to a string before printing it"
   ]
  },
  {
   "cell_type": "markdown",
   "metadata": {
    "hideCode": true,
    "hidePrompt": true,
    "slideshow": {
     "slide_type": "slide"
    }
   },
   "source": [
    "## Python standard library\n",
    "\n",
    "<img src=\"img/built-in_functions.png\" alt=\"Drawing\" style=\"width: 700px;\"/> \n",
    "\n"
   ]
  },
  {
   "cell_type": "code",
   "execution_count": null,
   "metadata": {
    "hideCode": true,
    "hidePrompt": true,
    "scrolled": false,
    "slideshow": {
     "slide_type": "-"
    }
   },
   "outputs": [],
   "source": [
    "width  = 5\n",
    "height = 3.6\n",
    "snps   = ['rs123', 'rs5487']\n",
    "snp    = 'rs2546'\n",
    "active = True\n",
    "nums   = [2,4,6,8,4,5,2]\n",
    "\n",
    "float(width)"
   ]
  },
  {
   "cell_type": "markdown",
   "metadata": {
    "hideCode": true,
    "hidePrompt": true,
    "slideshow": {
     "slide_type": "slide"
    }
   },
   "source": [
    "## More on operations\n",
    "\n",
    "<img src=\"img/operations.png\" alt=\"Drawing\" style=\"width: 600px;\"/> \n"
   ]
  },
  {
   "cell_type": "code",
   "execution_count": null,
   "metadata": {
    "hideCode": true,
    "hidePrompt": true,
    "scrolled": false,
    "slideshow": {
     "slide_type": "-"
    }
   },
   "outputs": [],
   "source": [
    "x = 4\n",
    "y = 3\n",
    "z = [2, 3, 6, 3, 9, 23]\n",
    "pow(x, y)"
   ]
  },
  {
   "cell_type": "markdown",
   "metadata": {
    "hideCode": true,
    "hidePrompt": true,
    "slideshow": {
     "slide_type": "slide"
    }
   },
   "source": [
    "## Comparison operators\n",
    "\n",
    "<img src=\"img/comparison_operator.png\" alt=\"Drawing\" style=\"width: 600px;\"/> \n",
    "\n",
    "Can be used on int, float, str, and bool. Outputs a boolean."
   ]
  },
  {
   "cell_type": "code",
   "execution_count": null,
   "metadata": {
    "hideCode": true,
    "hidePrompt": true,
    "scrolled": false,
    "slideshow": {
     "slide_type": "-"
    }
   },
   "outputs": [],
   "source": [
    "x = 5\n",
    "y = 3\n",
    "\n",
    "y > x"
   ]
  },
  {
   "cell_type": "markdown",
   "metadata": {
    "hideCode": true,
    "hidePrompt": true,
    "slideshow": {
     "slide_type": "slide"
    }
   },
   "source": [
    "## Logical operators\n",
    "\n",
    "<img src=\"img/logical_operator.png\" alt=\"Drawing\" style=\"width: 600px;\"/> \n",
    "\n",
    "\n",
    "\n",
    "## Membership operators\n",
    "\n",
    "<img src=\"img/membership_operator.png\" alt=\"Drawing\" style=\"width: 600px;\"/> \n"
   ]
  },
  {
   "cell_type": "code",
   "execution_count": null,
   "metadata": {
    "hideCode": false,
    "hidePrompt": true,
    "scrolled": false,
    "slideshow": {
     "slide_type": "-"
    }
   },
   "outputs": [],
   "source": [
    "x = 2\n",
    "y = 3\n",
    "\n",
    "x == 2 and y == 5\n",
    "\n",
    "#x = [2,4,7,3,5,9]\n",
    "#y = ['a','b','c']\n",
    "\n",
    "#2 in x\n",
    "#4 in x and 'd' in y"
   ]
  },
  {
   "cell_type": "code",
   "execution_count": null,
   "metadata": {
    "hideCode": false,
    "hidePrompt": true,
    "scrolled": false,
    "slideshow": {
     "slide_type": "slide"
    }
   },
   "outputs": [],
   "source": [
    "# A simple loop that adds 2 to a number and checks if the number is even\n",
    "i    = 0\n",
    "even = [2,4,6,8,10]\n",
    "while i < 10:\n",
    "    u = i + 2\n",
    "    print('u is '+str(u)+'. Is this number even? '+str(u in even))\n",
    "    i += 1"
   ]
  },
  {
   "cell_type": "code",
   "execution_count": null,
   "metadata": {
    "hideCode": false,
    "hidePrompt": true,
    "scrolled": false,
    "slideshow": {
     "slide_type": "slide"
    }
   },
   "outputs": [],
   "source": [
    "# A simple loop that adds 2 to a number, check if number is even and below 5\n",
    "i    = 0\n",
    "even = [2,4,6,8,10]\n",
    "while i < 10:\n",
    "    u = i + 2\n",
    "    print('u is '+str(u)+'. Is this number even and below 5? '+\\\n",
    "          str(u in even and u < 5))\n",
    "    i += 1"
   ]
  },
  {
   "cell_type": "markdown",
   "metadata": {
    "hideCode": false,
    "hidePrompt": true,
    "slideshow": {
     "slide_type": "slide"
    }
   },
   "source": [
    "### Order of precedence\n",
    "\n",
    "There is an order of precedence for all operators:\n",
    "\n",
    "<img src=\"img/order_of_precedence.png\" alt=\"Drawing\" style=\"width: 600px;\"/> \n"
   ]
  },
  {
   "cell_type": "markdown",
   "metadata": {
    "hideCode": false,
    "hidePrompt": true,
    "slideshow": {
     "slide_type": "slide"
    }
   },
   "source": [
    "### Word of caution when using operators"
   ]
  },
  {
   "cell_type": "code",
   "execution_count": 8,
   "metadata": {
    "hideCode": false,
    "hidePrompt": true,
    "scrolled": false,
    "slideshow": {
     "slide_type": "fragment"
    }
   },
   "outputs": [
    {
     "data": {
      "text/plain": [
       "True"
      ]
     },
     "execution_count": 8,
     "metadata": {},
     "output_type": "execute_result"
    }
   ],
   "source": [
    "x = 5\n",
    "y = 7\n",
    "z = 2\n",
    "x == 5 and y < 7 or z > 1\n",
    "\n",
    "#x > 6 and (y == 7 or z > 1)\n",
    "\n",
    "# and binds stronger than or\n",
    "#x > 4 or y == 6 and z > 3\n",
    "#x > 4 or (y == 6 and z > 3)\n",
    "#(x > 4 or y == 6) and z > 3"
   ]
  },
  {
   "cell_type": "code",
   "execution_count": 11,
   "metadata": {
    "hideCode": false,
    "hidePrompt": true,
    "scrolled": false,
    "slideshow": {
     "slide_type": "fragment"
    }
   },
   "outputs": [
    {
     "data": {
      "text/plain": [
       "False"
      ]
     },
     "execution_count": 11,
     "metadata": {},
     "output_type": "execute_result"
    }
   ],
   "source": [
    "# BEWARE!\n",
    "x = 5\n",
    "y = 8\n",
    "\n",
    "#xx == 6 or xxx == 6 or x > 2\n",
    "x > 42 or (y < 7 and xx > 1000)"
   ]
  },
  {
   "cell_type": "markdown",
   "metadata": {
    "hideCode": false,
    "hidePrompt": true,
    "slideshow": {
     "slide_type": "fragment"
    }
   },
   "source": [
    "__Python does short-circuit evaluation of operators__"
   ]
  },
  {
   "cell_type": "markdown",
   "metadata": {
    "hideCode": false,
    "hidePrompt": true,
    "slideshow": {
     "slide_type": "slide"
    }
   },
   "source": [
    "## More on sequences <small><b>(For example strings and lists)</b></small>\n",
    "\n",
    "Lists (and strings) are an ORDERED collection of elements where every element can be accessed through an index.\n",
    "\n",
    "<img src=\"img/operations_on_sequences.png\" alt=\"Drawing\" style=\"width: 600px;\"/> \n"
   ]
  },
  {
   "cell_type": "code",
   "execution_count": 7,
   "metadata": {
    "hideCode": false,
    "hidePrompt": true,
    "scrolled": false,
    "slideshow": {
     "slide_type": "-"
    }
   },
   "outputs": [
    {
     "data": {
      "text/plain": [
       "[9, 8, 9, 8]"
      ]
     },
     "execution_count": 7,
     "metadata": {},
     "output_type": "execute_result"
    }
   ],
   "source": [
    "l = [2,3,4,5,3,7,5,9]\n",
    "n = [9,8]\n",
    "s = 'some longrandomstring'\n",
    "n * 2\n",
    "#'o' in s\n",
    "#19 in l\n",
    "#l + n\n",
    "#\n",
    "#l[2]\n",
    "#s[0:7]\n",
    "#s[0:8:2]\n",
    "#s[-2]\n",
    "#l[0] = 42\n",
    "#l\n",
    "#s[0] = 'S'"
   ]
  },
  {
   "cell_type": "markdown",
   "metadata": {
    "hideCode": false,
    "hidePrompt": true,
    "slideshow": {
     "slide_type": "slide"
    }
   },
   "source": [
    "## Mutable vs Immutable objects\n",
    "\n",
    "<br></br>\n",
    "\n",
    "Mutable objects can be altered after creation, while immutable objects can't.\n",
    "\n",
    "\n",
    "__Immutable objects:&emsp;&emsp;&emsp;&emsp;&emsp;&emsp;&emsp;Mutable objects:__  \n",
    "- `int`    &emsp;&emsp;&emsp;&emsp;&emsp;&emsp;&emsp;&emsp;&emsp;&emsp;&emsp;&emsp;&emsp;  &bull;  `list`\n",
    "- `float` &emsp;&emsp;&emsp;&emsp;&emsp;&emsp;&emsp;&emsp;&emsp;&emsp;&ensp;&ensp;&ensp;&ensp;  &bull;  `set`\n",
    "- `bool` &emsp;&emsp;&emsp;&emsp;&emsp;&emsp;&emsp;&emsp;&emsp;&emsp;&emsp;&ensp;&ensp;&ensp; &bull;  `dict`\n",
    "- `str`\n",
    "- `tuple`\n"
   ]
  },
  {
   "cell_type": "markdown",
   "metadata": {
    "hideCode": false,
    "hidePrompt": true,
    "slideshow": {
     "slide_type": "slide"
    }
   },
   "source": [
    "## Operations on mutable sequences\n",
    "\n",
    "\n",
    "\n",
    "<img src=\"img/operations_on_mutable_sequences.png\" alt=\"Drawing\" style=\"width: 600px;\"/> "
   ]
  },
  {
   "cell_type": "code",
   "execution_count": 8,
   "metadata": {
    "hideCode": false,
    "hidePrompt": true,
    "scrolled": false,
    "slideshow": {
     "slide_type": "-"
    }
   },
   "outputs": [
    {
     "data": {
      "text/plain": [
       "[9, 8, 7, 6, 5, 4, 3, 2, 1, 0]"
      ]
     },
     "execution_count": 8,
     "metadata": {},
     "output_type": "execute_result"
    }
   ],
   "source": [
    "s = [0,1,2,3,4,5,6,7,8,9]\n",
    "#s.insert(5,10)\n",
    "s.reverse()\n",
    "s\n",
    "#s"
   ]
  },
  {
   "cell_type": "markdown",
   "metadata": {
    "hideCode": false,
    "hidePrompt": true,
    "slideshow": {
     "slide_type": "slide"
    }
   },
   "source": [
    "## Summary\n",
    "\n",
    "- The python standard library has many built-in functions regularly used\n",
    "- Operators are used to carry out computations on different values\n",
    "- Three types of operators; comparison, logical, and membership\n",
    "- Order of precedence crucial!\n",
    "- Mutable object can be changed after creation while immutable objects cannot be changed\n",
    "\n",
    "<br></br>\n",
    "<br></br>\n"
   ]
  },
  {
   "cell_type": "markdown",
   "metadata": {
    "hideCode": false,
    "hidePrompt": true,
    "slideshow": {
     "slide_type": "slide"
    }
   },
   "source": [
    "## Loops in Python"
   ]
  },
  {
   "cell_type": "code",
   "execution_count": null,
   "metadata": {
    "hideCode": false,
    "hidePrompt": true,
    "scrolled": true,
    "slideshow": {
     "slide_type": "-"
    }
   },
   "outputs": [],
   "source": [
    "fruits = ['apple','pear','banana','orange']\n",
    "\n",
    "print(fruits[0])\n",
    "print(fruits[1])\n",
    "print(fruits[2])\n",
    "print(fruits[3])"
   ]
  },
  {
   "cell_type": "code",
   "execution_count": 13,
   "metadata": {
    "hideCode": false,
    "hidePrompt": true,
    "scrolled": false,
    "slideshow": {
     "slide_type": "-"
    }
   },
   "outputs": [
    {
     "name": "stdout",
     "output_type": "stream",
     "text": [
      "apple\n",
      " was the last fruit\n",
      "pear\n",
      " was the last fruit\n",
      "banana\n",
      " was the last fruit\n",
      "orange\n",
      " was the last fruit\n",
      "done\n"
     ]
    }
   ],
   "source": [
    "fruits = ['apple','pear','banana','orange']\n",
    "\n",
    "for fruit in fruits:\n",
    "    print(fruit)\n",
    "    print(\" was the last fruit\")\n",
    "#    print('end')\n",
    "print('done')"
   ]
  },
  {
   "cell_type": "markdown",
   "metadata": {
    "hideCode": false,
    "hidePrompt": true,
    "slideshow": {
     "slide_type": "-"
    }
   },
   "source": [
    "__Always remember to INDENT your loops!__"
   ]
  },
  {
   "cell_type": "markdown",
   "metadata": {
    "hideCode": false,
    "hidePrompt": true,
    "slideshow": {
     "slide_type": "slide"
    }
   },
   "source": [
    "### Different types of loops"
   ]
  },
  {
   "cell_type": "markdown",
   "metadata": {
    "hideCode": false,
    "hidePrompt": true,
    "slideshow": {
     "slide_type": "fragment"
    }
   },
   "source": [
    "### `For` loop"
   ]
  },
  {
   "cell_type": "code",
   "execution_count": 19,
   "metadata": {
    "hideCode": false,
    "hidePrompt": true,
    "scrolled": false,
    "slideshow": {
     "slide_type": "-"
    }
   },
   "outputs": [
    {
     "name": "stdout",
     "output_type": "stream",
     "text": [
      "apple\n",
      "pear\n",
      "banana\n",
      "orange\n"
     ]
    }
   ],
   "source": [
    "fruits = ['apple','pear','banana','orange']\n",
    "\n",
    "for fruit in fruits:\n",
    "    print(fruit)"
   ]
  },
  {
   "cell_type": "markdown",
   "metadata": {
    "hideCode": false,
    "hidePrompt": true,
    "slideshow": {
     "slide_type": "fragment"
    }
   },
   "source": [
    "### `While` loop"
   ]
  },
  {
   "cell_type": "code",
   "execution_count": 14,
   "metadata": {
    "hideCode": false,
    "hidePrompt": true,
    "scrolled": false,
    "slideshow": {
     "slide_type": "-"
    }
   },
   "outputs": [
    {
     "name": "stdout",
     "output_type": "stream",
     "text": [
      "apple\n",
      "pear\n",
      "banana\n",
      "orange\n"
     ]
    }
   ],
   "source": [
    "fruits = ['apple','pear','banana','orange']\n",
    "\n",
    "i = 0\n",
    "while i < len(fruits):\n",
    "    print(fruits[i])\n",
    "i = i + 1"
   ]
  },
  {
   "cell_type": "markdown",
   "metadata": {
    "hideCode": false,
    "hidePrompt": true,
    "slideshow": {
     "slide_type": "slide"
    }
   },
   "source": [
    "### Different types of loops\n",
    "\n",
    "__`For` loop__\n",
    "\n",
    "Is a control flow statement that performs a fixed operation over a known amount of steps.\n",
    "\n",
    "__`While` loop__\n",
    "\n",
    "Is a control flow statement that allows code to be executed repeatedly based on a given Boolean condition.\n",
    "\n",
    "<br></br>\n",
    "\n",
    "__Which one to use?__\n",
    "\n",
    "`For` loops better for simple iterations over lists and other iterable objects\n",
    "\n",
    "`While` loops are more flexible and can iterate an unspecified number of times\n",
    "\n",
    "\n"
   ]
  },
  {
   "cell_type": "markdown",
   "metadata": {
    "hideCode": false,
    "hidePrompt": true,
    "slideshow": {
     "slide_type": "slide"
    }
   },
   "source": [
    "## Example of a simple Python script\n",
    "\n",
    "<br></br>\n",
    "\n",
    "<img src=\"img/simple_while_loop.png\" alt=\"Drawing\" style=\"width: 600px;\"/> "
   ]
  },
  {
   "cell_type": "markdown",
   "metadata": {
    "hideCode": false,
    "hidePrompt": true,
    "slideshow": {
     "slide_type": "slide"
    }
   },
   "source": [
    "## Conditional `if/else` &nbsp;statements\n",
    "\n",
    "\n",
    "<img src=\"img/if_else_statement.png\" alt=\"Drawing\" style=\"width: 600px;\"/> "
   ]
  },
  {
   "cell_type": "code",
   "execution_count": null,
   "metadata": {
    "hideCode": false,
    "hidePrompt": true,
    "scrolled": false,
    "slideshow": {
     "slide_type": "slide"
    }
   },
   "outputs": [],
   "source": [
    "shopping_list = ['bread', 'egg', 'butter', 'milk']\n",
    "\n",
    "if len(shopping_list) > 5:\n",
    "    print('Go shopping!')\n",
    "else:\n",
    "    print('Nah! I\\'ll do it tomorrow!')"
   ]
  },
  {
   "cell_type": "code",
   "execution_count": null,
   "metadata": {
    "hideCode": false,
    "hidePrompt": true,
    "scrolled": false,
    "slideshow": {
     "slide_type": "fragment"
    }
   },
   "outputs": [],
   "source": [
    "shopping_list = ['bread', 'egg', 'butter', 'milk']\n",
    "tired         = False\n",
    "\n",
    "if len(shopping_list) > 5:\n",
    "    if not tired:\n",
    "        print('Go shopping!')\n",
    "    else:\n",
    "        print('Too tired, I\\'ll do it later')\n",
    "else:\n",
    "    if not tired:\n",
    "        print('Better get it over with today anyway')\n",
    "    else:\n",
    "        print('Nah! I\\'ll do it tomorrow!')"
   ]
  },
  {
   "cell_type": "markdown",
   "metadata": {
    "hideCode": true,
    "hidePrompt": true,
    "slideshow": {
     "slide_type": "fragment"
    }
   },
   "source": [
    "### This is an example of a nested conditional"
   ]
  },
  {
   "cell_type": "markdown",
   "metadata": {
    "hideCode": true,
    "hidePrompt": true,
    "slideshow": {
     "slide_type": "slide"
    }
   },
   "source": [
    "## Putting everything into a Python script\n",
    "\n",
    "Any longer pieces of code that have been used and will be re-used SHOULD be saved\n",
    "\n",
    "Two options:\n",
    "- Save it as a text file and make it executable\n",
    "- Save it as a notebook file"
   ]
  },
  {
   "cell_type": "markdown",
   "metadata": {
    "hideCode": true,
    "hidePrompt": true,
    "slideshow": {
     "slide_type": "slide"
    }
   },
   "source": [
    "### Things to remember when working with scripts\n",
    "\n",
    "- Put _#!/usr/bin/env python_ in the beginning of the file\n",
    "- Make the file executable to run with `./script.py`\n",
    "- Otherwise run script with `python script.py`"
   ]
  },
  {
   "cell_type": "markdown",
   "metadata": {
    "hideCode": true,
    "hidePrompt": true,
    "slideshow": {
     "slide_type": "slide"
    }
   },
   "source": [
    "## Summary\n",
    "\n",
    "- Python has two types of loops, `For` loops and `While` loops\n",
    "- Loops can be used on any iterable types and objects\n",
    "- `If/Else` statement are used when deciding actions depending on a condition that evaluates to a boolean\n",
    "- Several `If/Else` statements can be nested\n",
    "- Save code as notebook or text file to be run using python"
   ]
  }
 ],
 "metadata": {
  "celltoolbar": "Hide code",
  "hide_code_all_hidden": true,
  "kernelspec": {
   "display_name": "Python 3 (ipykernel)",
   "language": "python",
   "name": "python3"
  },
  "language_info": {
   "codemirror_mode": {
    "name": "ipython",
    "version": 3
   },
   "file_extension": ".py",
   "mimetype": "text/x-python",
   "name": "python",
   "nbconvert_exporter": "python",
   "pygments_lexer": "ipython3",
   "version": "3.9.4"
  },
  "rise": {
   "height": 1024,
   "width": 1024
  }
 },
 "nbformat": 4,
 "nbformat_minor": 2
}
