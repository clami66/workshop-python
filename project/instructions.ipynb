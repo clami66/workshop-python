{
 "cells": [
  {
   "cell_type": "markdown",
   "metadata": {},
   "source": [
    "# Project description\n",
    "\n",
    "## What you should do\n",
    "\n",
    "To successfully complete the course and be awarded the credits, you are expected to complete this project in all its parts within the provided deadline. You will be putting together a Jupyter Notebook to collect all of the necessary code (code cells) and to explain your reasoning behind it (markdown cells, comments). You will also turn some of the code into a python script (.py). All code must run without errors and produce the correct output. \n",
    "\n",
    "When you complete the project, you will submit the Jupyter Notebook and the python script together in a **zip file**.\n",
    "\n",
    "## Deadline\n",
    "\n",
    "You will have one month to complete the project. This is a **hard deadline** so you must complete and send the project to me (via email) before it expires.\n",
    "\n",
    "The deadline is set for <font color='red'>**Monday, June 13 2022 at 23:59**</font>.\n",
    "\n",
    "## Evaluation\n",
    "\n",
    "I am not the evaluator for this project, so I will not have a say on whether you pass or not. I will just be setting the criteria so that the evaluator can assess your job.\n",
    "\n",
    "## Questions\n",
    "\n",
    "If you have questions about the project you can contact me via email and book a meeting over zoom or in person. The **Friday visiting hours are now discontinued** since I will be unavailable (or everyone will be on holiday) for most Fridays between now and the deadline.\n",
    "\n",
    "## In detail\n",
    "\n",
    "You have two options:\n",
    "\n",
    "1. **You can use a standard data file**, called the Titanic dataset, which you can download [here](https://github.com/clami66/workshop-python/raw/0422/project/data/titanic.csv) (Right click -> Save link as). The file contains data for 887 of the real Titanic passengers. Each row represents one person. Each column contains info about passengers (did they survive, what class where they travelling in, what sex and age, how many siblings/spouses/parents/children were aboard, how much the total fare was for the family).\n",
    "1. Or **you can use data file(s) from your own project** that you want to process. This option is available only if the files are tabular (like in the IMDb dataset) and they allow to perform all tasks outlined below\n",
    "\n",
    "**You will be performing a series of tasks. For each task, you will follow a checklist to make sure everything is done correctly**:\n",
    "\n",
    "1. Parse the data file **without using pandas**:\n",
    "  - [x] Use a `for` or a `while` loop\n",
    "  - [ ] Use `if/else` conditional blocks where necessary\n",
    "  - [ ] Save the information in one or more dictionaries so that it can be used in the following tasks\n",
    "1. Manipulate the data:\n",
    "  - [ ] From one or more columns in the original file, generate another column with new information\n",
    "  - [ ] New information should be added to a dictionary\n",
    "  - [ ] Save the original data plus the extra column to a new text file\n",
    "1. Do some analysis **with pandas**:\n",
    "  - [ ] Reload the data from disk (or reuse the previous dictionary if possible) to generate a new DataFrame\n",
    "  - [ ] Filter the data according to some criteria of your choosing\n",
    "  - [ ] Generate a new column from one or more original columns\n",
    "  - [ ] Sort the DataFrame according to one column (google it!)\n",
    "  - [ ] Save the DataFrame to disk\n",
    "1. Visualize the data by generating at least two (2) plots\n",
    "  - [ ] Plot columns (x and y axes) against each other (numeric/numeric or categorical/numeric) using the relevant plot type. You can also plot a single column alone (y axis)\n",
    "  - [ ] The resulting plots must be arranged in rows/columns as subplots\n",
    "  - [ ] Axes must be labelled\n",
    "  - [ ] The plots must be titled\n",
    "  - [ ] The style and color of markers, if any, should be changed\n",
    "  - [ ] The plots should be saved to a `.png` file with the `plt.savefig()` method (google it!)\n",
    "1. Structure the code in functions\n",
    "  - [ ] The functions should accept parameters, sometimes with default values, and return the results\n",
    "  - [ ] The functions should not access global variables\n",
    "  - [ ] The functions should perform a defined task and have a self-explanatory name\n",
    "  - [ ] The functions should be documented with docstrings so that the user can check what they do with `help(function_name)`\n",
    "  - [ ] The main portion of the code (whatever code is outside a function) should be concise, no more than 30 lines or so\n",
    "1. Turn some of the code from the notebook into a python script (.py):\n",
    "  - [ ] The script must not contain hardcoded file paths\n",
    "  - [ ] The script must output a `.png` file with plots and a text file with the processed data\n",
    "  - [ ] Input and outputs (plots and new text files) file paths should be provided by the user through sys.argv\n",
    "  - [ ] You can either load the data with pandas or do the parsing yourself\n",
    "  - [ ] The script must run correctly and produce the expected output files\n",
    "1. Comment your code so that I can understand the reasoning behind your choices\n",
    "    - Pseudocode is not mandatory, but welcome"
   ]
  },
  {
   "cell_type": "code",
   "execution_count": null,
   "metadata": {},
   "outputs": [],
   "source": [
    "# You can start from here if you want,\n",
    "# and check the boxes above as you go along"
   ]
  }
 ],
 "metadata": {
  "kernelspec": {
   "display_name": "Python 3 (ipykernel)",
   "language": "python",
   "name": "python3"
  },
  "language_info": {
   "codemirror_mode": {
    "name": "ipython",
    "version": 3
   },
   "file_extension": ".py",
   "mimetype": "text/x-python",
   "name": "python",
   "nbconvert_exporter": "python",
   "pygments_lexer": "ipython3",
   "version": "3.9.4"
  }
 },
 "nbformat": 4,
 "nbformat_minor": 4
}
