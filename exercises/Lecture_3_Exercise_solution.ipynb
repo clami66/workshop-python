{
 "cells": [
  {
   "cell_type": "markdown",
   "metadata": {},
   "source": [
    "## Notebook 3"
   ]
  },
  {
   "cell_type": "markdown",
   "metadata": {},
   "source": [
    "## Open / Close files"
   ]
  },
  {
   "cell_type": "markdown",
   "metadata": {},
   "source": [
    "## Blocket ads\n",
    "\n",
    "Blocket is a Swedish site for buying or selling things, much like eBay. In the file `blocket_listings.txt` you will find a list of ads that has been put up on the site. You can download the file from [this link](https://raw.githubusercontent.com/clami66/workshop-python/0422/downloads/blocket_listings.txt) (`right click -> Save link as`) and save it in the same folder as this notebook. If you save it elsewhere, you will have to fix the path accordingly when you `open()` the file!\n",
    "\n",
    "1. Your first task is to make a small python script that takes this file as input, loops over the lines, and prints the content line by line. (Tip! Use strip to remove the newlines)  \n",
    "\n",
    "2. As we are not interested in the headers, don't print the header line (Tip! use startswith())  \n",
    "\n",
    "3. Save each word in the line as an element in a list and print the list (Tip! use split())  \n",
    "\n",
    "4. Save each element in the list to a separate variable and print the name of the item and the date. (Tip! make sure the values are of the correct type also) \n",
    "\n",
    "5. Only print items and dates that has been sold, not bought (Tip! use an if statement)   \n",
    "\n",
    "6. Save all the sold items in a list, and print the list in the end (Tip! create an empty list before the loop, and use append())  \n",
    "\n",
    "7. Now we are only interested in sold items in the furniture category, print the list for these (Tip! use an AND statement)  \n",
    "\n",
    "8. Print a list of all furniture sold in October (Tip! split date to get month)  \n",
    "\n",
    "9. Add a new list containing furniture that was BOUGHT in October. Print both lists (Tip! make a nested if statement)  \n",
    "\n",
    "10. Finally, write this information to a file called 'blocket_listings_selected.txt' that looks like this:  \n",
    "\n",
    "<i>Furniture sold in October are:</i>  \n",
    "<i>[list of items, one per line]</i>\n",
    "\n",
    "<i>Furniture bought in October are:</i>  \n",
    "<i>[list of items, one per line]</i>"
   ]
  },
  {
   "cell_type": "code",
   "execution_count": 2,
   "metadata": {},
   "outputs": [
    {
     "name": "stdout",
     "output_type": "stream",
     "text": [
      "item\tcategory\tbuy/sell\tprice\tdate\r\n",
      "desk\tfurniture\tsell\t2000\t2018-01-14\r\n",
      "audi\tvehicles\tsell\t28900\t2018-04-23\r\n",
      "lamp\tfurniture\tbuy\t200\t2018-03-02\r\n",
      "vespa\tvehicles\tbuy\t8000\t2018-04-28\r\n",
      "iphone\telectronics\tsell\t1500\t2018-05-09\r\n",
      "laptop\telectronics\tbuy\t3000\t2018-08-16\r\n",
      "razor\telectronics\tsell\t200\t2018-09-29\r\n",
      "couch\tfurniture\tsell\t500\t2018-10-05\r\n",
      "moped\tvehicles\tbuy\t3000\t2018-11-25\r\n"
     ]
    }
   ],
   "source": [
    "!head ../downloads/blocket_listings.txt"
   ]
  },
  {
   "cell_type": "markdown",
   "metadata": {},
   "source": [
    "### Blocket ads - Answer\n",
    "\n",
    "Below we demonstrate one way of solving this, there are of course other correct solutions."
   ]
  },
  {
   "cell_type": "markdown",
   "metadata": {},
   "source": [
    "1. Your first task is to make a small python script that takes this file as input, loops over the lines, and prints the content line by line. (Tip! Use strip to remove the newlines)"
   ]
  },
  {
   "cell_type": "code",
   "execution_count": 5,
   "metadata": {},
   "outputs": [
    {
     "name": "stdout",
     "output_type": "stream",
     "text": [
      "item\tcategory\tbuy/sell\tprice\tdate\n",
      "desk\tfurniture\tsell\t2000\t2018-01-14\n",
      "audi\tvehicles\tsell\t28900\t2018-04-23\n",
      "lamp\tfurniture\tbuy\t200\t2018-03-02\n",
      "vespa\tvehicles\tbuy\t8000\t2018-04-28\n",
      "iphone\telectronics\tsell\t1500\t2018-05-09\n",
      "laptop\telectronics\tbuy\t3000\t2018-08-16\n",
      "razor\telectronics\tsell\t200\t2018-09-29\n",
      "couch\tfurniture\tsell\t500\t2018-10-05\n",
      "moped\tvehicles\tbuy\t3000\t2018-11-25\n",
      "table\tfurniture\tbuy\t1200\t2018-10-05\n",
      "lamp\tfurniture\tbuy\t150\t2018-10-23\n",
      "bicycle\tvehicles\tsell\t400\t2018-09-26\n",
      "desk\tfurniture\tbuy\t400\t2018-08-30\n",
      "PC\telectronics\tsell\t3000\t2018-03-25\n",
      "bed\tfurniture\tbuy\t1000\t2018-10-06\n",
      "shoerack\tfurniture\tsell\t200\t2018-10-24\n",
      "saab\tvehicles\tsell\t16000\t2018-11-21\n",
      "chair\tfurniture\tbuy\t300\t2018-10-03\n",
      "wardrobe\tfurniture\tsell\t300\t2018-10-23\n"
     ]
    }
   ],
   "source": [
    "fh = open(\"../downloads/blocket_listings.txt\", \"r\", encoding = \"utf-8\")   # we open a handle to the file\n",
    "\n",
    "for line in fh:\n",
    "    print(line.strip())"
   ]
  },
  {
   "cell_type": "markdown",
   "metadata": {},
   "source": [
    "2. As we are not interested in the headers, don't print the header line. You can also use the `startswith()` function to do this:"
   ]
  },
  {
   "cell_type": "code",
   "execution_count": 5,
   "metadata": {},
   "outputs": [
    {
     "name": "stdout",
     "output_type": "stream",
     "text": [
      "the first string is a header\n",
      "the second string is not a header\n"
     ]
    }
   ],
   "source": [
    "# example for startswith()\n",
    "\n",
    "text1 = \"Header line!\"\n",
    "text2 = \"not a header line!\"\n",
    "\n",
    "if text1.startswith(\"Header\"):\n",
    "    print(\"the first string is a header\")\n",
    "    \n",
    "if not text2.startswith(\"Header\"):\n",
    "    print(\"the second string is not a header\")"
   ]
  },
  {
   "cell_type": "code",
   "execution_count": 7,
   "metadata": {},
   "outputs": [
    {
     "name": "stdout",
     "output_type": "stream",
     "text": [
      "desk\tfurniture\tsell\t2000\t2018-01-14\n",
      "audi\tvehicles\tsell\t28900\t2018-04-23\n",
      "lamp\tfurniture\tbuy\t200\t2018-03-02\n",
      "vespa\tvehicles\tbuy\t8000\t2018-04-28\n",
      "iphone\telectronics\tsell\t1500\t2018-05-09\n",
      "laptop\telectronics\tbuy\t3000\t2018-08-16\n",
      "razor\telectronics\tsell\t200\t2018-09-29\n",
      "couch\tfurniture\tsell\t500\t2018-10-05\n",
      "moped\tvehicles\tbuy\t3000\t2018-11-25\n",
      "table\tfurniture\tbuy\t1200\t2018-10-05\n",
      "lamp\tfurniture\tbuy\t150\t2018-10-23\n",
      "bicycle\tvehicles\tsell\t400\t2018-09-26\n",
      "desk\tfurniture\tbuy\t400\t2018-08-30\n",
      "PC\telectronics\tsell\t3000\t2018-03-25\n",
      "bed\tfurniture\tbuy\t1000\t2018-10-06\n",
      "shoerack\tfurniture\tsell\t200\t2018-10-24\n",
      "saab\tvehicles\tsell\t16000\t2018-11-21\n",
      "chair\tfurniture\tbuy\t300\t2018-10-03\n",
      "wardrobe\tfurniture\tsell\t300\t2018-10-23\n"
     ]
    }
   ],
   "source": [
    "fh = open(\"../downloads/blocket_listings.txt\", \"r\", encoding = \"utf-8\")\n",
    "\n",
    "for line in fh:\n",
    "    line_strip = line.strip()\n",
    "    if not line_strip.startswith(\"item\"):\n",
    "        print(line_strip)"
   ]
  },
  {
   "cell_type": "markdown",
   "metadata": {},
   "source": [
    "3. Save each word in the line as an element in a list and print the list (Tip! use split())"
   ]
  },
  {
   "cell_type": "code",
   "execution_count": 9,
   "metadata": {},
   "outputs": [
    {
     "name": "stdout",
     "output_type": "stream",
     "text": [
      "['desk', 'furniture', 'sell', '2000', '2018-01-14']\n",
      "['audi', 'vehicles', 'sell', '28900', '2018-04-23']\n",
      "['lamp', 'furniture', 'buy', '200', '2018-03-02']\n",
      "['vespa', 'vehicles', 'buy', '8000', '2018-04-28']\n",
      "['iphone', 'electronics', 'sell', '1500', '2018-05-09']\n",
      "['laptop', 'electronics', 'buy', '3000', '2018-08-16']\n",
      "['razor', 'electronics', 'sell', '200', '2018-09-29']\n",
      "['couch', 'furniture', 'sell', '500', '2018-10-05']\n",
      "['moped', 'vehicles', 'buy', '3000', '2018-11-25']\n",
      "['table', 'furniture', 'buy', '1200', '2018-10-05']\n",
      "['lamp', 'furniture', 'buy', '150', '2018-10-23']\n",
      "['bicycle', 'vehicles', 'sell', '400', '2018-09-26']\n",
      "['desk', 'furniture', 'buy', '400', '2018-08-30']\n",
      "['PC', 'electronics', 'sell', '3000', '2018-03-25']\n",
      "['bed', 'furniture', 'buy', '1000', '2018-10-06']\n",
      "['shoerack', 'furniture', 'sell', '200', '2018-10-24']\n",
      "['saab', 'vehicles', 'sell', '16000', '2018-11-21']\n",
      "['chair', 'furniture', 'buy', '300', '2018-10-03']\n",
      "['wardrobe', 'furniture', 'sell', '300', '2018-10-23']\n"
     ]
    }
   ],
   "source": [
    "fh = open(\"../downloads/blocket_listings.txt\", \"r\", encoding = \"utf-8\")\n",
    "\n",
    "for line in fh:\n",
    "    line_strip = line.strip()\n",
    "    if not line_strip.startswith(\"item\"):\n",
    "        line_split = line_strip.split(\"\\t\")\n",
    "        print(line_split)"
   ]
  },
  {
   "cell_type": "markdown",
   "metadata": {},
   "source": [
    "4. Save each element in the list to a separate variable and print the name of the item and the date. (Tip! make sure the values are of the correct type also)"
   ]
  },
  {
   "cell_type": "code",
   "execution_count": 10,
   "metadata": {},
   "outputs": [
    {
     "name": "stdout",
     "output_type": "stream",
     "text": [
      "desk 2018-01-14\n",
      "audi 2018-04-23\n",
      "lamp 2018-03-02\n",
      "vespa 2018-04-28\n",
      "iphone 2018-05-09\n",
      "laptop 2018-08-16\n",
      "razor 2018-09-29\n",
      "couch 2018-10-05\n",
      "moped 2018-11-25\n",
      "table 2018-10-05\n",
      "lamp 2018-10-23\n",
      "bicycle 2018-09-26\n",
      "desk 2018-08-30\n",
      "PC 2018-03-25\n",
      "bed 2018-10-06\n",
      "shoerack 2018-10-24\n",
      "saab 2018-11-21\n",
      "chair 2018-10-03\n",
      "wardrobe 2018-10-23\n"
     ]
    }
   ],
   "source": [
    "fh = open(\"../downloads/blocket_listings.txt\", \"r\", encoding = \"utf-8\")\n",
    "\n",
    "for line in fh:\n",
    "    line_strip = line.strip()\n",
    "    if not line_strip.startswith(\"item\"):\n",
    "        line_split = line_strip.split(\"\\t\")\n",
    "        item_name = line_split[0]\n",
    "        date = line_split[4]\n",
    "        print(item_name, date)"
   ]
  },
  {
   "cell_type": "markdown",
   "metadata": {},
   "source": [
    "5. Only print items and dates that has been sold, not bought (Tip! use an if statement)"
   ]
  },
  {
   "cell_type": "code",
   "execution_count": 11,
   "metadata": {},
   "outputs": [
    {
     "name": "stdout",
     "output_type": "stream",
     "text": [
      "desk 2018-01-14\n",
      "audi 2018-04-23\n",
      "iphone 2018-05-09\n",
      "razor 2018-09-29\n",
      "couch 2018-10-05\n",
      "bicycle 2018-09-26\n",
      "PC 2018-03-25\n",
      "shoerack 2018-10-24\n",
      "saab 2018-11-21\n",
      "wardrobe 2018-10-23\n"
     ]
    }
   ],
   "source": [
    "fh = open(\"../downloads/blocket_listings.txt\", \"r\", encoding = \"utf-8\")\n",
    "\n",
    "for line in fh:\n",
    "    line_strip = line.strip()\n",
    "    if not line_strip.startswith(\"item\"):\n",
    "        line_split = line_strip.split(\"\\t\")\n",
    "        item_name = line_split[0]\n",
    "        date = line_split[4]\n",
    "        buy_sell = line_split[2]\n",
    "        \n",
    "        if buy_sell == \"sell\":\n",
    "            print(item_name, date)"
   ]
  },
  {
   "cell_type": "markdown",
   "metadata": {},
   "source": [
    "6. Save all the sold items in a list, and print the list in the end (Tip! create an empty list before the loop"
   ]
  },
  {
   "cell_type": "code",
   "execution_count": 15,
   "metadata": {},
   "outputs": [
    {
     "name": "stdout",
     "output_type": "stream",
     "text": [
      "[['desk', 'furniture', 'sell', '2000', '2018-01-14'], ['couch', 'furniture', 'sell', '500', '2018-10-05'], ['shoerack', 'furniture', 'sell', '200', '2018-10-24'], ['wardrobe', 'furniture', 'sell', '300', '2018-10-23']]\n"
     ]
    }
   ],
   "source": [
    "fh = open(\"../downloads/blocket_listings.txt\", \"r\", encoding = \"utf-8\")\n",
    "\n",
    "interesting_items = []\n",
    "\n",
    "for line in fh:\n",
    "    line_strip = line.strip()\n",
    "    if not line_strip.startswith(\"item\"):\n",
    "        line_split = line_strip.split(\"\\t\")\n",
    "        item_name = line_split[0]\n",
    "        category = line_split[1]\n",
    "        buy_sell = line_split[2]\n",
    "        price = int(line_split[3])\n",
    "        date = line_split[4]\n",
    "                \n",
    "        if buy_sell == \"sell\" and category == \"furniture\":\n",
    "                interesting_items.append(line_split)\n",
    "\n",
    "print(interesting_items)"
   ]
  },
  {
   "cell_type": "markdown",
   "metadata": {},
   "source": [
    "7. Now we are only interested in sold items in the furniture category, print the list for these (Tip! use an `and` statement)"
   ]
  },
  {
   "cell_type": "code",
   "execution_count": null,
   "metadata": {},
   "outputs": [],
   "source": [
    "fh = open(\"../downloads/blocket_listings.txt\", \"r\", encoding = \"utf-8\")\n",
    "\n",
    "interesting_items = []\n",
    "\n",
    "for line in fh:\n",
    "    line_strip = line.strip()\n",
    "    if not line_strip.startswith(\"item\"):\n",
    "        line_split = line_strip.split(\"\\t\")\n",
    "        item_name = line_split[0]\n",
    "        date = line_split[4]\n",
    "        buy_sell = line_split[2]\n",
    "        \n",
    "        if buy_sell == \"sell\":\n",
    "            #print(item_name, date)\n",
    "            interesting_items.append(line_split)\n",
    "\n",
    "print(interesting_items)"
   ]
  },
  {
   "cell_type": "markdown",
   "metadata": {},
   "source": [
    "8. Print a list of all furniture sold in October (Tip! split date to get month)"
   ]
  },
  {
   "cell_type": "code",
   "execution_count": 20,
   "metadata": {},
   "outputs": [
    {
     "name": "stdout",
     "output_type": "stream",
     "text": [
      "[['couch', 'furniture', 'sell', '500', '2018-10-05'], ['shoerack', 'furniture', 'sell', '200', '2018-10-24'], ['wardrobe', 'furniture', 'sell', '300', '2018-10-23']]\n"
     ]
    }
   ],
   "source": [
    "fh = open(\"../downloads/blocket_listings.txt\", \"r\", encoding = \"utf-8\")\n",
    "\n",
    "interesting_items = []\n",
    "\n",
    "for line in fh:\n",
    "    line_strip = line.strip()\n",
    "    if not line_strip.startswith(\"item\"):\n",
    "        line_split = line_strip.split(\"\\t\")\n",
    "        item_name = line_split[0]\n",
    "        category = line_split[1]\n",
    "        buy_sell = line_split[2]\n",
    "        price = int(line_split[3])\n",
    "        date = line_split[4]\n",
    "        date_split = date.split(\"-\")\n",
    "        year = date_split[0]\n",
    "        month = date_split[1]\n",
    "        day = date_split[2]        \n",
    "        \n",
    "        if buy_sell == \"sell\" and category == \"furniture\" and month == \"10\":\n",
    "            interesting_items.append(line_split)\n",
    "\n",
    "print(interesting_items)"
   ]
  },
  {
   "cell_type": "markdown",
   "metadata": {},
   "source": [
    "9. Add a new list containing furniture that was BOUGHT in October. Print both lists \n",
    "    * Tip! You can do an if statement with more than two options! It looks like this:\n",
    "    ```\n",
    "    if some_condition:\n",
    "        do_something()\n",
    "    elif some_other_condition:\n",
    "        do_something_else()\n",
    "    else:\n",
    "        do_nothing()\n",
    "    ```"
   ]
  },
  {
   "cell_type": "code",
   "execution_count": 24,
   "metadata": {},
   "outputs": [
    {
     "name": "stdout",
     "output_type": "stream",
     "text": [
      "[['table', 'furniture', 'buy', '1200', '2018-10-05'], ['lamp', 'furniture', 'buy', '150', '2018-10-23'], ['bed', 'furniture', 'buy', '1000', '2018-10-06'], ['chair', 'furniture', 'buy', '300', '2018-10-03']]\n",
      "[['couch', 'furniture', 'sell', '500', '2018-10-05'], ['shoerack', 'furniture', 'sell', '200', '2018-10-24'], ['wardrobe', 'furniture', 'sell', '300', '2018-10-23']]\n"
     ]
    }
   ],
   "source": [
    "fh = open(\"../downloads/blocket_listings.txt\", \"r\", encoding = \"utf-8\")\n",
    "\n",
    "interesting_items_buy = []\n",
    "interesting_items_sell = []\n",
    "\n",
    "for line in fh:\n",
    "    line_strip = line.strip()\n",
    "    if not line_strip.startswith(\"item\"):\n",
    "        line_split = line_strip.split(\"\\t\")\n",
    "        item_name = line_split[0]\n",
    "        category = line_split[1]\n",
    "        buy_sell = line_split[2]\n",
    "        price = int(line_split[3])\n",
    "        date = line_split[4]\n",
    "        date_split = date.split(\"-\")\n",
    "        year = date_split[0]\n",
    "        month = date_split[1]\n",
    "        day = date_split[2]        \n",
    "        \n",
    "        if category == \"furniture\" and month == \"10\":\n",
    "            if buy_sell == \"sell\": \n",
    "                interesting_items_sell.append(line_split)\n",
    "            elif buy_sell == \"buy\":\n",
    "                interesting_items_buy.append(line_split)\n",
    "\n",
    "print(interesting_items_buy)\n",
    "print(interesting_items_sell)"
   ]
  },
  {
   "cell_type": "markdown",
   "metadata": {},
   "source": [
    "10. Finally, write this information to a file called 'blocket_listings_selected.txt' that looks like this:  \n",
    "\n",
    "Furniture sold in October are:  \n",
    "[list of items, one per line]  \n",
    "\n",
    "Furniture bought in October are:  \n",
    "[list of items, one per line]"
   ]
  },
  {
   "cell_type": "code",
   "execution_count": 27,
   "metadata": {},
   "outputs": [],
   "source": [
    "fh = open(\"../downloads/blocket_listings.txt\", \"r\", encoding = \"utf-8\")\n",
    "out = open(\"blocket_listings_selected.txt\", \"w\") # \"a\"\n",
    "interesting_items_buy = []\n",
    "interesting_items_sell = []\n",
    "\n",
    "for line in fh:\n",
    "    line_strip = line.strip()\n",
    "    if not line_strip.startswith(\"item\"):\n",
    "        line_split = line_strip.split(\"\\t\")\n",
    "        item_name = line_split[0]\n",
    "        category = line_split[1]\n",
    "        buy_sell = line_split[2]\n",
    "        price = int(line_split[3])\n",
    "        date = line_split[4]\n",
    "        date_split = date.split(\"-\")\n",
    "        year = date_split[0]\n",
    "        month = date_split[1]\n",
    "        day = date_split[2]        \n",
    "        \n",
    "        if category == \"furniture\" and month == \"10\":\n",
    "            if buy_sell == \"sell\": \n",
    "                interesting_items_sell.append(line_split)\n",
    "            elif buy_sell == \"buy\":\n",
    "                interesting_items_buy.append(line_split)\n",
    "\n",
    "out.write(\"Furniture sold in October are:\\n\")\n",
    "\n",
    "for item in interesting_items_sell:\n",
    "    out.write(str(item) + \"\\n\")\n",
    "    \n",
    "out.write(\"\\nFurniture bought in October are:\\n\")\n",
    "\n",
    "for item in interesting_items_buy:\n",
    "    out.write(str(item) + \"\\n\")\n",
    "\n",
    "fh.close()\n",
    "out.close()"
   ]
  },
  {
   "cell_type": "code",
   "execution_count": 28,
   "metadata": {},
   "outputs": [
    {
     "name": "stdout",
     "output_type": "stream",
     "text": [
      "Furniture sold in October are:\r\n",
      "['couch', 'furniture', 'sell', '500', '2018-10-05']\r\n",
      "['shoerack', 'furniture', 'sell', '200', '2018-10-24']\r\n",
      "['wardrobe', 'furniture', 'sell', '300', '2018-10-23']\r\n",
      "\r\n",
      "Furniture bought in October are:\r\n",
      "['table', 'furniture', 'buy', '1200', '2018-10-05']\r\n",
      "['lamp', 'furniture', 'buy', '150', '2018-10-23']\r\n",
      "['bed', 'furniture', 'buy', '1000', '2018-10-06']\r\n",
      "['chair', 'furniture', 'buy', '300', '2018-10-03']\r\n"
     ]
    }
   ],
   "source": [
    "!cat blocket_listings_selected.txt"
   ]
  }
 ],
 "metadata": {
  "kernelspec": {
   "display_name": "Python 3 (ipykernel)",
   "language": "python",
   "name": "python3"
  },
  "language_info": {
   "codemirror_mode": {
    "name": "ipython",
    "version": 3
   },
   "file_extension": ".py",
   "mimetype": "text/x-python",
   "name": "python",
   "nbconvert_exporter": "python",
   "pygments_lexer": "ipython3",
   "version": "3.9.4"
  }
 },
 "nbformat": 4,
 "nbformat_minor": 2
}
