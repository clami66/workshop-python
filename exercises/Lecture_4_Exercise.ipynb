{
 "cells": [
  {
   "cell_type": "markdown",
   "metadata": {},
   "source": [
    "## Exercise: IMDb (again)\n",
    "\n",
    "Download the 250.imdb file from the course website\n",
    "\n",
    "This format of this file is:  \n",
    "- Line by line  \n",
    "- Columns separated by the \\| character\n",
    "- Header starting with #\n",
    "\n",
    "\\# Votes | Rating | Year | Runtime | URL | Genres | Title"
   ]
  },
  {
   "cell_type": "markdown",
   "metadata": {},
   "source": [
    "If you haven't downloaded 250.imdb yet, you can by running the following. This will automatically put the file in the same folder as the notebook."
   ]
  },
  {
   "cell_type": "code",
   "execution_count": null,
   "metadata": {},
   "outputs": [],
   "source": [
    "!wget https://github.com/clami66/workshop-python/raw/0422/downloads/250.imdb"
   ]
  },
  {
   "cell_type": "markdown",
   "metadata": {},
   "source": [
    "**NB** If you use MobaXterm and you cannot find the home folder on your drive, run the following command from the MobaXterm terminal (including the dot at the end):\n",
    "\n",
    "`explorer.exe .` \n",
    "\n",
    "This will open the location from which you are running this notebook in your file explorer."
   ]
  },
  {
   "cell_type": "markdown",
   "metadata": {},
   "source": [
    "### 1. Find the movie with the highest rating"
   ]
  },
  {
   "cell_type": "code",
   "execution_count": null,
   "metadata": {},
   "outputs": [],
   "source": [
    "fh   = open(\"250.imdb\", \"r\", encoding = \"utf-8\")\n",
    "\n",
    "..."
   ]
  },
  {
   "cell_type": "markdown",
   "metadata": {},
   "source": [
    "### 2. Find the number of unique genres\n",
    "\n",
    "Be careful with upper and lowercase genre names!"
   ]
  },
  {
   "cell_type": "code",
   "execution_count": null,
   "metadata": {},
   "outputs": [],
   "source": [
    "fh   = open(\"250.imdb\", \"r\", encoding = \"utf-8\")\n",
    "\n",
    "..."
   ]
  },
  {
   "cell_type": "markdown",
   "metadata": {},
   "source": [
    "### 3. Find how many movies for each genre\n",
    "\n",
    "This means printing something like:\n",
    "```\n",
    "X movies are of Adventure genre,\n",
    "Y movies are of Drama genre\n",
    "...\n",
    "```"
   ]
  },
  {
   "cell_type": "code",
   "execution_count": null,
   "metadata": {},
   "outputs": [],
   "source": [
    "fh   = open(\"250.imdb\", \"r\", encoding = \"utf-8\")\n",
    "\n",
    "..."
   ]
  }
 ],
 "metadata": {
  "kernelspec": {
   "display_name": "Python 3 (ipykernel)",
   "language": "python",
   "name": "python3"
  },
  "language_info": {
   "codemirror_mode": {
    "name": "ipython",
    "version": 3
   },
   "file_extension": ".py",
   "mimetype": "text/x-python",
   "name": "python",
   "nbconvert_exporter": "python",
   "pygments_lexer": "ipython3",
   "version": "3.9.4"
  }
 },
 "nbformat": 4,
 "nbformat_minor": 4
}
