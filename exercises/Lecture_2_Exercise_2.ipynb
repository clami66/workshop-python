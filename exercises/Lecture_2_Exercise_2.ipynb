{
 "cells": [
  {
   "cell_type": "markdown",
   "metadata": {},
   "source": [
    "## Notebook 3"
   ]
  },
  {
   "cell_type": "markdown",
   "metadata": {},
   "source": [
    "## For loops\n"
   ]
  },
  {
   "cell_type": "markdown",
   "metadata": {},
   "source": [
    "Write a `for loop` that prints each item in the list `['python','perl','java','C++']`"
   ]
  },
  {
   "cell_type": "code",
   "execution_count": null,
   "metadata": {},
   "outputs": [],
   "source": [
    "languages = ['python','perl','java','C++']   # Save all languages to a list\n",
    "..."
   ]
  },
  {
   "cell_type": "markdown",
   "metadata": {},
   "source": [
    "Now modify your code so that it prints only the second character in each item (so: `y, e, a, +`)"
   ]
  },
  {
   "cell_type": "code",
   "execution_count": null,
   "metadata": {},
   "outputs": [],
   "source": [
    "languages = ['python','perl','java','C++']\n",
    "...                    # language is an iterable item in fruits, so you can use index to access characters"
   ]
  },
  {
   "cell_type": "markdown",
   "metadata": {},
   "source": [
    "## While loops"
   ]
  },
  {
   "cell_type": "markdown",
   "metadata": {},
   "source": [
    "Write a `while loop` that prints each item in the list `['python','perl','java','C++']`"
   ]
  },
  {
   "cell_type": "code",
   "execution_count": null,
   "metadata": {},
   "outputs": [],
   "source": [
    "languages = ['python','perl','java','C++']     # Save all languages to a list\n",
    "i = 0                                          # Set a counter on where to start in the list (0)\n",
    "while i ...                                    # Don't forget to increase i with 1, otherwise you have an infinite loop"
   ]
  },
  {
   "cell_type": "markdown",
   "metadata": {},
   "source": [
    "Modify your script so that it prints each item in the list + which position it has in the list:  \n",
    "`python has position 0 in the list`  \n",
    "`perl has position 1 in the list`  \n",
    "`java has position 2 in the list`  \n",
    "`C++ has position 3 in the list`  "
   ]
  },
  {
   "cell_type": "code",
   "execution_count": null,
   "metadata": {},
   "outputs": [],
   "source": [
    "languages = ['python','perl','java','C++']\n",
    "i = 0                                          \n",
    "while i ..."
   ]
  },
  {
   "cell_type": "markdown",
   "metadata": {},
   "source": [
    "## If / Else statements\n",
    "\n",
    "`numberList = [1,3,6,8,13,19,20,21]`\n",
    "\n",
    "1. If the total sum of the list is 80 or more, print what the sum is. If the sum is less than 80, print what the length of the list is"
   ]
  },
  {
   "cell_type": "code",
   "execution_count": null,
   "metadata": {},
   "outputs": [],
   "source": [
    "numberList = [1,3,6,8,13,19,20]\n",
    "\n",
    "if ..."
   ]
  },
  {
   "cell_type": "markdown",
   "metadata": {},
   "source": [
    "2. If the total sum of the list is 80 or more, print what the maximum is. Otherwise, check if the length of the list is less than 20 and print the length of the list, if not, print 'It's a long list'\n",
    "\n",
    "\n",
    "Try adding numbers to your list and see if you can make your code evaluate all different outcomes\n",
    "<br></br>\n",
    "<br></br>\n"
   ]
  },
  {
   "cell_type": "code",
   "execution_count": null,
   "metadata": {},
   "outputs": [],
   "source": [
    "if ... # replace ... with the right condition    \n",
    "    print('The maximum in the list is '+str(max(numberList)))\n",
    "else:\n",
    "    if ... # replace ... with the right condition. Why is this if indented inside the \"else\"?"
   ]
  }
 ],
 "metadata": {
  "kernelspec": {
   "display_name": "Python 3 (ipykernel)",
   "language": "python",
   "name": "python3"
  },
  "language_info": {
   "codemirror_mode": {
    "name": "ipython",
    "version": 3
   },
   "file_extension": ".py",
   "mimetype": "text/x-python",
   "name": "python",
   "nbconvert_exporter": "python",
   "pygments_lexer": "ipython3",
   "version": "3.9.4"
  }
 },
 "nbformat": 4,
 "nbformat_minor": 2
}
