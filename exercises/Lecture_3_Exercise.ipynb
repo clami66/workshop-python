{
 "cells": [
  {
   "cell_type": "markdown",
   "metadata": {},
   "source": [
    "## Notebook 3"
   ]
  },
  {
   "cell_type": "markdown",
   "metadata": {},
   "source": [
    "## Open / Close files"
   ]
  },
  {
   "cell_type": "markdown",
   "metadata": {},
   "source": [
    "## Blocket ads\n",
    "\n",
    "Blocket is a Swedish site for buying or selling things, much like eBay. In the file `blocket_listings.txt` you will find a list of ads that has been put up on the site. You can download the file from [this link](https://raw.githubusercontent.com/clami66/workshop-python/0422/downloads/blocket_listings.txt) (`right click -> Save link as`) and save it in the same folder as this notebook. If you save it elsewhere, you will have to fix the path accordingly when you `open()` the file!\n",
    "\n",
    "1. Your first task is to make a small python script that takes this file as input, loops over the lines, and prints the content line by line. (Tip! Use strip to remove the newlines)  \n",
    "\n",
    "2. As we are not interested in the headers, don't print the header line (Tip! use startswith())  \n",
    "\n",
    "3. Save each word in the line as an element in a list and print the list (Tip! use split())  \n",
    "\n",
    "4. Save each element in the list to a separate variable and print the name of the item and the date. (Tip! make sure the values are of the correct type also) \n",
    "\n",
    "5. Only print items and dates that has been sold, not bought (Tip! use an if statement)   \n",
    "\n",
    "6. Save all the sold items in a list, and print the list in the end (Tip! create an empty list before the loop, and use append())  \n",
    "\n",
    "7. Now we are only interested in sold items in the furniture category, print the list for these (Tip! use an AND statement)  \n",
    "\n",
    "8. Print a list of all furniture sold in October (Tip! split date to get month)  \n",
    "\n",
    "9. Add a new list containing furniture that was BOUGHT in October. Print both lists (Tip! make a nested if statement)  \n",
    "\n",
    "10. Finally, write this information to a file called 'blocket_listings_selected.txt' that looks like this:  \n",
    "\n",
    "<i>Furniture sold in October are:</i>  \n",
    "<i>[list of items, one per line]</i>\n",
    "\n",
    "<i>Furniture bought in October are:</i>  \n",
    "<i>[list of items, one per line]</i>"
   ]
  },
  {
   "cell_type": "markdown",
   "metadata": {},
   "source": [
    "### Blocket ads - Answer\n",
    "\n",
    "Below we demonstrate one way of solving this, there are of course other correct solutions."
   ]
  },
  {
   "cell_type": "markdown",
   "metadata": {},
   "source": [
    "1. Your first task is to make a small python script that takes this file as input, loops over the lines, and prints the content line by line. (Tip! Use strip to remove the newlines)"
   ]
  },
  {
   "cell_type": "code",
   "execution_count": null,
   "metadata": {},
   "outputs": [],
   "source": [
    "fh = open(\"blocket_listings.txt\", \"r\", encoding = \"utf-8\")   # we open a handle to the file\n",
    "\n",
    "for ..."
   ]
  },
  {
   "cell_type": "markdown",
   "metadata": {},
   "source": [
    "2. As we are not interested in the headers, don't print the header line. You can also use the `startswith()` function to do this:"
   ]
  },
  {
   "cell_type": "code",
   "execution_count": 5,
   "metadata": {},
   "outputs": [
    {
     "name": "stdout",
     "output_type": "stream",
     "text": [
      "the first string is a header\n",
      "the second string is not a header\n"
     ]
    }
   ],
   "source": [
    "# example for startswith()\n",
    "\n",
    "text1 = \"Header line!\"\n",
    "text2 = \"not a header line!\"\n",
    "\n",
    "if text1.startswith(\"Header\"):\n",
    "    print(\"the first string is a header\")\n",
    "    \n",
    "if not text2.startswith(\"Header\"):\n",
    "    print(\"the second string is not a header\")"
   ]
  },
  {
   "cell_type": "code",
   "execution_count": null,
   "metadata": {},
   "outputs": [],
   "source": [
    "fh = open(\"blocket_listings.txt\", \"r\", encoding = \"utf-8\")\n",
    "\n",
    "for ..."
   ]
  },
  {
   "cell_type": "markdown",
   "metadata": {},
   "source": [
    "3. Save each word in the line as an element in a list and print the list (Tip! use split())"
   ]
  },
  {
   "cell_type": "code",
   "execution_count": null,
   "metadata": {},
   "outputs": [],
   "source": [
    "fh = open(\"blocket_listings.txt\", \"r\", encoding = \"utf-8\")\n",
    "\n",
    "for ..."
   ]
  },
  {
   "cell_type": "markdown",
   "metadata": {},
   "source": [
    "4. Save each element in the list to a separate variable and print the name of the item and the date. (Tip! make sure the values are of the correct type also)"
   ]
  },
  {
   "cell_type": "code",
   "execution_count": null,
   "metadata": {},
   "outputs": [],
   "source": [
    "fh = open(\"blocket_listings.txt\", \"r\", encoding = \"utf-8\")\n",
    "\n",
    "for ..."
   ]
  },
  {
   "cell_type": "markdown",
   "metadata": {},
   "source": [
    "5. Only print items and dates that has been sold, not bought (Tip! use an if statement)"
   ]
  },
  {
   "cell_type": "code",
   "execution_count": null,
   "metadata": {},
   "outputs": [],
   "source": [
    "fh = open(\"blocket_listings.txt\", \"r\", encoding = \"utf-8\")\n",
    "\n",
    "for ..."
   ]
  },
  {
   "cell_type": "markdown",
   "metadata": {},
   "source": [
    "6. Save all the sold items in a list, and print the list in the end (Tip! create an empty list before the loop"
   ]
  },
  {
   "cell_type": "code",
   "execution_count": null,
   "metadata": {},
   "outputs": [],
   "source": [
    "fh = open(\"blocket_listings.txt\", \"r\", encoding = \"utf-8\")\n",
    "\n",
    "itemlist = []                # create empty list where we can save sold items\n",
    "\n",
    "for ..."
   ]
  },
  {
   "cell_type": "markdown",
   "metadata": {},
   "source": [
    "7. Now we are only interested in sold items in the furniture category, print the list for these (Tip! use an `and` statement)"
   ]
  },
  {
   "cell_type": "code",
   "execution_count": null,
   "metadata": {},
   "outputs": [],
   "source": [
    "fh = open(\"blocket_listings.txt\", \"r\", encoding = \"utf-8\")\n",
    "\n",
    "itemlist = []                \n",
    "\n",
    "for ..."
   ]
  },
  {
   "cell_type": "markdown",
   "metadata": {},
   "source": [
    "8. Print a list of all furniture sold in October (Tip! split date to get month)"
   ]
  },
  {
   "cell_type": "code",
   "execution_count": null,
   "metadata": {},
   "outputs": [],
   "source": [
    "fh = open(\"blocket_listings.txt\", \"r\", encoding = \"utf-8\")\n",
    "\n",
    "itemlist = []                \n",
    "\n",
    "for ..."
   ]
  },
  {
   "cell_type": "markdown",
   "metadata": {},
   "source": [
    "9. Add a new list containing furniture that was BOUGHT in October. Print both lists \n",
    "    * Tip! You can do an if statement with more than two options! It looks like this:\n",
    "    ```\n",
    "    if some_condition:\n",
    "        do_something()\n",
    "    elif some_other_condition:\n",
    "        do_something_else()\n",
    "    else:\n",
    "        do_nothing()\n",
    "    ```"
   ]
  },
  {
   "cell_type": "code",
   "execution_count": null,
   "metadata": {},
   "outputs": [],
   "source": [
    "fh = open(\"blocket_listings.txt\", \"r\", encoding = \"utf-8\")\n",
    "\n",
    "itemlist_sell = []\n",
    "itemlist_buy  = []\n",
    "\n",
    "for ..."
   ]
  },
  {
   "cell_type": "markdown",
   "metadata": {},
   "source": [
    "10. Finally, write this information to a file called 'blocket_listings_selected.txt' that looks like this:  \n",
    "\n",
    "Furniture sold in October are:  \n",
    "[list of items, one per line]  \n",
    "\n",
    "Furniture bought in October are:  \n",
    "[list of items, one per line]"
   ]
  },
  {
   "cell_type": "code",
   "execution_count": null,
   "metadata": {},
   "outputs": [],
   "source": [
    "fh = open(\"blocket_listings.txt\", \"r\", encoding = \"utf-8\")\n",
    "\n",
    "itemlist_sell = []\n",
    "itemlist_buy  = []\n",
    "\n",
    "for ...\n",
    "\n",
    "out = open(\"blocket_listings_selected.txt\",\"w\", encoding = \"utf-8\")   # open a new file for writing\n",
    "# close file after writing"
   ]
  }
 ],
 "metadata": {
  "kernelspec": {
   "display_name": "Python 3 (ipykernel)",
   "language": "python",
   "name": "python3"
  },
  "language_info": {
   "codemirror_mode": {
    "name": "ipython",
    "version": 3
   },
   "file_extension": ".py",
   "mimetype": "text/x-python",
   "name": "python",
   "nbconvert_exporter": "python",
   "pygments_lexer": "ipython3",
   "version": "3.9.4"
  }
 },
 "nbformat": 4,
 "nbformat_minor": 2
}
